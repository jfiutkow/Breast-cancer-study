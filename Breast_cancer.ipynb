{
 "cells": [
  {
   "cell_type": "code",
   "execution_count": 1,
   "metadata": {},
   "outputs": [],
   "source": [
    "import pandas as pd\n",
    "import numpy as np\n",
    "from numpy.random import randn\n",
    "import matplotlib.pyplot as plt\n",
    "%matplotlib inline\n",
    "import seaborn as sns\n",
    "import plotly.express as px\n",
    "import warnings\n",
    "warnings.simplefilter(action='ignore', category=FutureWarning)\n",
    "from sklearn.neighbors import KNeighborsRegressor, KNeighborsClassifier, LocalOutlierFactor\n",
    "from sklearn.linear_model import LinearRegression, LogisticRegression, RidgeClassifier, SGDClassifier, PassiveAggressiveClassifier\n",
    "from sklearn.tree import DecisionTreeClassifier, ExtraTreeClassifier\n",
    "from sklearn.ensemble import IsolationForest, GradientBoostingClassifier, ExtraTreesClassifier, RandomForestClassifier, BaggingClassifier, AdaBoostClassifier\n",
    "from xgboost import XGBClassifier\n",
    "from sklearn.svm import OneClassSVM, SVC\n",
    "from sklearn.naive_bayes import GaussianNB\n",
    "from sklearn.preprocessing import RobustScaler, LabelEncoder\n",
    "from sklearn.impute import SimpleImputer\n",
    "from sklearn.pipeline import Pipeline, FeatureUnion\n",
    "from sklearn.compose import ColumnTransformer\n",
    "from sklearn.feature_selection import SelectKBest\n",
    "from sklearn.feature_extraction import DictVectorizer\n",
    "from sklearn.decomposition import PCA\n",
    "from sklearn.model_selection import GridSearchCV, RandomizedSearchCV, KFold, StratifiedKFold, train_test_split, cross_val_score\n",
    "from sklearn.metrics import precision_score, recall_score, make_scorer, classification_report, accuracy_score, confusion_matrix, log_loss\n",
    "from keras.models import Sequential\n",
    "from keras.layers import Dense, Dropout\n",
    "# Increases the size of sns plots\n",
    "sns.set(rc={'figure.figsize':(5,5)})\n",
    "sns.set_style('darkgrid')"
   ]
  },
  {
   "cell_type": "markdown",
   "metadata": {},
   "source": [
    "### Overview\n",
    "In this excersie we are going to compare different methods of predicting type of breast cancer (B/M). We are particularly interested in comparing standard linear and nonliner classification algorithms with simple Artificial Neural Network architecture."
   ]
  },
  {
   "cell_type": "markdown",
   "metadata": {},
   "source": [
    "### Data Set Information\n",
    "Features are computed from a digitized image of a fine needle aspirate (FNA) of a breast mass. They describe characteristics of the cell nuclei present in the image.\n",
    "\n",
    "Attribute Information:\n",
    "1) ID number\n",
    "2) Diagnosis (M = malignant, B = benign)\n",
    "3-32)\n",
    "\n",
    "Ten real-valued features are computed for each cell nucleus:\n",
    "- radius (mean of distances from center to points on the perimeter)\n",
    "- texture (standard deviation of gray-scale values)\n",
    "- perimeter\n",
    "- area\n",
    "- smoothness (local variation in radius lengths)\n",
    "- compactness (perimeter^2 / area - 1.0)\n",
    "- concavity (severity of concave portions of the contour)\n",
    "- concave points (number of concave portions of the contour)\n",
    "- symmetry\n",
    "- fractal dimension (\"coastline approximation\" - 1)\n",
    "\n",
    "Source: https://archive.ics.uci.edu/ml/datasets/Breast+Cancer+Wisconsin+%28Diagnostic%29"
   ]
  },
  {
   "cell_type": "code",
   "execution_count": 7,
   "metadata": {},
   "outputs": [
    {
     "data": {
      "text/html": [
       "<div>\n",
       "<style scoped>\n",
       "    .dataframe tbody tr th:only-of-type {\n",
       "        vertical-align: middle;\n",
       "    }\n",
       "\n",
       "    .dataframe tbody tr th {\n",
       "        vertical-align: top;\n",
       "    }\n",
       "\n",
       "    .dataframe thead th {\n",
       "        text-align: right;\n",
       "    }\n",
       "</style>\n",
       "<table border=\"1\" class=\"dataframe\">\n",
       "  <thead>\n",
       "    <tr style=\"text-align: right;\">\n",
       "      <th></th>\n",
       "      <th>0</th>\n",
       "      <th>1</th>\n",
       "      <th>2</th>\n",
       "      <th>3</th>\n",
       "      <th>4</th>\n",
       "      <th>5</th>\n",
       "      <th>6</th>\n",
       "      <th>7</th>\n",
       "      <th>8</th>\n",
       "      <th>9</th>\n",
       "      <th>...</th>\n",
       "      <th>22</th>\n",
       "      <th>23</th>\n",
       "      <th>24</th>\n",
       "      <th>25</th>\n",
       "      <th>26</th>\n",
       "      <th>27</th>\n",
       "      <th>28</th>\n",
       "      <th>29</th>\n",
       "      <th>30</th>\n",
       "      <th>31</th>\n",
       "    </tr>\n",
       "  </thead>\n",
       "  <tbody>\n",
       "    <tr>\n",
       "      <th>0</th>\n",
       "      <td>842302</td>\n",
       "      <td>M</td>\n",
       "      <td>17.99</td>\n",
       "      <td>10.38</td>\n",
       "      <td>122.80</td>\n",
       "      <td>1001.0</td>\n",
       "      <td>0.11840</td>\n",
       "      <td>0.27760</td>\n",
       "      <td>0.3001</td>\n",
       "      <td>0.14710</td>\n",
       "      <td>...</td>\n",
       "      <td>25.38</td>\n",
       "      <td>17.33</td>\n",
       "      <td>184.60</td>\n",
       "      <td>2019.0</td>\n",
       "      <td>0.1622</td>\n",
       "      <td>0.6656</td>\n",
       "      <td>0.7119</td>\n",
       "      <td>0.2654</td>\n",
       "      <td>0.4601</td>\n",
       "      <td>0.11890</td>\n",
       "    </tr>\n",
       "    <tr>\n",
       "      <th>1</th>\n",
       "      <td>842517</td>\n",
       "      <td>M</td>\n",
       "      <td>20.57</td>\n",
       "      <td>17.77</td>\n",
       "      <td>132.90</td>\n",
       "      <td>1326.0</td>\n",
       "      <td>0.08474</td>\n",
       "      <td>0.07864</td>\n",
       "      <td>0.0869</td>\n",
       "      <td>0.07017</td>\n",
       "      <td>...</td>\n",
       "      <td>24.99</td>\n",
       "      <td>23.41</td>\n",
       "      <td>158.80</td>\n",
       "      <td>1956.0</td>\n",
       "      <td>0.1238</td>\n",
       "      <td>0.1866</td>\n",
       "      <td>0.2416</td>\n",
       "      <td>0.1860</td>\n",
       "      <td>0.2750</td>\n",
       "      <td>0.08902</td>\n",
       "    </tr>\n",
       "    <tr>\n",
       "      <th>2</th>\n",
       "      <td>84300903</td>\n",
       "      <td>M</td>\n",
       "      <td>19.69</td>\n",
       "      <td>21.25</td>\n",
       "      <td>130.00</td>\n",
       "      <td>1203.0</td>\n",
       "      <td>0.10960</td>\n",
       "      <td>0.15990</td>\n",
       "      <td>0.1974</td>\n",
       "      <td>0.12790</td>\n",
       "      <td>...</td>\n",
       "      <td>23.57</td>\n",
       "      <td>25.53</td>\n",
       "      <td>152.50</td>\n",
       "      <td>1709.0</td>\n",
       "      <td>0.1444</td>\n",
       "      <td>0.4245</td>\n",
       "      <td>0.4504</td>\n",
       "      <td>0.2430</td>\n",
       "      <td>0.3613</td>\n",
       "      <td>0.08758</td>\n",
       "    </tr>\n",
       "    <tr>\n",
       "      <th>3</th>\n",
       "      <td>84348301</td>\n",
       "      <td>M</td>\n",
       "      <td>11.42</td>\n",
       "      <td>20.38</td>\n",
       "      <td>77.58</td>\n",
       "      <td>386.1</td>\n",
       "      <td>0.14250</td>\n",
       "      <td>0.28390</td>\n",
       "      <td>0.2414</td>\n",
       "      <td>0.10520</td>\n",
       "      <td>...</td>\n",
       "      <td>14.91</td>\n",
       "      <td>26.50</td>\n",
       "      <td>98.87</td>\n",
       "      <td>567.7</td>\n",
       "      <td>0.2098</td>\n",
       "      <td>0.8663</td>\n",
       "      <td>0.6869</td>\n",
       "      <td>0.2575</td>\n",
       "      <td>0.6638</td>\n",
       "      <td>0.17300</td>\n",
       "    </tr>\n",
       "    <tr>\n",
       "      <th>4</th>\n",
       "      <td>84358402</td>\n",
       "      <td>M</td>\n",
       "      <td>20.29</td>\n",
       "      <td>14.34</td>\n",
       "      <td>135.10</td>\n",
       "      <td>1297.0</td>\n",
       "      <td>0.10030</td>\n",
       "      <td>0.13280</td>\n",
       "      <td>0.1980</td>\n",
       "      <td>0.10430</td>\n",
       "      <td>...</td>\n",
       "      <td>22.54</td>\n",
       "      <td>16.67</td>\n",
       "      <td>152.20</td>\n",
       "      <td>1575.0</td>\n",
       "      <td>0.1374</td>\n",
       "      <td>0.2050</td>\n",
       "      <td>0.4000</td>\n",
       "      <td>0.1625</td>\n",
       "      <td>0.2364</td>\n",
       "      <td>0.07678</td>\n",
       "    </tr>\n",
       "  </tbody>\n",
       "</table>\n",
       "<p>5 rows × 32 columns</p>\n",
       "</div>"
      ],
      "text/plain": [
       "         0  1      2      3       4       5        6        7       8   \\\n",
       "0    842302  M  17.99  10.38  122.80  1001.0  0.11840  0.27760  0.3001   \n",
       "1    842517  M  20.57  17.77  132.90  1326.0  0.08474  0.07864  0.0869   \n",
       "2  84300903  M  19.69  21.25  130.00  1203.0  0.10960  0.15990  0.1974   \n",
       "3  84348301  M  11.42  20.38   77.58   386.1  0.14250  0.28390  0.2414   \n",
       "4  84358402  M  20.29  14.34  135.10  1297.0  0.10030  0.13280  0.1980   \n",
       "\n",
       "        9   ...     22     23      24      25      26      27      28      29  \\\n",
       "0  0.14710  ...  25.38  17.33  184.60  2019.0  0.1622  0.6656  0.7119  0.2654   \n",
       "1  0.07017  ...  24.99  23.41  158.80  1956.0  0.1238  0.1866  0.2416  0.1860   \n",
       "2  0.12790  ...  23.57  25.53  152.50  1709.0  0.1444  0.4245  0.4504  0.2430   \n",
       "3  0.10520  ...  14.91  26.50   98.87   567.7  0.2098  0.8663  0.6869  0.2575   \n",
       "4  0.10430  ...  22.54  16.67  152.20  1575.0  0.1374  0.2050  0.4000  0.1625   \n",
       "\n",
       "       30       31  \n",
       "0  0.4601  0.11890  \n",
       "1  0.2750  0.08902  \n",
       "2  0.3613  0.08758  \n",
       "3  0.6638  0.17300  \n",
       "4  0.2364  0.07678  \n",
       "\n",
       "[5 rows x 32 columns]"
      ]
     },
     "execution_count": 7,
     "metadata": {},
     "output_type": "execute_result"
    }
   ],
   "source": [
    "# Reading dataframe\n",
    "df = pd.read_csv(\"wdbc.data.csv\", header=None)\n",
    "df.head()"
   ]
  },
  {
   "cell_type": "code",
   "execution_count": 8,
   "metadata": {},
   "outputs": [],
   "source": [
    "#Inputs from output and splitting into training/test set\n",
    "X = df.iloc[:, 2:].to_numpy()\n",
    "y = df.iloc[:, 1].to_numpy()\n",
    "y = LabelEncoder().fit_transform(y)\n",
    "X_train, X_test, y_train, y_test = train_test_split(X, y, shuffle=True, random_state=111, test_size=0.1)"
   ]
  },
  {
   "cell_type": "markdown",
   "metadata": {},
   "source": [
    "### Basic EDA"
   ]
  },
  {
   "cell_type": "code",
   "execution_count": 6,
   "metadata": {},
   "outputs": [
    {
     "data": {
      "text/plain": [
       "<AxesSubplot: >"
      ]
     },
     "execution_count": 6,
     "metadata": {},
     "output_type": "execute_result"
    },
    {
     "data": {
      "image/png": "[encoded data removed]",
      "text/plain": [
       "<Figure size 2500x1000 with 3 Axes>"
      ]
     },
     "metadata": {},
     "output_type": "display_data"
    }
   ],
   "source": [
    "# Check for missing values\n",
    "import missingno as msno\n",
    "from missingno import bar\n",
    "msno.bar(df)"
   ]
  },
  {
   "cell_type": "markdown",
   "metadata": {},
   "source": [
    "Data is 100% complete."
   ]
  },
  {
   "cell_type": "code",
   "execution_count": 27,
   "metadata": {},
   "outputs": [
    {
     "data": {
      "application/vnd.plotly.v1+json": {
       "config": {
        "plotlyServerURL": "https://plot.ly"
       },
       "data": [
        {
         "alignmentgroup": "True",
         "bingroup": "x",
         "hovertemplate": "2=%{x}<br>count=%{y}<extra></extra>",
         "legendgroup": "",
         "marker": {
          "color": "steelblue",
          "pattern": {
           "shape": ""
          }
         },
         "name": "",
         "offsetgroup": "",
         "orientation": "v",
         "showlegend": false,
         "texttemplate": "%{value}",
         "type": "histogram",
         "x": [
          122.8,
          132.9,
          130,
          77.58,
          135.1,
          82.57,
          119.6,
          90.2,
          87.5,
          83.97,
          102.7,
          103.6,
          132.4,
          103.7,
          93.6,
          96.73,
          94.74,
          108.1,
          130,
          87.46,
          85.63,
          60.34,
          102.5,
          137.2,
          110,
          116,
          97.41,
          122.1,
          102.4,
          115,
          124.8,
          77.93,
          112.8,
          127.9,
          107,
          110.1,
          93.63,
          82.61,
          95.54,
          88.4,
          86.18,
          71.9,
          128.3,
          87.32,
          85.42,
          123.7,
          51.71,
          85.98,
          78.04,
          86.91,
          74.72,
          87.21,
          75.71,
          120.3,
          97.26,
          73.34,
          125.5,
          95.55,
          82.61,
          54.34,
          64.55,
          54.66,
          96.42,
          59.2,
          82.69,
          97.4,
          60.11,
          71.8,
          58.79,
          81.37,
          123.6,
          58.79,
          114.2,
          90.43,
          79.19,
          104.1,
          87.91,
          120.2,
          143.7,
          83.19,
          73.81,
          86.49,
          171.5,
          129.1,
          76.95,
          121.1,
          94.25,
          122,
          79.78,
          95.77,
          94.57,
          100.2,
          84.74,
          86.6,
          100.3,
          132.4,
          77.79,
          62.11,
          74.34,
          94.48,
          88.05,
          43.79,
          77.22,
          63.95,
          67.41,
          87.21,
          75.17,
          79.01,
          152.8,
          72.48,
          62.5,
          82.15,
          97.83,
          68.64,
          55.84,
          76.53,
          58.74,
          98.64,
          105.7,
          114.2,
          73.34,
          121.4,
          166.2,
          94.28,
          86.1,
          88.44,
          87.76,
          123.4,
          99.58,
          130.4,
          79.08,
          101.7,
          106.2,
          102,
          120.2,
          81.72,
          74.72,
          73.06,
          96.85,
          73,
          61.24,
          105.1,
          73.66,
          83.74,
          68.26,
          78.11,
          78.99,
          97.84,
          93.97,
          88.12,
          83.51,
          53.27,
          63.78,
          70.87,
          85.31,
          78.27,
          117.4,
          108.4,
          76.84,
          68.69,
          76.1,
          126.3,
          130.7,
          79.85,
          152.1,
          95.5,
          68.77,
          109.3,
          116.1,
          96.22,
          78.85,
          85.84,
          102.5,
          70.21,
          67.49,
          54.42,
          64.6,
          109.3,
          82.01,
          81.29,
          182.1,
          142.7,
          101.2,
          73.53,
          98.92,
          63.76,
          118.6,
          74.68,
          75.27,
          78.83,
          94.37,
          82.02,
          60.73,
          81.15,
          100.4,
          82.53,
          90.63,
          117.4,
          127.5,
          94.49,
          78.54,
          115.1,
          158.9,
          91.56,
          81.09,
          98.78,
          62.92,
          109.7,
          87.02,
          98.17,
          134.7,
          75.51,
          188.5,
          114.5,
          92.87,
          90.96,
          77.32,
          65.05,
          129.7,
          128,
          87.88,
          88.59,
          65.12,
          102.6,
          84.55,
          92.51,
          66.62,
          97.45,
          81.35,
          85.26,
          113.4,
          71.76,
          70.79,
          134.4,
          60.21,
          89.79,
          153.5,
          132.5,
          92.55,
          113.4,
          87.38,
          78.61,
          73.93,
          88.54,
          129.1,
          66.72,
          84.13,
          84.95,
          68.01,
          73.87,
          138.9,
          73.28,
          130.7,
          113,
          126.5,
          91.43,
          133.6,
          103.2,
          110.2,
          103.7,
          132.9,
          111,
          114.4,
          100,
          111.6,
          135.7,
          69.28,
          87.16,
          82.38,
          69.5,
          90.3,
          72.23,
          147.3,
          61.5,
          115.2,
          76.2,
          71.79,
          120.9,
          86.24,
          88.99,
          126.2,
          74.24,
          127.2,
          108.8,
          84.08,
          79.83,
          77.87,
          81.89,
          73.72,
          72.17,
          96.03,
          97.03,
          83.14,
          75.54,
          81.78,
          88.06,
          69.14,
          75,
          91.22,
          66.85,
          129.5,
          80.43,
          134.7,
          66.86,
          73.59,
          74.23,
          84.07,
          56.36,
          85.69,
          82.71,
          74.33,
          92.68,
          82.29,
          73.73,
          54.09,
          79.19,
          77.25,
          118.7,
          60.07,
          78.6,
          66.52,
          131.1,
          82.82,
          135.9,
          78.01,
          81.25,
          90.03,
          76.09,
          106.9,
          107.5,
          105.8,
          84.52,
          71.94,
          71.38,
          77.88,
          111.8,
          84.08,
          122.9,
          64.41,
          155.1,
          94.15,
          61.64,
          71.49,
          129.9,
          75.03,
          66.2,
          76.66,
          94.87,
          73.02,
          77.23,
          73.7,
          107.1,
          174.2,
          98,
          71.24,
          81.92,
          85.09,
          88.52,
          56.74,
          59.82,
          79.42,
          85.24,
          81.87,
          106.6,
          85.48,
          133.8,
          133.7,
          78.31,
          140.9,
          147.2,
          109,
          97.65,
          141.3,
          134.8,
          87.84,
          106.3,
          70.15,
          85.89,
          88.27,
          73.3,
          73.16,
          70.67,
          78.75,
          80.64,
          85.79,
          93.97,
          78.78,
          88.37,
          73.38,
          128.9,
          65.75,
          55.27,
          102.4,
          144.4,
          78.07,
          89.75,
          88.1,
          83.05,
          70.31,
          75.26,
          124.4,
          76.14,
          84.18,
          83.18,
          78.29,
          70.39,
          104.3,
          82.63,
          117.8,
          78.41,
          72.49,
          70.92,
          59.75,
          97.53,
          96.71,
          76.39,
          59.6,
          102.9,
          80.88,
          70.95,
          74.2,
          98.22,
          75.46,
          89.46,
          61.93,
          63.19,
          67.49,
          68.79,
          70.47,
          80.98,
          102.1,
          81.47,
          133.8,
          123.7,
          94.89,
          91.12,
          82.67,
          89.78,
          88.68,
          89.59,
          71.73,
          112.4,
          88.37,
          66.82,
          117.5,
          77.61,
          117.3,
          95.88,
          94.25,
          138.1,
          76.83,
          127.7,
          76.77,
          93.86,
          80.62,
          86.34,
          74.87,
          84.1,
          82.61,
          61.68,
          111.2,
          186.9,
          92.25,
          73.88,
          84.28,
          86.87,
          85.98,
          61.06,
          119,
          76.38,
          61.49,
          76.85,
          96.45,
          77.42,
          70.41,
          82.89,
          92.41,
          88.97,
          73.99,
          109.8,
          78.29,
          88.73,
          87.32,
          87.76,
          102.8,
          82.85,
          94.21,
          128.1,
          75.49,
          107.1,
          78.18,
          114.6,
          118.4,
          78.83,
          84.06,
          96.12,
          82.69,
          80.45,
          121.3,
          137.8,
          98.73,
          92.33,
          81.25,
          152.1,
          61.49,
          64.12,
          79.47,
          71.25,
          104.7,
          103.8,
          76.31,
          94.66,
          88.64,
          94.29,
          97.26,
          72.76,
          120.8,
          130.5,
          84.45,
          82.51,
          59.96,
          165.5,
          71.3,
          88.73,
          63,
          54.53,
          87.44,
          78.94,
          90.31,
          77.83,
          75.89,
          75.21,
          87.76,
          134.7,
          70.79,
          137.8,
          93.77,
          76.37,
          47.98,
          48.34,
          74.65,
          95.81,
          94.7,
          84.88,
          89.77,
          87.19,
          65.31,
          65.85,
          61.05,
          68.89,
          68.51,
          71.49,
          81.35,
          59.01,
          82.5,
          65.67,
          64.73,
          59.26,
          96.39,
          74.52,
          91.38,
          70.67,
          103.4,
          143,
          142,
          131.2,
          108.3,
          140.1,
          47.92
         ],
         "xaxis": "x",
         "yaxis": "y"
        },
        {
         "alignmentgroup": "True",
         "hovertemplate": "2=%{x}<extra></extra>",
         "legendgroup": "",
         "marker": {
          "color": "steelblue"
         },
         "name": "",
         "notched": true,
         "offsetgroup": "",
         "showlegend": false,
         "type": "box",
         "x": [
          122.8,
          132.9,
          130,
          77.58,
          135.1,
          82.57,
          119.6,
          90.2,
          87.5,
          83.97,
          102.7,
          103.6,
          132.4,
          103.7,
          93.6,
          96.73,
          94.74,
          108.1,
          130,
          87.46,
          85.63,
          60.34,
          102.5,
          137.2,
          110,
          116,
          97.41,
          122.1,
          102.4,
          115,
          124.8,
          77.93,
          112.8,
          127.9,
          107,
          110.1,
          93.63,
          82.61,
          95.54,
          88.4,
          86.18,
          71.9,
          128.3,
          87.32,
          85.42,
          123.7,
          51.71,
          85.98,
          78.04,
          86.91,
          74.72,
          87.21,
          75.71,
          120.3,
          97.26,
          73.34,
          125.5,
          95.55,
          82.61,
          54.34,
          64.55,
          54.66,
          96.42,
          59.2,
          82.69,
          97.4,
          60.11,
          71.8,
          58.79,
          81.37,
          123.6,
          58.79,
          114.2,
          90.43,
          79.19,
          104.1,
          87.91,
          120.2,
          143.7,
          83.19,
          73.81,
          86.49,
          171.5,
          129.1,
          76.95,
          121.1,
          94.25,
          122,
          79.78,
          95.77,
          94.57,
          100.2,
          84.74,
          86.6,
          100.3,
          132.4,
          77.79,
          62.11,
          74.34,
          94.48,
          88.05,
          43.79,
          77.22,
          63.95,
          67.41,
          87.21,
          75.17,
          79.01,
          152.8,
          72.48,
          62.5,
          82.15,
          97.83,
          68.64,
          55.84,
          76.53,
          58.74,
          98.64,
          105.7,
          114.2,
          73.34,
          121.4,
          166.2,
          94.28,
          86.1,
          88.44,
          87.76,
          123.4,
          99.58,
          130.4,
          79.08,
          101.7,
          106.2,
          102,
          120.2,
          81.72,
          74.72,
          73.06,
          96.85,
          73,
          61.24,
          105.1,
          73.66,
          83.74,
          68.26,
          78.11,
          78.99,
          97.84,
          93.97,
          88.12,
          83.51,
          53.27,
          63.78,
          70.87,
          85.31,
          78.27,
          117.4,
          108.4,
          76.84,
          68.69,
          76.1,
          126.3,
          130.7,
          79.85,
          152.1,
          95.5,
          68.77,
          109.3,
          116.1,
          96.22,
          78.85,
          85.84,
          102.5,
          70.21,
          67.49,
          54.42,
          64.6,
          109.3,
          82.01,
          81.29,
          182.1,
          142.7,
          101.2,
          73.53,
          98.92,
          63.76,
          118.6,
          74.68,
          75.27,
          78.83,
          94.37,
          82.02,
          60.73,
          81.15,
          100.4,
          82.53,
          90.63,
          117.4,
          127.5,
          94.49,
          78.54,
          115.1,
          158.9,
          91.56,
          81.09,
          98.78,
          62.92,
          109.7,
          87.02,
          98.17,
          134.7,
          75.51,
          188.5,
          114.5,
          92.87,
          90.96,
          77.32,
          65.05,
          129.7,
          128,
          87.88,
          88.59,
          65.12,
          102.6,
          84.55,
          92.51,
          66.62,
          97.45,
          81.35,
          85.26,
          113.4,
          71.76,
          70.79,
          134.4,
          60.21,
          89.79,
          153.5,
          132.5,
          92.55,
          113.4,
          87.38,
          78.61,
          73.93,
          88.54,
          129.1,
          66.72,
          84.13,
          84.95,
          68.01,
          73.87,
          138.9,
          73.28,
          130.7,
          113,
          126.5,
          91.43,
          133.6,
          103.2,
          110.2,
          103.7,
          132.9,
          111,
          114.4,
          100,
          111.6,
          135.7,
          69.28,
          87.16,
          82.38,
          69.5,
          90.3,
          72.23,
          147.3,
          61.5,
          115.2,
          76.2,
          71.79,
          120.9,
          86.24,
          88.99,
          126.2,
          74.24,
          127.2,
          108.8,
          84.08,
          79.83,
          77.87,
          81.89,
          73.72,
          72.17,
          96.03,
          97.03,
          83.14,
          75.54,
          81.78,
          88.06,
          69.14,
          75,
          91.22,
          66.85,
          129.5,
          80.43,
          134.7,
          66.86,
          73.59,
          74.23,
          84.07,
          56.36,
          85.69,
          82.71,
          74.33,
          92.68,
          82.29,
          73.73,
          54.09,
          79.19,
          77.25,
          118.7,
          60.07,
          78.6,
          66.52,
          131.1,
          82.82,
          135.9,
          78.01,
          81.25,
          90.03,
          76.09,
          106.9,
          107.5,
          105.8,
          84.52,
          71.94,
          71.38,
          77.88,
          111.8,
          84.08,
          122.9,
          64.41,
          155.1,
          94.15,
          61.64,
          71.49,
          129.9,
          75.03,
          66.2,
          76.66,
          94.87,
          73.02,
          77.23,
          73.7,
          107.1,
          174.2,
          98,
          71.24,
          81.92,
          85.09,
          88.52,
          56.74,
          59.82,
          79.42,
          85.24,
          81.87,
          106.6,
          85.48,
          133.8,
          133.7,
          78.31,
          140.9,
          147.2,
          109,
          97.65,
          141.3,
          134.8,
          87.84,
          106.3,
          70.15,
          85.89,
          88.27,
          73.3,
          73.16,
          70.67,
          78.75,
          80.64,
          85.79,
          93.97,
          78.78,
          88.37,
          73.38,
          128.9,
          65.75,
          55.27,
          102.4,
          144.4,
          78.07,
          89.75,
          88.1,
          83.05,
          70.31,
          75.26,
          124.4,
          76.14,
          84.18,
          83.18,
          78.29,
          70.39,
          104.3,
          82.63,
          117.8,
          78.41,
          72.49,
          70.92,
          59.75,
          97.53,
          96.71,
          76.39,
          59.6,
          102.9,
          80.88,
          70.95,
          74.2,
          98.22,
          75.46,
          89.46,
          61.93,
          63.19,
          67.49,
          68.79,
          70.47,
          80.98,
          102.1,
          81.47,
          133.8,
          123.7,
          94.89,
          91.12,
          82.67,
          89.78,
          88.68,
          89.59,
          71.73,
          112.4,
          88.37,
          66.82,
          117.5,
          77.61,
          117.3,
          95.88,
          94.25,
          138.1,
          76.83,
          127.7,
          76.77,
          93.86,
          80.62,
          86.34,
          74.87,
          84.1,
          82.61,
          61.68,
          111.2,
          186.9,
          92.25,
          73.88,
          84.28,
          86.87,
          85.98,
          61.06,
          119,
          76.38,
          61.49,
          76.85,
          96.45,
          77.42,
          70.41,
          82.89,
          92.41,
          88.97,
          73.99,
          109.8,
          78.29,
          88.73,
          87.32,
          87.76,
          102.8,
          82.85,
          94.21,
          128.1,
          75.49,
          107.1,
          78.18,
          114.6,
          118.4,
          78.83,
          84.06,
          96.12,
          82.69,
          80.45,
          121.3,
          137.8,
          98.73,
          92.33,
          81.25,
          152.1,
          61.49,
          64.12,
          79.47,
          71.25,
          104.7,
          103.8,
          76.31,
          94.66,
          88.64,
          94.29,
          97.26,
          72.76,
          120.8,
          130.5,
          84.45,
          82.51,
          59.96,
          165.5,
          71.3,
          88.73,
          63,
          54.53,
          87.44,
          78.94,
          90.31,
          77.83,
          75.89,
          75.21,
          87.76,
          134.7,
          70.79,
          137.8,
          93.77,
          76.37,
          47.98,
          48.34,
          74.65,
          95.81,
          94.7,
          84.88,
          89.77,
          87.19,
          65.31,
          65.85,
          61.05,
          68.89,
          68.51,
          71.49,
          81.35,
          59.01,
          82.5,
          65.67,
          64.73,
          59.26,
          96.39,
          74.52,
          91.38,
          70.67,
          103.4,
          143,
          142,
          131.2,
          108.3,
          140.1,
          47.92
         ],
         "xaxis": "x2",
         "yaxis": "y2"
        }
       ],
       "layout": {
        "bargap": 0.1,
        "barmode": "relative",
        "legend": {
         "tracegroupgap": 0
        },
        "margin": {
         "t": 60
        },
        "template": {
         "data": {
          "bar": [
           {
            "error_x": {
             "color": "rgb(36,36,36)"
            },
            "error_y": {
             "color": "rgb(36,36,36)"
            },
            "marker": {
             "line": {
              "color": "white",
              "width": 0.5
             },
             "pattern": {
              "fillmode": "overlay",
              "size": 10,
              "solidity": 0.2
             }
            },
            "type": "bar"
           }
          ],
          "barpolar": [
           {
            "marker": {
             "line": {
              "color": "white",
              "width": 0.5
             },
             "pattern": {
              "fillmode": "overlay",
              "size": 10,
              "solidity": 0.2
             }
            },
            "type": "barpolar"
           }
          ],
          "carpet": [
           {
            "aaxis": {
             "endlinecolor": "rgb(36,36,36)",
             "gridcolor": "white",
             "linecolor": "white",
             "minorgridcolor": "white",
             "startlinecolor": "rgb(36,36,36)"
            },
            "baxis": {
             "endlinecolor": "rgb(36,36,36)",
             "gridcolor": "white",
             "linecolor": "white",
             "minorgridcolor": "white",
             "startlinecolor": "rgb(36,36,36)"
            },
            "type": "carpet"
           }
          ],
          "choropleth": [
           {
            "colorbar": {
             "outlinewidth": 1,
             "tickcolor": "rgb(36,36,36)",
             "ticks": "outside"
            },
            "type": "choropleth"
           }
          ],
          "contour": [
           {
            "colorbar": {
             "outlinewidth": 1,
             "tickcolor": "rgb(36,36,36)",
             "ticks": "outside"
            },
            "colorscale": [
             [
              0,
              "#440154"
             ],
             [
              0.1111111111111111,
              "#482878"
             ],
             [
              0.2222222222222222,
              "#3e4989"
             ],
             [
              0.3333333333333333,
              "#31688e"
             ],
             [
              0.4444444444444444,
              "#26828e"
             ],
             [
              0.5555555555555556,
              "#1f9e89"
             ],
             [
              0.6666666666666666,
              "#35b779"
             ],
             [
              0.7777777777777778,
              "#6ece58"
             ],
             [
              0.8888888888888888,
              "#b5de2b"
             ],
             [
              1,
              "#fde725"
             ]
            ],
            "type": "contour"
           }
          ],
          "contourcarpet": [
           {
            "colorbar": {
             "outlinewidth": 1,
             "tickcolor": "rgb(36,36,36)",
             "ticks": "outside"
            },
            "type": "contourcarpet"
           }
          ],
          "heatmap": [
           {
            "colorbar": {
             "outlinewidth": 1,
             "tickcolor": "rgb(36,36,36)",
             "ticks": "outside"
            },
            "colorscale": [
             [
              0,
              "#440154"
             ],
             [
              0.1111111111111111,
              "#482878"
             ],
             [
              0.2222222222222222,
              "#3e4989"
             ],
             [
              0.3333333333333333,
              "#31688e"
             ],
             [
              0.4444444444444444,
              "#26828e"
             ],
             [
              0.5555555555555556,
              "#1f9e89"
             ],
             [
              0.6666666666666666,
              "#35b779"
             ],
             [
              0.7777777777777778,
              "#6ece58"
             ],
             [
              0.8888888888888888,
              "#b5de2b"
             ],
             [
              1,
              "#fde725"
             ]
            ],
            "type": "heatmap"
           }
          ],
          "heatmapgl": [
           {
            "colorbar": {
             "outlinewidth": 1,
             "tickcolor": "rgb(36,36,36)",
             "ticks": "outside"
            },
            "colorscale": [
             [
              0,
              "#440154"
             ],
             [
              0.1111111111111111,
              "#482878"
             ],
             [
              0.2222222222222222,
              "#3e4989"
             ],
             [
              0.3333333333333333,
              "#31688e"
             ],
             [
              0.4444444444444444,
              "#26828e"
             ],
             [
              0.5555555555555556,
              "#1f9e89"
             ],
             [
              0.6666666666666666,
              "#35b779"
             ],
             [
              0.7777777777777778,
              "#6ece58"
             ],
             [
              0.8888888888888888,
              "#b5de2b"
             ],
             [
              1,
              "#fde725"
             ]
            ],
            "type": "heatmapgl"
           }
          ],
          "histogram": [
           {
            "marker": {
             "line": {
              "color": "white",
              "width": 0.6
             }
            },
            "type": "histogram"
           }
          ],
          "histogram2d": [
           {
            "colorbar": {
             "outlinewidth": 1,
             "tickcolor": "rgb(36,36,36)",
             "ticks": "outside"
            },
            "colorscale": [
             [
              0,
              "#440154"
             ],
             [
              0.1111111111111111,
              "#482878"
             ],
             [
              0.2222222222222222,
              "#3e4989"
             ],
             [
              0.3333333333333333,
              "#31688e"
             ],
             [
              0.4444444444444444,
              "#26828e"
             ],
             [
              0.5555555555555556,
              "#1f9e89"
             ],
             [
              0.6666666666666666,
              "#35b779"
             ],
             [
              0.7777777777777778,
              "#6ece58"
             ],
             [
              0.8888888888888888,
              "#b5de2b"
             ],
             [
              1,
              "#fde725"
             ]
            ],
            "type": "histogram2d"
           }
          ],
          "histogram2dcontour": [
           {
            "colorbar": {
             "outlinewidth": 1,
             "tickcolor": "rgb(36,36,36)",
             "ticks": "outside"
            },
            "colorscale": [
             [
              0,
              "#440154"
             ],
             [
              0.1111111111111111,
              "#482878"
             ],
             [
              0.2222222222222222,
              "#3e4989"
             ],
             [
              0.3333333333333333,
              "#31688e"
             ],
             [
              0.4444444444444444,
              "#26828e"
             ],
             [
              0.5555555555555556,
              "#1f9e89"
             ],
             [
              0.6666666666666666,
              "#35b779"
             ],
             [
              0.7777777777777778,
              "#6ece58"
             ],
             [
              0.8888888888888888,
              "#b5de2b"
             ],
             [
              1,
              "#fde725"
             ]
            ],
            "type": "histogram2dcontour"
           }
          ],
          "mesh3d": [
           {
            "colorbar": {
             "outlinewidth": 1,
             "tickcolor": "rgb(36,36,36)",
             "ticks": "outside"
            },
            "type": "mesh3d"
           }
          ],
          "parcoords": [
           {
            "line": {
             "colorbar": {
              "outlinewidth": 1,
              "tickcolor": "rgb(36,36,36)",
              "ticks": "outside"
             }
            },
            "type": "parcoords"
           }
          ],
          "pie": [
           {
            "automargin": true,
            "type": "pie"
           }
          ],
          "scatter": [
           {
            "fillpattern": {
             "fillmode": "overlay",
             "size": 10,
             "solidity": 0.2
            },
            "type": "scatter"
           }
          ],
          "scatter3d": [
           {
            "line": {
             "colorbar": {
              "outlinewidth": 1,
              "tickcolor": "rgb(36,36,36)",
              "ticks": "outside"
             }
            },
            "marker": {
             "colorbar": {
              "outlinewidth": 1,
              "tickcolor": "rgb(36,36,36)",
              "ticks": "outside"
             }
            },
            "type": "scatter3d"
           }
          ],
          "scattercarpet": [
           {
            "marker": {
             "colorbar": {
              "outlinewidth": 1,
              "tickcolor": "rgb(36,36,36)",
              "ticks": "outside"
             }
            },
            "type": "scattercarpet"
           }
          ],
          "scattergeo": [
           {
            "marker": {
             "colorbar": {
              "outlinewidth": 1,
              "tickcolor": "rgb(36,36,36)",
              "ticks": "outside"
             }
            },
            "type": "scattergeo"
           }
          ],
          "scattergl": [
           {
            "marker": {
             "colorbar": {
              "outlinewidth": 1,
              "tickcolor": "rgb(36,36,36)",
              "ticks": "outside"
             }
            },
            "type": "scattergl"
           }
          ],
          "scattermapbox": [
           {
            "marker": {
             "colorbar": {
              "outlinewidth": 1,
              "tickcolor": "rgb(36,36,36)",
              "ticks": "outside"
             }
            },
            "type": "scattermapbox"
           }
          ],
          "scatterpolar": [
           {
            "marker": {
             "colorbar": {
              "outlinewidth": 1,
              "tickcolor": "rgb(36,36,36)",
              "ticks": "outside"
             }
            },
            "type": "scatterpolar"
           }
          ],
          "scatterpolargl": [
           {
            "marker": {
             "colorbar": {
              "outlinewidth": 1,
              "tickcolor": "rgb(36,36,36)",
              "ticks": "outside"
             }
            },
            "type": "scatterpolargl"
           }
          ],
          "scatterternary": [
           {
            "marker": {
             "colorbar": {
              "outlinewidth": 1,
              "tickcolor": "rgb(36,36,36)",
              "ticks": "outside"
             }
            },
            "type": "scatterternary"
           }
          ],
          "surface": [
           {
            "colorbar": {
             "outlinewidth": 1,
             "tickcolor": "rgb(36,36,36)",
             "ticks": "outside"
            },
            "colorscale": [
             [
              0,
              "#440154"
             ],
             [
              0.1111111111111111,
              "#482878"
             ],
             [
              0.2222222222222222,
              "#3e4989"
             ],
             [
              0.3333333333333333,
              "#31688e"
             ],
             [
              0.4444444444444444,
              "#26828e"
             ],
             [
              0.5555555555555556,
              "#1f9e89"
             ],
             [
              0.6666666666666666,
              "#35b779"
             ],
             [
              0.7777777777777778,
              "#6ece58"
             ],
             [
              0.8888888888888888,
              "#b5de2b"
             ],
             [
              1,
              "#fde725"
             ]
            ],
            "type": "surface"
           }
          ],
          "table": [
           {
            "cells": {
             "fill": {
              "color": "rgb(237,237,237)"
             },
             "line": {
              "color": "white"
             }
            },
            "header": {
             "fill": {
              "color": "rgb(217,217,217)"
             },
             "line": {
              "color": "white"
             }
            },
            "type": "table"
           }
          ]
         },
         "layout": {
          "annotationdefaults": {
           "arrowhead": 0,
           "arrowwidth": 1
          },
          "autotypenumbers": "strict",
          "coloraxis": {
           "colorbar": {
            "outlinewidth": 1,
            "tickcolor": "rgb(36,36,36)",
            "ticks": "outside"
           }
          },
          "colorscale": {
           "diverging": [
            [
             0,
             "rgb(103,0,31)"
            ],
            [
             0.1,
             "rgb(178,24,43)"
            ],
            [
             0.2,
             "rgb(214,96,77)"
            ],
            [
             0.3,
             "rgb(244,165,130)"
            ],
            [
             0.4,
             "rgb(253,219,199)"
            ],
            [
             0.5,
             "rgb(247,247,247)"
            ],
            [
             0.6,
             "rgb(209,229,240)"
            ],
            [
             0.7,
             "rgb(146,197,222)"
            ],
            [
             0.8,
             "rgb(67,147,195)"
            ],
            [
             0.9,
             "rgb(33,102,172)"
            ],
            [
             1,
             "rgb(5,48,97)"
            ]
           ],
           "sequential": [
            [
             0,
             "#440154"
            ],
            [
             0.1111111111111111,
             "#482878"
            ],
            [
             0.2222222222222222,
             "#3e4989"
            ],
            [
             0.3333333333333333,
             "#31688e"
            ],
            [
             0.4444444444444444,
             "#26828e"
            ],
            [
             0.5555555555555556,
             "#1f9e89"
            ],
            [
             0.6666666666666666,
             "#35b779"
            ],
            [
             0.7777777777777778,
             "#6ece58"
            ],
            [
             0.8888888888888888,
             "#b5de2b"
            ],
            [
             1,
             "#fde725"
            ]
           ],
           "sequentialminus": [
            [
             0,
             "#440154"
            ],
            [
             0.1111111111111111,
             "#482878"
            ],
            [
             0.2222222222222222,
             "#3e4989"
            ],
            [
             0.3333333333333333,
             "#31688e"
            ],
            [
             0.4444444444444444,
             "#26828e"
            ],
            [
             0.5555555555555556,
             "#1f9e89"
            ],
            [
             0.6666666666666666,
             "#35b779"
            ],
            [
             0.7777777777777778,
             "#6ece58"
            ],
            [
             0.8888888888888888,
             "#b5de2b"
            ],
            [
             1,
             "#fde725"
            ]
           ]
          },
          "colorway": [
           "#1F77B4",
           "#FF7F0E",
           "#2CA02C",
           "#D62728",
           "#9467BD",
           "#8C564B",
           "#E377C2",
           "#7F7F7F",
           "#BCBD22",
           "#17BECF"
          ],
          "font": {
           "color": "rgb(36,36,36)"
          },
          "geo": {
           "bgcolor": "white",
           "lakecolor": "white",
           "landcolor": "white",
           "showlakes": true,
           "showland": true,
           "subunitcolor": "white"
          },
          "hoverlabel": {
           "align": "left"
          },
          "hovermode": "closest",
          "mapbox": {
           "style": "light"
          },
          "paper_bgcolor": "white",
          "plot_bgcolor": "white",
          "polar": {
           "angularaxis": {
            "gridcolor": "rgb(232,232,232)",
            "linecolor": "rgb(36,36,36)",
            "showgrid": false,
            "showline": true,
            "ticks": "outside"
           },
           "bgcolor": "white",
           "radialaxis": {
            "gridcolor": "rgb(232,232,232)",
            "linecolor": "rgb(36,36,36)",
            "showgrid": false,
            "showline": true,
            "ticks": "outside"
           }
          },
          "scene": {
           "xaxis": {
            "backgroundcolor": "white",
            "gridcolor": "rgb(232,232,232)",
            "gridwidth": 2,
            "linecolor": "rgb(36,36,36)",
            "showbackground": true,
            "showgrid": false,
            "showline": true,
            "ticks": "outside",
            "zeroline": false,
            "zerolinecolor": "rgb(36,36,36)"
           },
           "yaxis": {
            "backgroundcolor": "white",
            "gridcolor": "rgb(232,232,232)",
            "gridwidth": 2,
            "linecolor": "rgb(36,36,36)",
            "showbackground": true,
            "showgrid": false,
            "showline": true,
            "ticks": "outside",
            "zeroline": false,
            "zerolinecolor": "rgb(36,36,36)"
           },
           "zaxis": {
            "backgroundcolor": "white",
            "gridcolor": "rgb(232,232,232)",
            "gridwidth": 2,
            "linecolor": "rgb(36,36,36)",
            "showbackground": true,
            "showgrid": false,
            "showline": true,
            "ticks": "outside",
            "zeroline": false,
            "zerolinecolor": "rgb(36,36,36)"
           }
          },
          "shapedefaults": {
           "fillcolor": "black",
           "line": {
            "width": 0
           },
           "opacity": 0.3
          },
          "ternary": {
           "aaxis": {
            "gridcolor": "rgb(232,232,232)",
            "linecolor": "rgb(36,36,36)",
            "showgrid": false,
            "showline": true,
            "ticks": "outside"
           },
           "baxis": {
            "gridcolor": "rgb(232,232,232)",
            "linecolor": "rgb(36,36,36)",
            "showgrid": false,
            "showline": true,
            "ticks": "outside"
           },
           "bgcolor": "white",
           "caxis": {
            "gridcolor": "rgb(232,232,232)",
            "linecolor": "rgb(36,36,36)",
            "showgrid": false,
            "showline": true,
            "ticks": "outside"
           }
          },
          "title": {
           "x": 0.05
          },
          "xaxis": {
           "automargin": true,
           "gridcolor": "rgb(232,232,232)",
           "linecolor": "rgb(36,36,36)",
           "showgrid": false,
           "showline": true,
           "ticks": "outside",
           "title": {
            "standoff": 15
           },
           "zeroline": false,
           "zerolinecolor": "rgb(36,36,36)"
          },
          "yaxis": {
           "automargin": true,
           "gridcolor": "rgb(232,232,232)",
           "linecolor": "rgb(36,36,36)",
           "showgrid": false,
           "showline": true,
           "ticks": "outside",
           "title": {
            "standoff": 15
           },
           "zeroline": false,
           "zerolinecolor": "rgb(36,36,36)"
          }
         }
        },
        "xaxis": {
         "anchor": "y",
         "domain": [
          0,
          1
         ],
         "title": {
          "text": "2"
         }
        },
        "xaxis2": {
         "anchor": "y2",
         "domain": [
          0,
          1
         ],
         "matches": "x",
         "showticklabels": false
        },
        "yaxis": {
         "anchor": "x",
         "domain": [
          0,
          0.8316
         ],
         "title": {
          "text": "Count"
         }
        },
        "yaxis2": {
         "anchor": "x2",
         "domain": [
          0.8416,
          1
         ],
         "matches": "y2",
         "showline": false,
         "showticklabels": false,
         "ticks": ""
        }
       }
      }
     },
     "metadata": {},
     "output_type": "display_data"
    },
    {
     "data": {
      "application/vnd.plotly.v1+json": {
       "config": {
        "plotlyServerURL": "https://plot.ly"
       },
       "data": [
        {
         "alignmentgroup": "True",
         "bingroup": "x",
         "hovertemplate": "3=%{x}<br>count=%{y}<extra></extra>",
         "legendgroup": "",
         "marker": {
          "color": "steelblue",
          "pattern": {
           "shape": ""
          }
         },
         "name": "",
         "offsetgroup": "",
         "orientation": "v",
         "showlegend": false,
         "texttemplate": "%{value}",
         "type": "histogram",
         "x": [
          1001,
          1326,
          1203,
          386.1,
          1297,
          477.1,
          1040,
          577.9,
          519.8,
          475.9,
          797.8,
          781,
          1123,
          782.7,
          578.3,
          658.8,
          684.5,
          798.8,
          1260,
          566.3,
          520,
          273.9,
          704.4,
          1404,
          904.6,
          912.7,
          644.8,
          1094,
          732.4,
          955.1,
          1088,
          440.6,
          899.3,
          1162,
          807.2,
          869.5,
          633,
          523.8,
          698.8,
          559.2,
          563,
          371.1,
          1104,
          545.2,
          531.5,
          1076,
          201.9,
          534.6,
          449.3,
          561,
          427.9,
          571.8,
          437.6,
          1033,
          712.8,
          409,
          1152,
          656.9,
          527.2,
          224.5,
          311.9,
          221.8,
          645.7,
          260.9,
          499,
          668.3,
          269.4,
          394.1,
          250.5,
          502.5,
          1130,
          244,
          929.4,
          584.1,
          470.9,
          817.7,
          559.2,
          1006,
          1245,
          506.3,
          401.5,
          520,
          1878,
          1132,
          443.3,
          1075,
          648.2,
          1076,
          466.1,
          651.9,
          662.7,
          728.2,
          551.7,
          555.1,
          705.6,
          1264,
          451.1,
          294.5,
          412.6,
          642.5,
          582.7,
          143.5,
          458.7,
          298.3,
          336.1,
          530.2,
          412.5,
          466.7,
          1509,
          396.5,
          290.2,
          480.4,
          629.9,
          334.2,
          230.9,
          438.6,
          245.2,
          682.5,
          782.6,
          982,
          403.3,
          1077,
          1761,
          640.7,
          553.5,
          588.7,
          572.6,
          1138,
          674.5,
          1192,
          455.8,
          748.9,
          809.8,
          761.7,
          1075,
          506.3,
          423.6,
          399.8,
          678.1,
          384.8,
          288.5,
          813,
          398,
          512.2,
          355.3,
          432.8,
          432,
          689.5,
          640.1,
          585,
          519.4,
          203.9,
          300.2,
          381.9,
          538.9,
          460.3,
          963.7,
          880.2,
          448.6,
          366.8,
          419.8,
          1157,
          1214,
          464.5,
          1686,
          690.2,
          357.6,
          886.3,
          984.6,
          685.9,
          464.1,
          565.4,
          736.9,
          372.7,
          349.6,
          227.2,
          302.4,
          832.9,
          526.4,
          508.8,
          2250,
          1311,
          766.6,
          402,
          710.6,
          317.5,
          1041,
          420.3,
          428.9,
          463.7,
          609.9,
          507.4,
          288.1,
          477.4,
          671.4,
          516.4,
          588.9,
          1024,
          1148,
          642.7,
          461,
          951.6,
          1685,
          597.8,
          481.9,
          716.6,
          295.4,
          904.3,
          529.4,
          725.5,
          1290,
          428,
          2499,
          948,
          610.7,
          578.9,
          432.2,
          321.2,
          1230,
          1223,
          568.9,
          561.3,
          313.1,
          761.3,
          546.4,
          641.2,
          329.6,
          684.5,
          496.4,
          503.2,
          895,
          395.7,
          386.8,
          1319,
          279.6,
          603.4,
          1670,
          1306,
          623.9,
          920.6,
          575.3,
          476.5,
          389.4,
          590,
          1155,
          337.7,
          541.6,
          512.2,
          347,
          406.3,
          1364,
          407.4,
          1206,
          928.2,
          1169,
          602.4,
          1207,
          713.3,
          773.5,
          744.9,
          1288,
          933.1,
          947.8,
          758.6,
          928.3,
          1419,
          346.4,
          561,
          512.2,
          344.9,
          632.6,
          388,
          1491,
          289.9,
          998.9,
          435.6,
          396.6,
          1102,
          572.3,
          587.4,
          1138,
          427.3,
          1145,
          805.1,
          516.6,
          489,
          441,
          515.9,
          394.1,
          396,
          651,
          687.3,
          513.7,
          432.7,
          492.1,
          582.7,
          363.7,
          431.1,
          633.1,
          334.2,
          1217,
          471.3,
          1247,
          334.3,
          403.1,
          417.2,
          537.3,
          246.3,
          566.2,
          530.6,
          418.7,
          664.9,
          504.1,
          409.1,
          221.2,
          481.6,
          461.4,
          1027,
          244.5,
          477.3,
          324.2,
          1274,
          504.8,
          1264,
          457.9,
          489.9,
          616.5,
          446,
          813.7,
          826.8,
          793.2,
          514,
          387.3,
          390,
          464.4,
          918.6,
          514.3,
          1092,
          310.8,
          1747,
          641.2,
          280.5,
          373.9,
          1194,
          420.3,
          321.6,
          445.3,
          668.7,
          402.7,
          426.7,
          421,
          758.6,
          2010,
          716.6,
          384.6,
          485.8,
          512,
          593.7,
          241,
          278.6,
          491.9,
          546.1,
          496.6,
          838.1,
          552.4,
          1293,
          1234,
          458.4,
          1546,
          1482,
          840.4,
          711.8,
          1386,
          1335,
          579.1,
          788.5,
          338.3,
          562.1,
          580.6,
          361.6,
          386.3,
          372.7,
          447.8,
          462.9,
          541.8,
          664.7,
          462,
          596.6,
          392,
          1174,
          321.6,
          234.3,
          744.7,
          1407,
          446.2,
          609.1,
          558.1,
          508.3,
          378.2,
          431.9,
          994,
          442.7,
          525.2,
          507.6,
          469.1,
          370,
          800,
          514.5,
          991.7,
          466.1,
          399.8,
          373.2,
          268.8,
          693.7,
          719.5,
          433.8,
          271.2,
          803.1,
          495,
          380.3,
          409.7,
          656.1,
          408.2,
          575.3,
          289.7,
          307.3,
          333.6,
          359.9,
          381.1,
          501.3,
          685,
          467.8,
          1250,
          1110,
          673.7,
          599.5,
          509.2,
          611.2,
          592.6,
          606.5,
          371.5,
          928.8,
          585.9,
          340.9,
          990,
          441.3,
          981.6,
          674.8,
          659.7,
          1384,
          432,
          1191,
          442.5,
          644.2,
          492.9,
          557.2,
          415.1,
          537.9,
          520.2,
          290.9,
          930.9,
          2501,
          646.1,
          412.7,
          537.3,
          542.9,
          536.9,
          286.3,
          980.5,
          408.8,
          289.1,
          449.9,
          686.9,
          465.4,
          358.9,
          506.9,
          618.4,
          599.4,
          404.9,
          815.8,
          455.3,
          602.9,
          546.3,
          571.1,
          747.2,
          476.7,
          666,
          1167,
          420.5,
          857.6,
          466.5,
          992.1,
          1007,
          477.3,
          538.7,
          680.9,
          485.6,
          480.1,
          1068,
          1320,
          689.4,
          595.9,
          476.3,
          1682,
          248.7,
          272.5,
          453.1,
          366.5,
          819.8,
          731.3,
          426,
          680.7,
          556.7,
          658.8,
          701.9,
          391.2,
          1052,
          1214,
          493.1,
          493.8,
          257.8,
          1841,
          388.1,
          571,
          293.2,
          221.3,
          551.1,
          468.5,
          594.2,
          445.2,
          422.9,
          416.2,
          575.5,
          1299,
          365.6,
          1308,
          629.8,
          406.4,
          178.8,
          170.4,
          402.9,
          656.4,
          668.6,
          538.4,
          584.8,
          573.2,
          324.9,
          320.8,
          285.7,
          361.6,
          360.5,
          378.4,
          507.9,
          264,
          514.3,
          321.4,
          311.7,
          271.3,
          657.1,
          403.5,
          600.4,
          386,
          716.9,
          1347,
          1479,
          1261,
          858.1,
          1265,
          181
         ],
         "xaxis": "x",
         "yaxis": "y"
        },
        {
         "alignmentgroup": "True",
         "hovertemplate": "3=%{x}<extra></extra>",
         "legendgroup": "",
         "marker": {
          "color": "steelblue"
         },
         "name": "",
         "notched": true,
         "offsetgroup": "",
         "showlegend": false,
         "type": "box",
         "x": [
          1001,
          1326,
          1203,
          386.1,
          1297,
          477.1,
          1040,
          577.9,
          519.8,
          475.9,
          797.8,
          781,
          1123,
          782.7,
          578.3,
          658.8,
          684.5,
          798.8,
          1260,
          566.3,
          520,
          273.9,
          704.4,
          1404,
          904.6,
          912.7,
          644.8,
          1094,
          732.4,
          955.1,
          1088,
          440.6,
          899.3,
          1162,
          807.2,
          869.5,
          633,
          523.8,
          698.8,
          559.2,
          563,
          371.1,
          1104,
          545.2,
          531.5,
          1076,
          201.9,
          534.6,
          449.3,
          561,
          427.9,
          571.8,
          437.6,
          1033,
          712.8,
          409,
          1152,
          656.9,
          527.2,
          224.5,
          311.9,
          221.8,
          645.7,
          260.9,
          499,
          668.3,
          269.4,
          394.1,
          250.5,
          502.5,
          1130,
          244,
          929.4,
          584.1,
          470.9,
          817.7,
          559.2,
          1006,
          1245,
          506.3,
          401.5,
          520,
          1878,
          1132,
          443.3,
          1075,
          648.2,
          1076,
          466.1,
          651.9,
          662.7,
          728.2,
          551.7,
          555.1,
          705.6,
          1264,
          451.1,
          294.5,
          412.6,
          642.5,
          582.7,
          143.5,
          458.7,
          298.3,
          336.1,
          530.2,
          412.5,
          466.7,
          1509,
          396.5,
          290.2,
          480.4,
          629.9,
          334.2,
          230.9,
          438.6,
          245.2,
          682.5,
          782.6,
          982,
          403.3,
          1077,
          1761,
          640.7,
          553.5,
          588.7,
          572.6,
          1138,
          674.5,
          1192,
          455.8,
          748.9,
          809.8,
          761.7,
          1075,
          506.3,
          423.6,
          399.8,
          678.1,
          384.8,
          288.5,
          813,
          398,
          512.2,
          355.3,
          432.8,
          432,
          689.5,
          640.1,
          585,
          519.4,
          203.9,
          300.2,
          381.9,
          538.9,
          460.3,
          963.7,
          880.2,
          448.6,
          366.8,
          419.8,
          1157,
          1214,
          464.5,
          1686,
          690.2,
          357.6,
          886.3,
          984.6,
          685.9,
          464.1,
          565.4,
          736.9,
          372.7,
          349.6,
          227.2,
          302.4,
          832.9,
          526.4,
          508.8,
          2250,
          1311,
          766.6,
          402,
          710.6,
          317.5,
          1041,
          420.3,
          428.9,
          463.7,
          609.9,
          507.4,
          288.1,
          477.4,
          671.4,
          516.4,
          588.9,
          1024,
          1148,
          642.7,
          461,
          951.6,
          1685,
          597.8,
          481.9,
          716.6,
          295.4,
          904.3,
          529.4,
          725.5,
          1290,
          428,
          2499,
          948,
          610.7,
          578.9,
          432.2,
          321.2,
          1230,
          1223,
          568.9,
          561.3,
          313.1,
          761.3,
          546.4,
          641.2,
          329.6,
          684.5,
          496.4,
          503.2,
          895,
          395.7,
          386.8,
          1319,
          279.6,
          603.4,
          1670,
          1306,
          623.9,
          920.6,
          575.3,
          476.5,
          389.4,
          590,
          1155,
          337.7,
          541.6,
          512.2,
          347,
          406.3,
          1364,
          407.4,
          1206,
          928.2,
          1169,
          602.4,
          1207,
          713.3,
          773.5,
          744.9,
          1288,
          933.1,
          947.8,
          758.6,
          928.3,
          1419,
          346.4,
          561,
          512.2,
          344.9,
          632.6,
          388,
          1491,
          289.9,
          998.9,
          435.6,
          396.6,
          1102,
          572.3,
          587.4,
          1138,
          427.3,
          1145,
          805.1,
          516.6,
          489,
          441,
          515.9,
          394.1,
          396,
          651,
          687.3,
          513.7,
          432.7,
          492.1,
          582.7,
          363.7,
          431.1,
          633.1,
          334.2,
          1217,
          471.3,
          1247,
          334.3,
          403.1,
          417.2,
          537.3,
          246.3,
          566.2,
          530.6,
          418.7,
          664.9,
          504.1,
          409.1,
          221.2,
          481.6,
          461.4,
          1027,
          244.5,
          477.3,
          324.2,
          1274,
          504.8,
          1264,
          457.9,
          489.9,
          616.5,
          446,
          813.7,
          826.8,
          793.2,
          514,
          387.3,
          390,
          464.4,
          918.6,
          514.3,
          1092,
          310.8,
          1747,
          641.2,
          280.5,
          373.9,
          1194,
          420.3,
          321.6,
          445.3,
          668.7,
          402.7,
          426.7,
          421,
          758.6,
          2010,
          716.6,
          384.6,
          485.8,
          512,
          593.7,
          241,
          278.6,
          491.9,
          546.1,
          496.6,
          838.1,
          552.4,
          1293,
          1234,
          458.4,
          1546,
          1482,
          840.4,
          711.8,
          1386,
          1335,
          579.1,
          788.5,
          338.3,
          562.1,
          580.6,
          361.6,
          386.3,
          372.7,
          447.8,
          462.9,
          541.8,
          664.7,
          462,
          596.6,
          392,
          1174,
          321.6,
          234.3,
          744.7,
          1407,
          446.2,
          609.1,
          558.1,
          508.3,
          378.2,
          431.9,
          994,
          442.7,
          525.2,
          507.6,
          469.1,
          370,
          800,
          514.5,
          991.7,
          466.1,
          399.8,
          373.2,
          268.8,
          693.7,
          719.5,
          433.8,
          271.2,
          803.1,
          495,
          380.3,
          409.7,
          656.1,
          408.2,
          575.3,
          289.7,
          307.3,
          333.6,
          359.9,
          381.1,
          501.3,
          685,
          467.8,
          1250,
          1110,
          673.7,
          599.5,
          509.2,
          611.2,
          592.6,
          606.5,
          371.5,
          928.8,
          585.9,
          340.9,
          990,
          441.3,
          981.6,
          674.8,
          659.7,
          1384,
          432,
          1191,
          442.5,
          644.2,
          492.9,
          557.2,
          415.1,
          537.9,
          520.2,
          290.9,
          930.9,
          2501,
          646.1,
          412.7,
          537.3,
          542.9,
          536.9,
          286.3,
          980.5,
          408.8,
          289.1,
          449.9,
          686.9,
          465.4,
          358.9,
          506.9,
          618.4,
          599.4,
          404.9,
          815.8,
          455.3,
          602.9,
          546.3,
          571.1,
          747.2,
          476.7,
          666,
          1167,
          420.5,
          857.6,
          466.5,
          992.1,
          1007,
          477.3,
          538.7,
          680.9,
          485.6,
          480.1,
          1068,
          1320,
          689.4,
          595.9,
          476.3,
          1682,
          248.7,
          272.5,
          453.1,
          366.5,
          819.8,
          731.3,
          426,
          680.7,
          556.7,
          658.8,
          701.9,
          391.2,
          1052,
          1214,
          493.1,
          493.8,
          257.8,
          1841,
          388.1,
          571,
          293.2,
          221.3,
          551.1,
          468.5,
          594.2,
          445.2,
          422.9,
          416.2,
          575.5,
          1299,
          365.6,
          1308,
          629.8,
          406.4,
          178.8,
          170.4,
          402.9,
          656.4,
          668.6,
          538.4,
          584.8,
          573.2,
          324.9,
          320.8,
          285.7,
          361.6,
          360.5,
          378.4,
          507.9,
          264,
          514.3,
          321.4,
          311.7,
          271.3,
          657.1,
          403.5,
          600.4,
          386,
          716.9,
          1347,
          1479,
          1261,
          858.1,
          1265,
          181
         ],
         "xaxis": "x2",
         "yaxis": "y2"
        }
       ],
       "layout": {
        "bargap": 0.1,
        "barmode": "relative",
        "legend": {
         "tracegroupgap": 0
        },
        "margin": {
         "t": 60
        },
        "template": {
         "data": {
          "bar": [
           {
            "error_x": {
             "color": "rgb(36,36,36)"
            },
            "error_y": {
             "color": "rgb(36,36,36)"
            },
            "marker": {
             "line": {
              "color": "white",
              "width": 0.5
             },
             "pattern": {
              "fillmode": "overlay",
              "size": 10,
              "solidity": 0.2
             }
            },
            "type": "bar"
           }
          ],
          "barpolar": [
           {
            "marker": {
             "line": {
              "color": "white",
              "width": 0.5
             },
             "pattern": {
              "fillmode": "overlay",
              "size": 10,
              "solidity": 0.2
             }
            },
            "type": "barpolar"
           }
          ],
          "carpet": [
           {
            "aaxis": {
             "endlinecolor": "rgb(36,36,36)",
             "gridcolor": "white",
             "linecolor": "white",
             "minorgridcolor": "white",
             "startlinecolor": "rgb(36,36,36)"
            },
            "baxis": {
             "endlinecolor": "rgb(36,36,36)",
             "gridcolor": "white",
             "linecolor": "white",
             "minorgridcolor": "white",
             "startlinecolor": "rgb(36,36,36)"
            },
            "type": "carpet"
           }
          ],
          "choropleth": [
           {
            "colorbar": {
             "outlinewidth": 1,
             "tickcolor": "rgb(36,36,36)",
             "ticks": "outside"
            },
            "type": "choropleth"
           }
          ],
          "contour": [
           {
            "colorbar": {
             "outlinewidth": 1,
             "tickcolor": "rgb(36,36,36)",
             "ticks": "outside"
            },
            "colorscale": [
             [
              0,
              "#440154"
             ],
             [
              0.1111111111111111,
              "#482878"
             ],
             [
              0.2222222222222222,
              "#3e4989"
             ],
             [
              0.3333333333333333,
              "#31688e"
             ],
             [
              0.4444444444444444,
              "#26828e"
             ],
             [
              0.5555555555555556,
              "#1f9e89"
             ],
             [
              0.6666666666666666,
              "#35b779"
             ],
             [
              0.7777777777777778,
              "#6ece58"
             ],
             [
              0.8888888888888888,
              "#b5de2b"
             ],
             [
              1,
              "#fde725"
             ]
            ],
            "type": "contour"
           }
          ],
          "contourcarpet": [
           {
            "colorbar": {
             "outlinewidth": 1,
             "tickcolor": "rgb(36,36,36)",
             "ticks": "outside"
            },
            "type": "contourcarpet"
           }
          ],
          "heatmap": [
           {
            "colorbar": {
             "outlinewidth": 1,
             "tickcolor": "rgb(36,36,36)",
             "ticks": "outside"
            },
            "colorscale": [
             [
              0,
              "#440154"
             ],
             [
              0.1111111111111111,
              "#482878"
             ],
             [
              0.2222222222222222,
              "#3e4989"
             ],
             [
              0.3333333333333333,
              "#31688e"
             ],
             [
              0.4444444444444444,
              "#26828e"
             ],
             [
              0.5555555555555556,
              "#1f9e89"
             ],
             [
              0.6666666666666666,
              "#35b779"
             ],
             [
              0.7777777777777778,
              "#6ece58"
             ],
             [
              0.8888888888888888,
              "#b5de2b"
             ],
             [
              1,
              "#fde725"
             ]
            ],
            "type": "heatmap"
           }
          ],
          "heatmapgl": [
           {
            "colorbar": {
             "outlinewidth": 1,
             "tickcolor": "rgb(36,36,36)",
             "ticks": "outside"
            },
            "colorscale": [
             [
              0,
              "#440154"
             ],
             [
              0.1111111111111111,
              "#482878"
             ],
             [
              0.2222222222222222,
              "#3e4989"
             ],
             [
              0.3333333333333333,
              "#31688e"
             ],
             [
              0.4444444444444444,
              "#26828e"
             ],
             [
              0.5555555555555556,
              "#1f9e89"
             ],
             [
              0.6666666666666666,
              "#35b779"
             ],
             [
              0.7777777777777778,
              "#6ece58"
             ],
             [
              0.8888888888888888,
              "#b5de2b"
             ],
             [
              1,
              "#fde725"
             ]
            ],
            "type": "heatmapgl"
           }
          ],
          "histogram": [
           {
            "marker": {
             "line": {
              "color": "white",
              "width": 0.6
             }
            },
            "type": "histogram"
           }
          ],
          "histogram2d": [
           {
            "colorbar": {
             "outlinewidth": 1,
             "tickcolor": "rgb(36,36,36)",
             "ticks": "outside"
            },
            "colorscale": [
             [
              0,
              "#440154"
             ],
             [
              0.1111111111111111,
              "#482878"
             ],
             [
              0.2222222222222222,
              "#3e4989"
             ],
             [
              0.3333333333333333,
              "#31688e"
             ],
             [
              0.4444444444444444,
              "#26828e"
             ],
             [
              0.5555555555555556,
              "#1f9e89"
             ],
             [
              0.6666666666666666,
              "#35b779"
             ],
             [
              0.7777777777777778,
              "#6ece58"
             ],
             [
              0.8888888888888888,
              "#b5de2b"
             ],
             [
              1,
              "#fde725"
             ]
            ],
            "type": "histogram2d"
           }
          ],
          "histogram2dcontour": [
           {
            "colorbar": {
             "outlinewidth": 1,
             "tickcolor": "rgb(36,36,36)",
             "ticks": "outside"
            },
            "colorscale": [
             [
              0,
              "#440154"
             ],
             [
              0.1111111111111111,
              "#482878"
             ],
             [
              0.2222222222222222,
              "#3e4989"
             ],
             [
              0.3333333333333333,
              "#31688e"
             ],
             [
              0.4444444444444444,
              "#26828e"
             ],
             [
              0.5555555555555556,
              "#1f9e89"
             ],
             [
              0.6666666666666666,
              "#35b779"
             ],
             [
              0.7777777777777778,
              "#6ece58"
             ],
             [
              0.8888888888888888,
              "#b5de2b"
             ],
             [
              1,
              "#fde725"
             ]
            ],
            "type": "histogram2dcontour"
           }
          ],
          "mesh3d": [
           {
            "colorbar": {
             "outlinewidth": 1,
             "tickcolor": "rgb(36,36,36)",
             "ticks": "outside"
            },
            "type": "mesh3d"
           }
          ],
          "parcoords": [
           {
            "line": {
             "colorbar": {
              "outlinewidth": 1,
              "tickcolor": "rgb(36,36,36)",
              "ticks": "outside"
             }
            },
            "type": "parcoords"
           }
          ],
          "pie": [
           {
            "automargin": true,
            "type": "pie"
           }
          ],
          "scatter": [
           {
            "fillpattern": {
             "fillmode": "overlay",
             "size": 10,
             "solidity": 0.2
            },
            "type": "scatter"
           }
          ],
          "scatter3d": [
           {
            "line": {
             "colorbar": {
              "outlinewidth": 1,
              "tickcolor": "rgb(36,36,36)",
              "ticks": "outside"
             }
            },
            "marker": {
             "colorbar": {
              "outlinewidth": 1,
              "tickcolor": "rgb(36,36,36)",
              "ticks": "outside"
             }
            },
            "type": "scatter3d"
           }
          ],
          "scattercarpet": [
           {
            "marker": {
             "colorbar": {
              "outlinewidth": 1,
              "tickcolor": "rgb(36,36,36)",
              "ticks": "outside"
             }
            },
            "type": "scattercarpet"
           }
          ],
          "scattergeo": [
           {
            "marker": {
             "colorbar": {
              "outlinewidth": 1,
              "tickcolor": "rgb(36,36,36)",
              "ticks": "outside"
             }
            },
            "type": "scattergeo"
           }
          ],
          "scattergl": [
           {
            "marker": {
             "colorbar": {
              "outlinewidth": 1,
              "tickcolor": "rgb(36,36,36)",
              "ticks": "outside"
             }
            },
            "type": "scattergl"
           }
          ],
          "scattermapbox": [
           {
            "marker": {
             "colorbar": {
              "outlinewidth": 1,
              "tickcolor": "rgb(36,36,36)",
              "ticks": "outside"
             }
            },
            "type": "scattermapbox"
           }
          ],
          "scatterpolar": [
           {
            "marker": {
             "colorbar": {
              "outlinewidth": 1,
              "tickcolor": "rgb(36,36,36)",
              "ticks": "outside"
             }
            },
            "type": "scatterpolar"
           }
          ],
          "scatterpolargl": [
           {
            "marker": {
             "colorbar": {
              "outlinewidth": 1,
              "tickcolor": "rgb(36,36,36)",
              "ticks": "outside"
             }
            },
            "type": "scatterpolargl"
           }
          ],
          "scatterternary": [
           {
            "marker": {
             "colorbar": {
              "outlinewidth": 1,
              "tickcolor": "rgb(36,36,36)",
              "ticks": "outside"
             }
            },
            "type": "scatterternary"
           }
          ],
          "surface": [
           {
            "colorbar": {
             "outlinewidth": 1,
             "tickcolor": "rgb(36,36,36)",
             "ticks": "outside"
            },
            "colorscale": [
             [
              0,
              "#440154"
             ],
             [
              0.1111111111111111,
              "#482878"
             ],
             [
              0.2222222222222222,
              "#3e4989"
             ],
             [
              0.3333333333333333,
              "#31688e"
             ],
             [
              0.4444444444444444,
              "#26828e"
             ],
             [
              0.5555555555555556,
              "#1f9e89"
             ],
             [
              0.6666666666666666,
              "#35b779"
             ],
             [
              0.7777777777777778,
              "#6ece58"
             ],
             [
              0.8888888888888888,
              "#b5de2b"
             ],
             [
              1,
              "#fde725"
             ]
            ],
            "type": "surface"
           }
          ],
          "table": [
           {
            "cells": {
             "fill": {
              "color": "rgb(237,237,237)"
             },
             "line": {
              "color": "white"
             }
            },
            "header": {
             "fill": {
              "color": "rgb(217,217,217)"
             },
             "line": {
              "color": "white"
             }
            },
            "type": "table"
           }
          ]
         },
         "layout": {
          "annotationdefaults": {
           "arrowhead": 0,
           "arrowwidth": 1
          },
          "autotypenumbers": "strict",
          "coloraxis": {
           "colorbar": {
            "outlinewidth": 1,
            "tickcolor": "rgb(36,36,36)",
            "ticks": "outside"
           }
          },
          "colorscale": {
           "diverging": [
            [
             0,
             "rgb(103,0,31)"
            ],
            [
             0.1,
             "rgb(178,24,43)"
            ],
            [
             0.2,
             "rgb(214,96,77)"
            ],
            [
             0.3,
             "rgb(244,165,130)"
            ],
            [
             0.4,
             "rgb(253,219,199)"
            ],
            [
             0.5,
             "rgb(247,247,247)"
            ],
            [
             0.6,
             "rgb(209,229,240)"
            ],
            [
             0.7,
             "rgb(146,197,222)"
            ],
            [
             0.8,
             "rgb(67,147,195)"
            ],
            [
             0.9,
             "rgb(33,102,172)"
            ],
            [
             1,
             "rgb(5,48,97)"
            ]
           ],
           "sequential": [
            [
             0,
             "#440154"
            ],
            [
             0.1111111111111111,
             "#482878"
            ],
            [
             0.2222222222222222,
             "#3e4989"
            ],
            [
             0.3333333333333333,
             "#31688e"
            ],
            [
             0.4444444444444444,
             "#26828e"
            ],
            [
             0.5555555555555556,
             "#1f9e89"
            ],
            [
             0.6666666666666666,
             "#35b779"
            ],
            [
             0.7777777777777778,
             "#6ece58"
            ],
            [
             0.8888888888888888,
             "#b5de2b"
            ],
            [
             1,
             "#fde725"
            ]
           ],
           "sequentialminus": [
            [
             0,
             "#440154"
            ],
            [
             0.1111111111111111,
             "#482878"
            ],
            [
             0.2222222222222222,
             "#3e4989"
            ],
            [
             0.3333333333333333,
             "#31688e"
            ],
            [
             0.4444444444444444,
             "#26828e"
            ],
            [
             0.5555555555555556,
             "#1f9e89"
            ],
            [
             0.6666666666666666,
             "#35b779"
            ],
            [
             0.7777777777777778,
             "#6ece58"
            ],
            [
             0.8888888888888888,
             "#b5de2b"
            ],
            [
             1,
             "#fde725"
            ]
           ]
          },
          "colorway": [
           "#1F77B4",
           "#FF7F0E",
           "#2CA02C",
           "#D62728",
           "#9467BD",
           "#8C564B",
           "#E377C2",
           "#7F7F7F",
           "#BCBD22",
           "#17BECF"
          ],
          "font": {
           "color": "rgb(36,36,36)"
          },
          "geo": {
           "bgcolor": "white",
           "lakecolor": "white",
           "landcolor": "white",
           "showlakes": true,
           "showland": true,
           "subunitcolor": "white"
          },
          "hoverlabel": {
           "align": "left"
          },
          "hovermode": "closest",
          "mapbox": {
           "style": "light"
          },
          "paper_bgcolor": "white",
          "plot_bgcolor": "white",
          "polar": {
           "angularaxis": {
            "gridcolor": "rgb(232,232,232)",
            "linecolor": "rgb(36,36,36)",
            "showgrid": false,
            "showline": true,
            "ticks": "outside"
           },
           "bgcolor": "white",
           "radialaxis": {
            "gridcolor": "rgb(232,232,232)",
            "linecolor": "rgb(36,36,36)",
            "showgrid": false,
            "showline": true,
            "ticks": "outside"
           }
          },
          "scene": {
           "xaxis": {
            "backgroundcolor": "white",
            "gridcolor": "rgb(232,232,232)",
            "gridwidth": 2,
            "linecolor": "rgb(36,36,36)",
            "showbackground": true,
            "showgrid": false,
            "showline": true,
            "ticks": "outside",
            "zeroline": false,
            "zerolinecolor": "rgb(36,36,36)"
           },
           "yaxis": {
            "backgroundcolor": "white",
            "gridcolor": "rgb(232,232,232)",
            "gridwidth": 2,
            "linecolor": "rgb(36,36,36)",
            "showbackground": true,
            "showgrid": false,
            "showline": true,
            "ticks": "outside",
            "zeroline": false,
            "zerolinecolor": "rgb(36,36,36)"
           },
           "zaxis": {
            "backgroundcolor": "white",
            "gridcolor": "rgb(232,232,232)",
            "gridwidth": 2,
            "linecolor": "rgb(36,36,36)",
            "showbackground": true,
            "showgrid": false,
            "showline": true,
            "ticks": "outside",
            "zeroline": false,
            "zerolinecolor": "rgb(36,36,36)"
           }
          },
          "shapedefaults": {
           "fillcolor": "black",
           "line": {
            "width": 0
           },
           "opacity": 0.3
          },
          "ternary": {
           "aaxis": {
            "gridcolor": "rgb(232,232,232)",
            "linecolor": "rgb(36,36,36)",
            "showgrid": false,
            "showline": true,
            "ticks": "outside"
           },
           "baxis": {
            "gridcolor": "rgb(232,232,232)",
            "linecolor": "rgb(36,36,36)",
            "showgrid": false,
            "showline": true,
            "ticks": "outside"
           },
           "bgcolor": "white",
           "caxis": {
            "gridcolor": "rgb(232,232,232)",
            "linecolor": "rgb(36,36,36)",
            "showgrid": false,
            "showline": true,
            "ticks": "outside"
           }
          },
          "title": {
           "x": 0.05
          },
          "xaxis": {
           "automargin": true,
           "gridcolor": "rgb(232,232,232)",
           "linecolor": "rgb(36,36,36)",
           "showgrid": false,
           "showline": true,
           "ticks": "outside",
           "title": {
            "standoff": 15
           },
           "zeroline": false,
           "zerolinecolor": "rgb(36,36,36)"
          },
          "yaxis": {
           "automargin": true,
           "gridcolor": "rgb(232,232,232)",
           "linecolor": "rgb(36,36,36)",
           "showgrid": false,
           "showline": true,
           "ticks": "outside",
           "title": {
            "standoff": 15
           },
           "zeroline": false,
           "zerolinecolor": "rgb(36,36,36)"
          }
         }
        },
        "xaxis": {
         "anchor": "y",
         "domain": [
          0,
          1
         ],
         "title": {
          "text": "3"
         }
        },
        "xaxis2": {
         "anchor": "y2",
         "domain": [
          0,
          1
         ],
         "matches": "x",
         "showticklabels": false
        },
        "yaxis": {
         "anchor": "x",
         "domain": [
          0,
          0.8316
         ],
         "title": {
          "text": "Count"
         }
        },
        "yaxis2": {
         "anchor": "x2",
         "domain": [
          0.8416,
          1
         ],
         "matches": "y2",
         "showline": false,
         "showticklabels": false,
         "ticks": ""
        }
       }
      }
     },
     "metadata": {},
     "output_type": "display_data"
    },
    {
     "data": {
      "application/vnd.plotly.v1+json": {
       "config": {
        "plotlyServerURL": "https://plot.ly"
       },
       "data": [
        {
         "alignmentgroup": "True",
         "bingroup": "x",
         "hovertemplate": "4=%{x}<br>count=%{y}<extra></extra>",
         "legendgroup": "",
         "marker": {
          "color": "steelblue",
          "pattern": {
           "shape": ""
          }
         },
         "name": "",
         "offsetgroup": "",
         "orientation": "v",
         "showlegend": false,
         "texttemplate": "%{value}",
         "type": "histogram",
         "x": [
          0.1184,
          0.08474,
          0.1096,
          0.1425,
          0.1003,
          0.1278,
          0.09463,
          0.1189,
          0.1273,
          0.1186,
          0.08206,
          0.0971,
          0.0974,
          0.08401,
          0.1131,
          0.1139,
          0.09867,
          0.117,
          0.09831,
          0.09779,
          0.1075,
          0.1024,
          0.1073,
          0.09428,
          0.1121,
          0.1186,
          0.1054,
          0.0944,
          0.1082,
          0.09847,
          0.1064,
          0.1109,
          0.1197,
          0.09401,
          0.104,
          0.0961,
          0.09823,
          0.08983,
          0.09387,
          0.1016,
          0.08162,
          0.1227,
          0.09081,
          0.1041,
          0.09714,
          0.1099,
          0.086,
          0.1158,
          0.1031,
          0.08752,
          0.08637,
          0.07685,
          0.08261,
          0.1148,
          0.09056,
          0.09524,
          0.1053,
          0.1137,
          0.0806,
          0.09752,
          0.1134,
          0.1243,
          0.1049,
          0.07721,
          0.1122,
          0.1172,
          0.1044,
          0.08139,
          0.1066,
          0.09831,
          0.09009,
          0.09783,
          0.1071,
          0.1007,
          0.09172,
          0.09168,
          0.1291,
          0.1065,
          0.1286,
          0.09934,
          0.1102,
          0.1078,
          0.1063,
          0.1215,
          0.09723,
          0.09874,
          0.09444,
          0.09029,
          0.08772,
          0.1132,
          0.08974,
          0.092,
          0.07355,
          0.1022,
          0.1039,
          0.09078,
          0.1045,
          0.1024,
          0.08983,
          0.09752,
          0.09488,
          0.117,
          0.08013,
          0.1005,
          0.09989,
          0.1398,
          0.1142,
          0.08477,
          0.1326,
          0.08759,
          0.1037,
          0.09933,
          0.07837,
          0.1122,
          0.115,
          0.09768,
          0.09462,
          0.1162,
          0.1155,
          0.08402,
          0.09373,
          0.1054,
          0.1447,
          0.1101,
          0.07115,
          0.08785,
          0.09258,
          0.08217,
          0.115,
          0.1015,
          0.1066,
          0.1092,
          0.1008,
          0.09462,
          0.0943,
          0.09055,
          0.1051,
          0.09639,
          0.1167,
          0.1164,
          0.0925,
          0.09721,
          0.1092,
          0.08677,
          0.07793,
          0.1152,
          0.1091,
          0.08138,
          0.0997,
          0.07944,
          0.1135,
          0.09405,
          0.1072,
          0.09754,
          0.09384,
          0.08654,
          0.1115,
          0.07445,
          0.09311,
          0.07515,
          0.1089,
          0.08694,
          0.112,
          0.1012,
          0.08439,
          0.08421,
          0.09594,
          0.08865,
          0.1049,
          0.09855,
          0.1028,
          0.09048,
          0.1257,
          0.1006,
          0.08792,
          0.09138,
          0.09699,
          0.09831,
          0.06251,
          0.08739,
          0.1094,
          0.1141,
          0.09597,
          0.09059,
          0.09057,
          0.09267,
          0.08588,
          0.09774,
          0.1007,
          0.0808,
          0.1075,
          0.08749,
          0.0695,
          0.1034,
          0.1044,
          0.07941,
          0.12,
          0.07371,
          0.08523,
          0.09872,
          0.09586,
          0.08968,
          0.1141,
          0.1323,
          0.09965,
          0.08876,
          0.1089,
          0.08772,
          0.1002,
          0.08182,
          0.0909,
          0.08871,
          0.1142,
          0.1006,
          0.09463,
          0.1026,
          0.09363,
          0.08054,
          0.09383,
          0.0842,
          0.09646,
          0.1051,
          0.1061,
          0.1025,
          0.08445,
          0.09906,
          0.1053,
          0.08371,
          0.07903,
          0.1088,
          0.1141,
          0.06883,
          0.0778,
          0.09159,
          0.08464,
          0.0907,
          0.09509,
          0.08355,
          0.08223,
          0.09812,
          0.09423,
          0.07926,
          0.09592,
          0.08043,
          0.1027,
          0.107,
          0.07215,
          0.0876,
          0.09657,
          0.1013,
          0.1007,
          0.09345,
          0.1062,
          0.1008,
          0.1035,
          0.1096,
          0.0926,
          0.1335,
          0.1109,
          0.1063,
          0.1,
          0.08662,
          0.08999,
          0.0784,
          0.09726,
          0.09469,
          0.09688,
          0.07956,
          0.09425,
          0.1082,
          0.06429,
          0.09834,
          0.09401,
          0.09037,
          0.08855,
          0.1225,
          0.09379,
          0.08923,
          0.07948,
          0.09516,
          0.102,
          0.07813,
          0.1037,
          0.1066,
          0.07818,
          0.08393,
          0.08605,
          0.06955,
          0.0802,
          0.08713,
          0.08757,
          0.08992,
          0.1005,
          0.08372,
          0.09667,
          0.09198,
          0.08518,
          0.09968,
          0.06576,
          0.1015,
          0.115,
          0.08451,
          0.108,
          0.1068,
          0.08853,
          0.07474,
          0.08511,
          0.07005,
          0.07376,
          0.08352,
          0.08814,
          0.07618,
          0.08794,
          0.08597,
          0.1074,
          0.08511,
          0.07734,
          0.09746,
          0.09968,
          0.07557,
          0.1061,
          0.0802,
          0.1134,
          0.117,
          0.08673,
          0.1028,
          0.09309,
          0.07683,
          0.1169,
          0.1165,
          0.09491,
          0.09579,
          0.1054,
          0.08306,
          0.08313,
          0.1119,
          0.09462,
          0.09116,
          0.1007,
          0.1069,
          0.09751,
          0.08481,
          0.1033,
          0.09797,
          0.115,
          0.09882,
          0.08386,
          0.08875,
          0.09076,
          0.1158,
          0.07561,
          0.1243,
          0.1149,
          0.1024,
          0.07274,
          0.0876,
          0.1082,
          0.08743,
          0.08293,
          0.1009,
          0.07436,
          0.08582,
          0.09676,
          0.09686,
          0.07937,
          0.0915,
          0.09905,
          0.09231,
          0.09384,
          0.1063,
          0.09742,
          0.07963,
          0.1001,
          0.09446,
          0.08302,
          0.0988,
          0.09073,
          0.07517,
          0.08268,
          0.1216,
          0.1237,
          0.07987,
          0.06935,
          0.1042,
          0.08363,
          0.08682,
          0.08108,
          0.07026,
          0.08365,
          0.101,
          0.09996,
          0.1039,
          0.116,
          0.1167,
          0.1029,
          0.08045,
          0.1059,
          0.08044,
          0.07741,
          0.09087,
          0.123,
          0.08872,
          0.07351,
          0.09879,
          0.08682,
          0.1004,
          0.09495,
          0.07551,
          0.1036,
          0.08685,
          0.08858,
          0.1077,
          0.07969,
          0.08515,
          0.0832,
          0.09773,
          0.1044,
          0.112,
          0.08785,
          0.1018,
          0.08546,
          0.1031,
          0.1088,
          0.09057,
          0.1075,
          0.08117,
          0.09816,
          0.08801,
          0.08151,
          0.07896,
          0.09947,
          0.1054,
          0.1133,
          0.1018,
          0.08924,
          0.106,
          0.09136,
          0.08458,
          0.08684,
          0.07966,
          0.08915,
          0.08331,
          0.08817,
          0.08142,
          0.08947,
          0.103,
          0.09997,
          0.09179,
          0.08388,
          0.09684,
          0.06613,
          0.1032,
          0.08437,
          0.1099,
          0.08583,
          0.09245,
          0.09357,
          0.08791,
          0.08369,
          0.07984,
          0.09898,
          0.1084,
          0.06995,
          0.08508,
          0.07466,
          0.08284,
          0.08675,
          0.08311,
          0.09289,
          0.1175,
          0.08946,
          0.08752,
          0.08098,
          0.07699,
          0.1007,
          0.0904,
          0.08931,
          0.06828,
          0.1046,
          0.1026,
          0.09087,
          0.07991,
          0.1071,
          0.0995,
          0.1043,
          0.09514,
          0.08641,
          0.1089,
          0.1128,
          0.07497,
          0.08192,
          0.07838,
          0.1001,
          0.07372,
          0.07335,
          0.09587,
          0.1076,
          0.08928,
          0.1012,
          0.1085,
          0.09883,
          0.1162,
          0.1158,
          0.09342,
          0.1634,
          0.1255,
          0.1096,
          0.1194,
          0.09427,
          0.1183,
          0.08099,
          0.08472,
          0.1106,
          0.09832,
          0.09215,
          0.1049,
          0.1068,
          0.1037,
          0.1218,
          0.1125,
          0.1371,
          0.103,
          0.08511,
          0.09916,
          0.09492,
          0.1036,
          0.1075,
          0.09003,
          0.1248,
          0.11,
          0.1073,
          0.1016,
          0.09277,
          0.09156,
          0.09687,
          0.1046,
          0.1038,
          0.1236,
          0.08098,
          0.08668,
          0.09984,
          0.08837,
          0.08275,
          0.08671,
          0.09578,
          0.09246,
          0.09434,
          0.08877,
          0.08491,
          0.08192,
          0.07431,
          0.09566,
          0.08276,
          0.0924,
          0.08123,
          0.0903,
          0.1003,
          0.08123,
          0.08473,
          0.09261,
          0.09929,
          0.07449,
          0.1048,
          0.1099,
          0.111,
          0.0978,
          0.08455,
          0.1178,
          0.05263
         ],
         "xaxis": "x",
         "yaxis": "y"
        },
        {
         "alignmentgroup": "True",
         "hovertemplate": "4=%{x}<extra></extra>",
         "legendgroup": "",
         "marker": {
          "color": "steelblue"
         },
         "name": "",
         "notched": true,
         "offsetgroup": "",
         "showlegend": false,
         "type": "box",
         "x": [
          0.1184,
          0.08474,
          0.1096,
          0.1425,
          0.1003,
          0.1278,
          0.09463,
          0.1189,
          0.1273,
          0.1186,
          0.08206,
          0.0971,
          0.0974,
          0.08401,
          0.1131,
          0.1139,
          0.09867,
          0.117,
          0.09831,
          0.09779,
          0.1075,
          0.1024,
          0.1073,
          0.09428,
          0.1121,
          0.1186,
          0.1054,
          0.0944,
          0.1082,
          0.09847,
          0.1064,
          0.1109,
          0.1197,
          0.09401,
          0.104,
          0.0961,
          0.09823,
          0.08983,
          0.09387,
          0.1016,
          0.08162,
          0.1227,
          0.09081,
          0.1041,
          0.09714,
          0.1099,
          0.086,
          0.1158,
          0.1031,
          0.08752,
          0.08637,
          0.07685,
          0.08261,
          0.1148,
          0.09056,
          0.09524,
          0.1053,
          0.1137,
          0.0806,
          0.09752,
          0.1134,
          0.1243,
          0.1049,
          0.07721,
          0.1122,
          0.1172,
          0.1044,
          0.08139,
          0.1066,
          0.09831,
          0.09009,
          0.09783,
          0.1071,
          0.1007,
          0.09172,
          0.09168,
          0.1291,
          0.1065,
          0.1286,
          0.09934,
          0.1102,
          0.1078,
          0.1063,
          0.1215,
          0.09723,
          0.09874,
          0.09444,
          0.09029,
          0.08772,
          0.1132,
          0.08974,
          0.092,
          0.07355,
          0.1022,
          0.1039,
          0.09078,
          0.1045,
          0.1024,
          0.08983,
          0.09752,
          0.09488,
          0.117,
          0.08013,
          0.1005,
          0.09989,
          0.1398,
          0.1142,
          0.08477,
          0.1326,
          0.08759,
          0.1037,
          0.09933,
          0.07837,
          0.1122,
          0.115,
          0.09768,
          0.09462,
          0.1162,
          0.1155,
          0.08402,
          0.09373,
          0.1054,
          0.1447,
          0.1101,
          0.07115,
          0.08785,
          0.09258,
          0.08217,
          0.115,
          0.1015,
          0.1066,
          0.1092,
          0.1008,
          0.09462,
          0.0943,
          0.09055,
          0.1051,
          0.09639,
          0.1167,
          0.1164,
          0.0925,
          0.09721,
          0.1092,
          0.08677,
          0.07793,
          0.1152,
          0.1091,
          0.08138,
          0.0997,
          0.07944,
          0.1135,
          0.09405,
          0.1072,
          0.09754,
          0.09384,
          0.08654,
          0.1115,
          0.07445,
          0.09311,
          0.07515,
          0.1089,
          0.08694,
          0.112,
          0.1012,
          0.08439,
          0.08421,
          0.09594,
          0.08865,
          0.1049,
          0.09855,
          0.1028,
          0.09048,
          0.1257,
          0.1006,
          0.08792,
          0.09138,
          0.09699,
          0.09831,
          0.06251,
          0.08739,
          0.1094,
          0.1141,
          0.09597,
          0.09059,
          0.09057,
          0.09267,
          0.08588,
          0.09774,
          0.1007,
          0.0808,
          0.1075,
          0.08749,
          0.0695,
          0.1034,
          0.1044,
          0.07941,
          0.12,
          0.07371,
          0.08523,
          0.09872,
          0.09586,
          0.08968,
          0.1141,
          0.1323,
          0.09965,
          0.08876,
          0.1089,
          0.08772,
          0.1002,
          0.08182,
          0.0909,
          0.08871,
          0.1142,
          0.1006,
          0.09463,
          0.1026,
          0.09363,
          0.08054,
          0.09383,
          0.0842,
          0.09646,
          0.1051,
          0.1061,
          0.1025,
          0.08445,
          0.09906,
          0.1053,
          0.08371,
          0.07903,
          0.1088,
          0.1141,
          0.06883,
          0.0778,
          0.09159,
          0.08464,
          0.0907,
          0.09509,
          0.08355,
          0.08223,
          0.09812,
          0.09423,
          0.07926,
          0.09592,
          0.08043,
          0.1027,
          0.107,
          0.07215,
          0.0876,
          0.09657,
          0.1013,
          0.1007,
          0.09345,
          0.1062,
          0.1008,
          0.1035,
          0.1096,
          0.0926,
          0.1335,
          0.1109,
          0.1063,
          0.1,
          0.08662,
          0.08999,
          0.0784,
          0.09726,
          0.09469,
          0.09688,
          0.07956,
          0.09425,
          0.1082,
          0.06429,
          0.09834,
          0.09401,
          0.09037,
          0.08855,
          0.1225,
          0.09379,
          0.08923,
          0.07948,
          0.09516,
          0.102,
          0.07813,
          0.1037,
          0.1066,
          0.07818,
          0.08393,
          0.08605,
          0.06955,
          0.0802,
          0.08713,
          0.08757,
          0.08992,
          0.1005,
          0.08372,
          0.09667,
          0.09198,
          0.08518,
          0.09968,
          0.06576,
          0.1015,
          0.115,
          0.08451,
          0.108,
          0.1068,
          0.08853,
          0.07474,
          0.08511,
          0.07005,
          0.07376,
          0.08352,
          0.08814,
          0.07618,
          0.08794,
          0.08597,
          0.1074,
          0.08511,
          0.07734,
          0.09746,
          0.09968,
          0.07557,
          0.1061,
          0.0802,
          0.1134,
          0.117,
          0.08673,
          0.1028,
          0.09309,
          0.07683,
          0.1169,
          0.1165,
          0.09491,
          0.09579,
          0.1054,
          0.08306,
          0.08313,
          0.1119,
          0.09462,
          0.09116,
          0.1007,
          0.1069,
          0.09751,
          0.08481,
          0.1033,
          0.09797,
          0.115,
          0.09882,
          0.08386,
          0.08875,
          0.09076,
          0.1158,
          0.07561,
          0.1243,
          0.1149,
          0.1024,
          0.07274,
          0.0876,
          0.1082,
          0.08743,
          0.08293,
          0.1009,
          0.07436,
          0.08582,
          0.09676,
          0.09686,
          0.07937,
          0.0915,
          0.09905,
          0.09231,
          0.09384,
          0.1063,
          0.09742,
          0.07963,
          0.1001,
          0.09446,
          0.08302,
          0.0988,
          0.09073,
          0.07517,
          0.08268,
          0.1216,
          0.1237,
          0.07987,
          0.06935,
          0.1042,
          0.08363,
          0.08682,
          0.08108,
          0.07026,
          0.08365,
          0.101,
          0.09996,
          0.1039,
          0.116,
          0.1167,
          0.1029,
          0.08045,
          0.1059,
          0.08044,
          0.07741,
          0.09087,
          0.123,
          0.08872,
          0.07351,
          0.09879,
          0.08682,
          0.1004,
          0.09495,
          0.07551,
          0.1036,
          0.08685,
          0.08858,
          0.1077,
          0.07969,
          0.08515,
          0.0832,
          0.09773,
          0.1044,
          0.112,
          0.08785,
          0.1018,
          0.08546,
          0.1031,
          0.1088,
          0.09057,
          0.1075,
          0.08117,
          0.09816,
          0.08801,
          0.08151,
          0.07896,
          0.09947,
          0.1054,
          0.1133,
          0.1018,
          0.08924,
          0.106,
          0.09136,
          0.08458,
          0.08684,
          0.07966,
          0.08915,
          0.08331,
          0.08817,
          0.08142,
          0.08947,
          0.103,
          0.09997,
          0.09179,
          0.08388,
          0.09684,
          0.06613,
          0.1032,
          0.08437,
          0.1099,
          0.08583,
          0.09245,
          0.09357,
          0.08791,
          0.08369,
          0.07984,
          0.09898,
          0.1084,
          0.06995,
          0.08508,
          0.07466,
          0.08284,
          0.08675,
          0.08311,
          0.09289,
          0.1175,
          0.08946,
          0.08752,
          0.08098,
          0.07699,
          0.1007,
          0.0904,
          0.08931,
          0.06828,
          0.1046,
          0.1026,
          0.09087,
          0.07991,
          0.1071,
          0.0995,
          0.1043,
          0.09514,
          0.08641,
          0.1089,
          0.1128,
          0.07497,
          0.08192,
          0.07838,
          0.1001,
          0.07372,
          0.07335,
          0.09587,
          0.1076,
          0.08928,
          0.1012,
          0.1085,
          0.09883,
          0.1162,
          0.1158,
          0.09342,
          0.1634,
          0.1255,
          0.1096,
          0.1194,
          0.09427,
          0.1183,
          0.08099,
          0.08472,
          0.1106,
          0.09832,
          0.09215,
          0.1049,
          0.1068,
          0.1037,
          0.1218,
          0.1125,
          0.1371,
          0.103,
          0.08511,
          0.09916,
          0.09492,
          0.1036,
          0.1075,
          0.09003,
          0.1248,
          0.11,
          0.1073,
          0.1016,
          0.09277,
          0.09156,
          0.09687,
          0.1046,
          0.1038,
          0.1236,
          0.08098,
          0.08668,
          0.09984,
          0.08837,
          0.08275,
          0.08671,
          0.09578,
          0.09246,
          0.09434,
          0.08877,
          0.08491,
          0.08192,
          0.07431,
          0.09566,
          0.08276,
          0.0924,
          0.08123,
          0.0903,
          0.1003,
          0.08123,
          0.08473,
          0.09261,
          0.09929,
          0.07449,
          0.1048,
          0.1099,
          0.111,
          0.0978,
          0.08455,
          0.1178,
          0.05263
         ],
         "xaxis": "x2",
         "yaxis": "y2"
        }
       ],
       "layout": {
        "bargap": 0.1,
        "barmode": "relative",
        "legend": {
         "tracegroupgap": 0
        },
        "margin": {
         "t": 60
        },
        "template": {
         "data": {
          "bar": [
           {
            "error_x": {
             "color": "rgb(36,36,36)"
            },
            "error_y": {
             "color": "rgb(36,36,36)"
            },
            "marker": {
             "line": {
              "color": "white",
              "width": 0.5
             },
             "pattern": {
              "fillmode": "overlay",
              "size": 10,
              "solidity": 0.2
             }
            },
            "type": "bar"
           }
          ],
          "barpolar": [
           {
            "marker": {
             "line": {
              "color": "white",
              "width": 0.5
             },
             "pattern": {
              "fillmode": "overlay",
              "size": 10,
              "solidity": 0.2
             }
            },
            "type": "barpolar"
           }
          ],
          "carpet": [
           {
            "aaxis": {
             "endlinecolor": "rgb(36,36,36)",
             "gridcolor": "white",
             "linecolor": "white",
             "minorgridcolor": "white",
             "startlinecolor": "rgb(36,36,36)"
            },
            "baxis": {
             "endlinecolor": "rgb(36,36,36)",
             "gridcolor": "white",
             "linecolor": "white",
             "minorgridcolor": "white",
             "startlinecolor": "rgb(36,36,36)"
            },
            "type": "carpet"
           }
          ],
          "choropleth": [
           {
            "colorbar": {
             "outlinewidth": 1,
             "tickcolor": "rgb(36,36,36)",
             "ticks": "outside"
            },
            "type": "choropleth"
           }
          ],
          "contour": [
           {
            "colorbar": {
             "outlinewidth": 1,
             "tickcolor": "rgb(36,36,36)",
             "ticks": "outside"
            },
            "colorscale": [
             [
              0,
              "#440154"
             ],
             [
              0.1111111111111111,
              "#482878"
             ],
             [
              0.2222222222222222,
              "#3e4989"
             ],
             [
              0.3333333333333333,
              "#31688e"
             ],
             [
              0.4444444444444444,
              "#26828e"
             ],
             [
              0.5555555555555556,
              "#1f9e89"
             ],
             [
              0.6666666666666666,
              "#35b779"
             ],
             [
              0.7777777777777778,
              "#6ece58"
             ],
             [
              0.8888888888888888,
              "#b5de2b"
             ],
             [
              1,
              "#fde725"
             ]
            ],
            "type": "contour"
           }
          ],
          "contourcarpet": [
           {
            "colorbar": {
             "outlinewidth": 1,
             "tickcolor": "rgb(36,36,36)",
             "ticks": "outside"
            },
            "type": "contourcarpet"
           }
          ],
          "heatmap": [
           {
            "colorbar": {
             "outlinewidth": 1,
             "tickcolor": "rgb(36,36,36)",
             "ticks": "outside"
            },
            "colorscale": [
             [
              0,
              "#440154"
             ],
             [
              0.1111111111111111,
              "#482878"
             ],
             [
              0.2222222222222222,
              "#3e4989"
             ],
             [
              0.3333333333333333,
              "#31688e"
             ],
             [
              0.4444444444444444,
              "#26828e"
             ],
             [
              0.5555555555555556,
              "#1f9e89"
             ],
             [
              0.6666666666666666,
              "#35b779"
             ],
             [
              0.7777777777777778,
              "#6ece58"
             ],
             [
              0.8888888888888888,
              "#b5de2b"
             ],
             [
              1,
              "#fde725"
             ]
            ],
            "type": "heatmap"
           }
          ],
          "heatmapgl": [
           {
            "colorbar": {
             "outlinewidth": 1,
             "tickcolor": "rgb(36,36,36)",
             "ticks": "outside"
            },
            "colorscale": [
             [
              0,
              "#440154"
             ],
             [
              0.1111111111111111,
              "#482878"
             ],
             [
              0.2222222222222222,
              "#3e4989"
             ],
             [
              0.3333333333333333,
              "#31688e"
             ],
             [
              0.4444444444444444,
              "#26828e"
             ],
             [
              0.5555555555555556,
              "#1f9e89"
             ],
             [
              0.6666666666666666,
              "#35b779"
             ],
             [
              0.7777777777777778,
              "#6ece58"
             ],
             [
              0.8888888888888888,
              "#b5de2b"
             ],
             [
              1,
              "#fde725"
             ]
            ],
            "type": "heatmapgl"
           }
          ],
          "histogram": [
           {
            "marker": {
             "line": {
              "color": "white",
              "width": 0.6
             }
            },
            "type": "histogram"
           }
          ],
          "histogram2d": [
           {
            "colorbar": {
             "outlinewidth": 1,
             "tickcolor": "rgb(36,36,36)",
             "ticks": "outside"
            },
            "colorscale": [
             [
              0,
              "#440154"
             ],
             [
              0.1111111111111111,
              "#482878"
             ],
             [
              0.2222222222222222,
              "#3e4989"
             ],
             [
              0.3333333333333333,
              "#31688e"
             ],
             [
              0.4444444444444444,
              "#26828e"
             ],
             [
              0.5555555555555556,
              "#1f9e89"
             ],
             [
              0.6666666666666666,
              "#35b779"
             ],
             [
              0.7777777777777778,
              "#6ece58"
             ],
             [
              0.8888888888888888,
              "#b5de2b"
             ],
             [
              1,
              "#fde725"
             ]
            ],
            "type": "histogram2d"
           }
          ],
          "histogram2dcontour": [
           {
            "colorbar": {
             "outlinewidth": 1,
             "tickcolor": "rgb(36,36,36)",
             "ticks": "outside"
            },
            "colorscale": [
             [
              0,
              "#440154"
             ],
             [
              0.1111111111111111,
              "#482878"
             ],
             [
              0.2222222222222222,
              "#3e4989"
             ],
             [
              0.3333333333333333,
              "#31688e"
             ],
             [
              0.4444444444444444,
              "#26828e"
             ],
             [
              0.5555555555555556,
              "#1f9e89"
             ],
             [
              0.6666666666666666,
              "#35b779"
             ],
             [
              0.7777777777777778,
              "#6ece58"
             ],
             [
              0.8888888888888888,
              "#b5de2b"
             ],
             [
              1,
              "#fde725"
             ]
            ],
            "type": "histogram2dcontour"
           }
          ],
          "mesh3d": [
           {
            "colorbar": {
             "outlinewidth": 1,
             "tickcolor": "rgb(36,36,36)",
             "ticks": "outside"
            },
            "type": "mesh3d"
           }
          ],
          "parcoords": [
           {
            "line": {
             "colorbar": {
              "outlinewidth": 1,
              "tickcolor": "rgb(36,36,36)",
              "ticks": "outside"
             }
            },
            "type": "parcoords"
           }
          ],
          "pie": [
           {
            "automargin": true,
            "type": "pie"
           }
          ],
          "scatter": [
           {
            "fillpattern": {
             "fillmode": "overlay",
             "size": 10,
             "solidity": 0.2
            },
            "type": "scatter"
           }
          ],
          "scatter3d": [
           {
            "line": {
             "colorbar": {
              "outlinewidth": 1,
              "tickcolor": "rgb(36,36,36)",
              "ticks": "outside"
             }
            },
            "marker": {
             "colorbar": {
              "outlinewidth": 1,
              "tickcolor": "rgb(36,36,36)",
              "ticks": "outside"
             }
            },
            "type": "scatter3d"
           }
          ],
          "scattercarpet": [
           {
            "marker": {
             "colorbar": {
              "outlinewidth": 1,
              "tickcolor": "rgb(36,36,36)",
              "ticks": "outside"
             }
            },
            "type": "scattercarpet"
           }
          ],
          "scattergeo": [
           {
            "marker": {
             "colorbar": {
              "outlinewidth": 1,
              "tickcolor": "rgb(36,36,36)",
              "ticks": "outside"
             }
            },
            "type": "scattergeo"
           }
          ],
          "scattergl": [
           {
            "marker": {
             "colorbar": {
              "outlinewidth": 1,
              "tickcolor": "rgb(36,36,36)",
              "ticks": "outside"
             }
            },
            "type": "scattergl"
           }
          ],
          "scattermapbox": [
           {
            "marker": {
             "colorbar": {
              "outlinewidth": 1,
              "tickcolor": "rgb(36,36,36)",
              "ticks": "outside"
             }
            },
            "type": "scattermapbox"
           }
          ],
          "scatterpolar": [
           {
            "marker": {
             "colorbar": {
              "outlinewidth": 1,
              "tickcolor": "rgb(36,36,36)",
              "ticks": "outside"
             }
            },
            "type": "scatterpolar"
           }
          ],
          "scatterpolargl": [
           {
            "marker": {
             "colorbar": {
              "outlinewidth": 1,
              "tickcolor": "rgb(36,36,36)",
              "ticks": "outside"
             }
            },
            "type": "scatterpolargl"
           }
          ],
          "scatterternary": [
           {
            "marker": {
             "colorbar": {
              "outlinewidth": 1,
              "tickcolor": "rgb(36,36,36)",
              "ticks": "outside"
             }
            },
            "type": "scatterternary"
           }
          ],
          "surface": [
           {
            "colorbar": {
             "outlinewidth": 1,
             "tickcolor": "rgb(36,36,36)",
             "ticks": "outside"
            },
            "colorscale": [
             [
              0,
              "#440154"
             ],
             [
              0.1111111111111111,
              "#482878"
             ],
             [
              0.2222222222222222,
              "#3e4989"
             ],
             [
              0.3333333333333333,
              "#31688e"
             ],
             [
              0.4444444444444444,
              "#26828e"
             ],
             [
              0.5555555555555556,
              "#1f9e89"
             ],
             [
              0.6666666666666666,
              "#35b779"
             ],
             [
              0.7777777777777778,
              "#6ece58"
             ],
             [
              0.8888888888888888,
              "#b5de2b"
             ],
             [
              1,
              "#fde725"
             ]
            ],
            "type": "surface"
           }
          ],
          "table": [
           {
            "cells": {
             "fill": {
              "color": "rgb(237,237,237)"
             },
             "line": {
              "color": "white"
             }
            },
            "header": {
             "fill": {
              "color": "rgb(217,217,217)"
             },
             "line": {
              "color": "white"
             }
            },
            "type": "table"
           }
          ]
         },
         "layout": {
          "annotationdefaults": {
           "arrowhead": 0,
           "arrowwidth": 1
          },
          "autotypenumbers": "strict",
          "coloraxis": {
           "colorbar": {
            "outlinewidth": 1,
            "tickcolor": "rgb(36,36,36)",
            "ticks": "outside"
           }
          },
          "colorscale": {
           "diverging": [
            [
             0,
             "rgb(103,0,31)"
            ],
            [
             0.1,
             "rgb(178,24,43)"
            ],
            [
             0.2,
             "rgb(214,96,77)"
            ],
            [
             0.3,
             "rgb(244,165,130)"
            ],
            [
             0.4,
             "rgb(253,219,199)"
            ],
            [
             0.5,
             "rgb(247,247,247)"
            ],
            [
             0.6,
             "rgb(209,229,240)"
            ],
            [
             0.7,
             "rgb(146,197,222)"
            ],
            [
             0.8,
             "rgb(67,147,195)"
            ],
            [
             0.9,
             "rgb(33,102,172)"
            ],
            [
             1,
             "rgb(5,48,97)"
            ]
           ],
           "sequential": [
            [
             0,
             "#440154"
            ],
            [
             0.1111111111111111,
             "#482878"
            ],
            [
             0.2222222222222222,
             "#3e4989"
            ],
            [
             0.3333333333333333,
             "#31688e"
            ],
            [
             0.4444444444444444,
             "#26828e"
            ],
            [
             0.5555555555555556,
             "#1f9e89"
            ],
            [
             0.6666666666666666,
             "#35b779"
            ],
            [
             0.7777777777777778,
             "#6ece58"
            ],
            [
             0.8888888888888888,
             "#b5de2b"
            ],
            [
             1,
             "#fde725"
            ]
           ],
           "sequentialminus": [
            [
             0,
             "#440154"
            ],
            [
             0.1111111111111111,
             "#482878"
            ],
            [
             0.2222222222222222,
             "#3e4989"
            ],
            [
             0.3333333333333333,
             "#31688e"
            ],
            [
             0.4444444444444444,
             "#26828e"
            ],
            [
             0.5555555555555556,
             "#1f9e89"
            ],
            [
             0.6666666666666666,
             "#35b779"
            ],
            [
             0.7777777777777778,
             "#6ece58"
            ],
            [
             0.8888888888888888,
             "#b5de2b"
            ],
            [
             1,
             "#fde725"
            ]
           ]
          },
          "colorway": [
           "#1F77B4",
           "#FF7F0E",
           "#2CA02C",
           "#D62728",
           "#9467BD",
           "#8C564B",
           "#E377C2",
           "#7F7F7F",
           "#BCBD22",
           "#17BECF"
          ],
          "font": {
           "color": "rgb(36,36,36)"
          },
          "geo": {
           "bgcolor": "white",
           "lakecolor": "white",
           "landcolor": "white",
           "showlakes": true,
           "showland": true,
           "subunitcolor": "white"
          },
          "hoverlabel": {
           "align": "left"
          },
          "hovermode": "closest",
          "mapbox": {
           "style": "light"
          },
          "paper_bgcolor": "white",
          "plot_bgcolor": "white",
          "polar": {
           "angularaxis": {
            "gridcolor": "rgb(232,232,232)",
            "linecolor": "rgb(36,36,36)",
            "showgrid": false,
            "showline": true,
            "ticks": "outside"
           },
           "bgcolor": "white",
           "radialaxis": {
            "gridcolor": "rgb(232,232,232)",
            "linecolor": "rgb(36,36,36)",
            "showgrid": false,
            "showline": true,
            "ticks": "outside"
           }
          },
          "scene": {
           "xaxis": {
            "backgroundcolor": "white",
            "gridcolor": "rgb(232,232,232)",
            "gridwidth": 2,
            "linecolor": "rgb(36,36,36)",
            "showbackground": true,
            "showgrid": false,
            "showline": true,
            "ticks": "outside",
            "zeroline": false,
            "zerolinecolor": "rgb(36,36,36)"
           },
           "yaxis": {
            "backgroundcolor": "white",
            "gridcolor": "rgb(232,232,232)",
            "gridwidth": 2,
            "linecolor": "rgb(36,36,36)",
            "showbackground": true,
            "showgrid": false,
            "showline": true,
            "ticks": "outside",
            "zeroline": false,
            "zerolinecolor": "rgb(36,36,36)"
           },
           "zaxis": {
            "backgroundcolor": "white",
            "gridcolor": "rgb(232,232,232)",
            "gridwidth": 2,
            "linecolor": "rgb(36,36,36)",
            "showbackground": true,
            "showgrid": false,
            "showline": true,
            "ticks": "outside",
            "zeroline": false,
            "zerolinecolor": "rgb(36,36,36)"
           }
          },
          "shapedefaults": {
           "fillcolor": "black",
           "line": {
            "width": 0
           },
           "opacity": 0.3
          },
          "ternary": {
           "aaxis": {
            "gridcolor": "rgb(232,232,232)",
            "linecolor": "rgb(36,36,36)",
            "showgrid": false,
            "showline": true,
            "ticks": "outside"
           },
           "baxis": {
            "gridcolor": "rgb(232,232,232)",
            "linecolor": "rgb(36,36,36)",
            "showgrid": false,
            "showline": true,
            "ticks": "outside"
           },
           "bgcolor": "white",
           "caxis": {
            "gridcolor": "rgb(232,232,232)",
            "linecolor": "rgb(36,36,36)",
            "showgrid": false,
            "showline": true,
            "ticks": "outside"
           }
          },
          "title": {
           "x": 0.05
          },
          "xaxis": {
           "automargin": true,
           "gridcolor": "rgb(232,232,232)",
           "linecolor": "rgb(36,36,36)",
           "showgrid": false,
           "showline": true,
           "ticks": "outside",
           "title": {
            "standoff": 15
           },
           "zeroline": false,
           "zerolinecolor": "rgb(36,36,36)"
          },
          "yaxis": {
           "automargin": true,
           "gridcolor": "rgb(232,232,232)",
           "linecolor": "rgb(36,36,36)",
           "showgrid": false,
           "showline": true,
           "ticks": "outside",
           "title": {
            "standoff": 15
           },
           "zeroline": false,
           "zerolinecolor": "rgb(36,36,36)"
          }
         }
        },
        "xaxis": {
         "anchor": "y",
         "domain": [
          0,
          1
         ],
         "title": {
          "text": "4"
         }
        },
        "xaxis2": {
         "anchor": "y2",
         "domain": [
          0,
          1
         ],
         "matches": "x",
         "showticklabels": false
        },
        "yaxis": {
         "anchor": "x",
         "domain": [
          0,
          0.8316
         ],
         "title": {
          "text": "Count"
         }
        },
        "yaxis2": {
         "anchor": "x2",
         "domain": [
          0.8416,
          1
         ],
         "matches": "y2",
         "showline": false,
         "showticklabels": false,
         "ticks": ""
        }
       }
      }
     },
     "metadata": {},
     "output_type": "display_data"
    }
   ],
   "source": [
    "# Distribution of variables\n",
    "df2 = pd.DataFrame(X)\n",
    "for i in df2.columns[2:5]:\n",
    "    fig = px.histogram(df2, \n",
    "                   x=i, \n",
    "                   marginal='box', \n",
    "                   text_auto=True,\n",
    "                   color_discrete_sequence  = ['steelblue'],\n",
    "                   template='simple_white')\n",
    "                #    title=i.upper() + ' HISTOGRAM')\n",
    "\n",
    "    fig.update_layout(xaxis_title=i, yaxis_title=\"Count\", bargap=0.1)\n",
    "    fig.show()"
   ]
  },
  {
   "cell_type": "markdown",
   "metadata": {},
   "source": [
    "Looking above at 3 random variables, we can see multiple outliers presence."
   ]
  },
  {
   "cell_type": "code",
   "execution_count": 28,
   "metadata": {},
   "outputs": [
    {
     "data": {
      "text/plain": [
       "B    357\n",
       "M    212\n",
       "Name: 1, dtype: int64"
      ]
     },
     "execution_count": 28,
     "metadata": {},
     "output_type": "execute_result"
    }
   ],
   "source": [
    "# Dependent variable weights\n",
    "df[1].value_counts()"
   ]
  },
  {
   "cell_type": "markdown",
   "metadata": {},
   "source": [
    "### Standard classification methods\n",
    "In this section we are defining several functions for batch-evaluating different models. "
   ]
  },
  {
   "cell_type": "code",
   "execution_count": 9,
   "metadata": {},
   "outputs": [
    {
     "name": "stdout",
     "output_type": "stream",
     "text": [
      "Defined 26 models\n",
      "Defined 44 models\n"
     ]
    }
   ],
   "source": [
    "from numpy import mean\n",
    "from numpy import std\n",
    "\n",
    "# dictionary of models to be evaluated\n",
    "def define_models(models=dict()):\n",
    "\t# linear models\n",
    "\tmodels['logistic'] = LogisticRegression(max_iter=1000)\n",
    "\talpha = [0.1, 0.2, 0.3]\n",
    "\tfor a in alpha:\n",
    "\t\tmodels['ridge-'+str(a)] = RidgeClassifier(alpha=a)\n",
    "\tmodels['sgd'] = SGDClassifier(max_iter=1000, tol=1e-3)\n",
    "\tmodels['pa'] = PassiveAggressiveClassifier(max_iter=1000, tol=1e-3)\n",
    "\t# nonlinear models\n",
    "\tn_neighbors = range(3, 10)\n",
    "\tfor k in n_neighbors:\n",
    "\t\tmodels['knn-'+str(k)] = KNeighborsClassifier(n_neighbors=k)\n",
    "\tmodels['cart'] = DecisionTreeClassifier()\n",
    "\tmodels['extra'] = ExtraTreeClassifier()\n",
    "\tmodels['svml'] = SVC(kernel='linear')\n",
    "\tmodels['svmp'] = SVC(kernel='poly')\n",
    "\tc_values = [0.1, 0.2, 0.3]\n",
    "\tfor c in c_values:\n",
    "\t\tmodels['svmr'+str(c)] = SVC(C=c)\n",
    "\tmodels['bayes'] = GaussianNB()\n",
    "\t# ensemble models\n",
    "\tn_trees = 100\n",
    "\tmodels['ada'] = AdaBoostClassifier(n_estimators=n_trees)\n",
    "\tmodels['bag'] = BaggingClassifier(n_estimators=n_trees)\n",
    "\tmodels['rf'] = RandomForestClassifier(n_estimators=n_trees)\n",
    "\tmodels['et'] = ExtraTreesClassifier(n_estimators=n_trees)\n",
    "\tmodels['gbm'] = GradientBoostingClassifier(n_estimators=n_trees)\n",
    "\tprint('Defined %d models' % len(models))\n",
    "\treturn models\n",
    "\n",
    "# additionally define and append gradient boosting models to the previously created list of models\n",
    "def define_gbm_models(models=dict(), use_xgb=True):\n",
    "\t# define config ranges\n",
    "\trates = [0.001, 0.01, 0.1]\n",
    "\ttrees = [100,500]\n",
    "\tdepth = [3, 7, 9]\n",
    "\t# adding consecutive configurations\n",
    "\tfor l in rates:\n",
    "\t\tfor e in trees:\n",
    "\t\t\tfor d in depth:\n",
    "\t\t\t\tcfg = [l, e, d]#[l, e, s, d]\n",
    "\t\t\t\tif use_xgb:\n",
    "\t\t\t\t\tname = 'xgb-' + str(cfg)\n",
    "\t\t\t\t\tmodels[name] = XGBClassifier(learning_rate=l, n_estimators=e, max_depth=d)\n",
    "\t\t\t\telse:\n",
    "\t\t\t\t\tname = 'gbm-' + str(cfg)\n",
    "\t\t\t\t\tmodels[name] = GradientBoostingClassifier(learning_rate=l, n_estimators=e, max_depth=d)\n",
    "\tprint('Defined %d models' % len(models))\n",
    "\treturn models\n",
    "\n",
    "# evaluate a single model\n",
    "def evaluate_model(X, y, model, folds, metric):\n",
    "\tskf = StratifiedKFold(n_splits=folds, shuffle = True, random_state = 1001)\n",
    "\t# create the pipeline\n",
    "\tpipeline = make_pipeline(model)\n",
    "\t# evaluate model\n",
    "\tscores = cross_val_score(pipeline, X, y, scoring=metric, cv=skf, verbose=5)\n",
    "\treturn scores\n",
    " \n",
    "# evaluate a single model and try to trap errors and hide warnings\n",
    "def hidden_evaluate_mode(X, y, model, folds, metric):\n",
    "\tscores = None\n",
    "\ttry:\n",
    "\t\twith warnings.catch_warnings():\n",
    "\t\t\twarnings.filterwarnings(\"ignore\")\n",
    "\t\t\tscores = evaluate_model(X, y, model, folds, metric)\n",
    "\texcept:\n",
    "\t\tscores = None\n",
    "\treturn scores\n",
    " \n",
    "# evaluate a dict of models {name:object}, returns {name:score}\n",
    "def evaluate_models(X, y, models, folds=3, metric='accuracy'):\n",
    "\tresults = dict()\n",
    "\tfor name, model in models.items():\n",
    "\t\t# evaluate the model\n",
    "\t\tscores = hidden_evaluate_mode(X, y, model, folds, metric)\n",
    "\t\t# show process\n",
    "\t\tif scores is not None:\n",
    "\t\t\t# store a result\n",
    "\t\t\tresults[name] = scores\n",
    "\t\t\tmean_score, std_score = mean(scores), std(scores)\n",
    "\t\t\tprint('>%s: %.3f (+/-%.3f)' % (name, mean_score, std_score))\n",
    "\t\telse:\n",
    "\t\t\tprint('>%s: error' % name)\n",
    "\treturn results\n",
    " \n",
    "# print and plot the top n results\n",
    "def summarize_results(results, maximize=True, top_n=10):\n",
    "\t# check for no results\n",
    "\tif len(results) == 0:\n",
    "\t\tprint('no results')\n",
    "\t\treturn\n",
    "\t# determine how many results to summarize\n",
    "\tn = min(top_n, len(results))\n",
    "\t# create a list of (name, mean(scores)) tuples\n",
    "\tmean_scores = [(k, mean(v)) for k,v in results.items()]\n",
    "\t# sort tuples by mean score\n",
    "\tmean_scores = sorted(mean_scores, key=lambda x: x[1])\n",
    "\t# reverse for descending order (e.g. for accuracy)\n",
    "\tif maximize:\n",
    "\t\tmean_scores = list(reversed(mean_scores))\n",
    "\t# retrieve the top n for summarization\n",
    "\tnames = [x[0] for x in mean_scores[:n]]\n",
    "\tscores = [results[x[0]] for x in mean_scores[:n]]\n",
    "\t# print the top n\n",
    "\tprint()\n",
    "\tfor i in range(n):\n",
    "\t\tname = names[i]\n",
    "\t\tmean_score, std_score = mean(results[name]), std(results[name])\n",
    "\t\tprint('Rank=%d, Name=%s, Score=%.3f (+/- %.3f)' % (i+1, name, mean_score, std_score))\n",
    "\t# boxplot for the top n\n",
    "\tplt.boxplot(scores, labels=names)\n",
    "\t_, labels = plt.xticks()\n",
    "\tplt.setp(labels, rotation=90)\n",
    "\tplt.savefig('spotcheck.png')\n",
    "\n",
    "# get model list\n",
    "models = define_models()\n",
    "models = define_gbm_models(models)"
   ]
  },
  {
   "cell_type": "markdown",
   "metadata": {},
   "source": [
    "We are also defining pipeline to scale the variables with RobustScaler() due to presence of outliers and perform Principal Compoent Analysis to reduce feature space."
   ]
  },
  {
   "cell_type": "code",
   "execution_count": 10,
   "metadata": {},
   "outputs": [
    {
     "data": {
      "text/html": [
       "<style>#sk-container-id-2 {color: black;background-color: white;}#sk-container-id-2 pre{padding: 0;}#sk-container-id-2 div.sk-toggleable {background-color: white;}#sk-container-id-2 label.sk-toggleable__label {cursor: pointer;display: block;width: 100%;margin-bottom: 0;padding: 0.3em;box-sizing: border-box;text-align: center;}#sk-container-id-2 label.sk-toggleable__label-arrow:before {content: \"▸\";float: left;margin-right: 0.25em;color: #696969;}#sk-container-id-2 label.sk-toggleable__label-arrow:hover:before {color: black;}#sk-container-id-2 div.sk-estimator:hover label.sk-toggleable__label-arrow:before {color: black;}#sk-container-id-2 div.sk-toggleable__content {max-height: 0;max-width: 0;overflow: hidden;text-align: left;background-color: #f0f8ff;}#sk-container-id-2 div.sk-toggleable__content pre {margin: 0.2em;color: black;border-radius: 0.25em;background-color: #f0f8ff;}#sk-container-id-2 input.sk-toggleable__control:checked~div.sk-toggleable__content {max-height: 200px;max-width: 100%;overflow: auto;}#sk-container-id-2 input.sk-toggleable__control:checked~label.sk-toggleable__label-arrow:before {content: \"▾\";}#sk-container-id-2 div.sk-estimator input.sk-toggleable__control:checked~label.sk-toggleable__label {background-color: #d4ebff;}#sk-container-id-2 div.sk-label input.sk-toggleable__control:checked~label.sk-toggleable__label {background-color: #d4ebff;}#sk-container-id-2 input.sk-hidden--visually {border: 0;clip: rect(1px 1px 1px 1px);clip: rect(1px, 1px, 1px, 1px);height: 1px;margin: -1px;overflow: hidden;padding: 0;position: absolute;width: 1px;}#sk-container-id-2 div.sk-estimator {font-family: monospace;background-color: #f0f8ff;border: 1px dotted black;border-radius: 0.25em;box-sizing: border-box;margin-bottom: 0.5em;}#sk-container-id-2 div.sk-estimator:hover {background-color: #d4ebff;}#sk-container-id-2 div.sk-parallel-item::after {content: \"\";width: 100%;border-bottom: 1px solid gray;flex-grow: 1;}#sk-container-id-2 div.sk-label:hover label.sk-toggleable__label {background-color: #d4ebff;}#sk-container-id-2 div.sk-serial::before {content: \"\";position: absolute;border-left: 1px solid gray;box-sizing: border-box;top: 0;bottom: 0;left: 50%;z-index: 0;}#sk-container-id-2 div.sk-serial {display: flex;flex-direction: column;align-items: center;background-color: white;padding-right: 0.2em;padding-left: 0.2em;position: relative;}#sk-container-id-2 div.sk-item {position: relative;z-index: 1;}#sk-container-id-2 div.sk-parallel {display: flex;align-items: stretch;justify-content: center;background-color: white;position: relative;}#sk-container-id-2 div.sk-item::before, #sk-container-id-2 div.sk-parallel-item::before {content: \"\";position: absolute;border-left: 1px solid gray;box-sizing: border-box;top: 0;bottom: 0;left: 50%;z-index: -1;}#sk-container-id-2 div.sk-parallel-item {display: flex;flex-direction: column;z-index: 1;position: relative;background-color: white;}#sk-container-id-2 div.sk-parallel-item:first-child::after {align-self: flex-end;width: 50%;}#sk-container-id-2 div.sk-parallel-item:last-child::after {align-self: flex-start;width: 50%;}#sk-container-id-2 div.sk-parallel-item:only-child::after {width: 0;}#sk-container-id-2 div.sk-dashed-wrapped {border: 1px dashed gray;margin: 0 0.4em 0.5em 0.4em;box-sizing: border-box;padding-bottom: 0.4em;background-color: white;}#sk-container-id-2 div.sk-label label {font-family: monospace;font-weight: bold;display: inline-block;line-height: 1.2em;}#sk-container-id-2 div.sk-label-container {text-align: center;}#sk-container-id-2 div.sk-container {/* jupyter's `normalize.less` sets `[hidden] { display: none; }` but bootstrap.min.css set `[hidden] { display: none !important; }` so we also need the `!important` here to be able to override the default hidden behavior on the sphinx rendered scikit-learn.org. See: https://github.com/scikit-learn/scikit-learn/issues/21755 */display: inline-block !important;position: relative;}#sk-container-id-2 div.sk-text-repr-fallback {display: none;}</style><div id=\"sk-container-id-2\" class=\"sk-top-container\"><div class=\"sk-text-repr-fallback\"><pre>Pipeline(steps=[(&#x27;preprocessor&#x27;,\n",
       "                 ColumnTransformer(transformers=[(&#x27;numeric&#x27;,\n",
       "                                                  Pipeline(steps=[(&#x27;standard_scaler&#x27;,\n",
       "                                                                   RobustScaler()),\n",
       "                                                                  (&#x27;pca&#x27;,\n",
       "                                                                   PCA())]),\n",
       "                                                  slice(2, 32, None))])),\n",
       "                (&#x27;model&#x27;, LogisticRegression(max_iter=1000))])</pre><b>In a Jupyter environment, please rerun this cell to show the HTML representation or trust the notebook. <br />On GitHub, the HTML representation is unable to render, please try loading this page with nbviewer.org.</b></div><div class=\"sk-container\" hidden><div class=\"sk-item sk-dashed-wrapped\"><div class=\"sk-label-container\"><div class=\"sk-label sk-toggleable\"><input class=\"sk-toggleable__control sk-hidden--visually\" id=\"sk-estimator-id-7\" type=\"checkbox\" ><label for=\"sk-estimator-id-7\" class=\"sk-toggleable__label sk-toggleable__label-arrow\">Pipeline</label><div class=\"sk-toggleable__content\"><pre>Pipeline(steps=[(&#x27;preprocessor&#x27;,\n",
       "                 ColumnTransformer(transformers=[(&#x27;numeric&#x27;,\n",
       "                                                  Pipeline(steps=[(&#x27;standard_scaler&#x27;,\n",
       "                                                                   RobustScaler()),\n",
       "                                                                  (&#x27;pca&#x27;,\n",
       "                                                                   PCA())]),\n",
       "                                                  slice(2, 32, None))])),\n",
       "                (&#x27;model&#x27;, LogisticRegression(max_iter=1000))])</pre></div></div></div><div class=\"sk-serial\"><div class=\"sk-item sk-dashed-wrapped\"><div class=\"sk-label-container\"><div class=\"sk-label sk-toggleable\"><input class=\"sk-toggleable__control sk-hidden--visually\" id=\"sk-estimator-id-8\" type=\"checkbox\" ><label for=\"sk-estimator-id-8\" class=\"sk-toggleable__label sk-toggleable__label-arrow\">preprocessor: ColumnTransformer</label><div class=\"sk-toggleable__content\"><pre>ColumnTransformer(transformers=[(&#x27;numeric&#x27;,\n",
       "                                 Pipeline(steps=[(&#x27;standard_scaler&#x27;,\n",
       "                                                  RobustScaler()),\n",
       "                                                 (&#x27;pca&#x27;, PCA())]),\n",
       "                                 slice(2, 32, None))])</pre></div></div></div><div class=\"sk-parallel\"><div class=\"sk-parallel-item\"><div class=\"sk-item\"><div class=\"sk-label-container\"><div class=\"sk-label sk-toggleable\"><input class=\"sk-toggleable__control sk-hidden--visually\" id=\"sk-estimator-id-9\" type=\"checkbox\" ><label for=\"sk-estimator-id-9\" class=\"sk-toggleable__label sk-toggleable__label-arrow\">numeric</label><div class=\"sk-toggleable__content\"><pre>slice(2, 32, None)</pre></div></div></div><div class=\"sk-serial\"><div class=\"sk-item\"><div class=\"sk-serial\"><div class=\"sk-item\"><div class=\"sk-estimator sk-toggleable\"><input class=\"sk-toggleable__control sk-hidden--visually\" id=\"sk-estimator-id-10\" type=\"checkbox\" ><label for=\"sk-estimator-id-10\" class=\"sk-toggleable__label sk-toggleable__label-arrow\">RobustScaler</label><div class=\"sk-toggleable__content\"><pre>RobustScaler()</pre></div></div></div><div class=\"sk-item\"><div class=\"sk-estimator sk-toggleable\"><input class=\"sk-toggleable__control sk-hidden--visually\" id=\"sk-estimator-id-11\" type=\"checkbox\" ><label for=\"sk-estimator-id-11\" class=\"sk-toggleable__label sk-toggleable__label-arrow\">PCA</label><div class=\"sk-toggleable__content\"><pre>PCA()</pre></div></div></div></div></div></div></div></div></div></div><div class=\"sk-item\"><div class=\"sk-estimator sk-toggleable\"><input class=\"sk-toggleable__control sk-hidden--visually\" id=\"sk-estimator-id-12\" type=\"checkbox\" ><label for=\"sk-estimator-id-12\" class=\"sk-toggleable__label sk-toggleable__label-arrow\">LogisticRegression</label><div class=\"sk-toggleable__content\"><pre>LogisticRegression(max_iter=1000)</pre></div></div></div></div></div></div></div>"
      ],
      "text/plain": [
       "Pipeline(steps=[('preprocessor',\n",
       "                 ColumnTransformer(transformers=[('numeric',\n",
       "                                                  Pipeline(steps=[('standard_scaler',\n",
       "                                                                   RobustScaler()),\n",
       "                                                                  ('pca',\n",
       "                                                                   PCA())]),\n",
       "                                                  slice(2, 32, None))])),\n",
       "                ('model', LogisticRegression(max_iter=1000))])"
      ]
     },
     "execution_count": 10,
     "metadata": {},
     "output_type": "execute_result"
    }
   ],
   "source": [
    "#DEFINING PIPELINE\n",
    "def make_pipeline(model):\n",
    "\n",
    "    numeric_transformer = Pipeline(steps=[\n",
    "        # ('imputer', SimpleImputer(strategy='mean')),\n",
    "        ('standard_scaler', RobustScaler()),\n",
    "        ('pca', PCA())#n_components=0.9, svd_solver='full'))\n",
    "    ])\n",
    "    preprocessor = ColumnTransformer(\n",
    "    transformers=[\n",
    "        ('numeric', numeric_transformer, slice(2,32)),\n",
    "        # ('categorical', categorical_transformer, categorical_features)\n",
    "    ]) \n",
    "\n",
    "    pipeline = Pipeline(steps = [\n",
    "                ('preprocessor', preprocessor),\n",
    "                ('model', model)\n",
    "            ])\n",
    "    return pipeline\n",
    "# Call function once to show a sample pipeline\n",
    "make_pipeline(model = models['logistic'])"
   ]
  },
  {
   "cell_type": "markdown",
   "metadata": {},
   "source": [
    "Now we evaluate pre-prepared dictionary of models with 3-fold cross validation on the training set."
   ]
  },
  {
   "cell_type": "code",
   "execution_count": 12,
   "metadata": {},
   "outputs": [
    {
     "name": "stderr",
     "output_type": "stream",
     "text": [
      "[Parallel(n_jobs=1)]: Using backend SequentialBackend with 1 concurrent workers.\n",
      "[Parallel(n_jobs=1)]: Done   1 out of   1 | elapsed:    0.0s remaining:    0.0s\n",
      "[Parallel(n_jobs=1)]: Done   2 out of   2 | elapsed:    0.0s remaining:    0.0s\n",
      "[Parallel(n_jobs=1)]: Done   3 out of   3 | elapsed:    0.0s remaining:    0.0s\n",
      "[Parallel(n_jobs=1)]: Done   3 out of   3 | elapsed:    0.0s finished\n",
      "[Parallel(n_jobs=1)]: Using backend SequentialBackend with 1 concurrent workers.\n"
     ]
    },
    {
     "name": "stdout",
     "output_type": "stream",
     "text": [
      "[CV] END ................................ score: (test=0.971) total time=   0.0s\n",
      "[CV] END ................................ score: (test=0.965) total time=   0.0s\n",
      "[CV] END ................................ score: (test=0.982) total time=   0.0s\n",
      ">logistic: 0.973 (+/-0.007)\n",
      "[CV] END ................................ score: (test=0.965) total time=   0.0s\n",
      "[CV] END ................................ score: (test=0.918) total time=   0.0s\n"
     ]
    },
    {
     "name": "stderr",
     "output_type": "stream",
     "text": [
      "[Parallel(n_jobs=1)]: Done   1 out of   1 | elapsed:    0.0s remaining:    0.0s\n",
      "[Parallel(n_jobs=1)]: Done   2 out of   2 | elapsed:    0.0s remaining:    0.0s\n",
      "[Parallel(n_jobs=1)]: Done   3 out of   3 | elapsed:    0.0s remaining:    0.0s\n",
      "[Parallel(n_jobs=1)]: Done   3 out of   3 | elapsed:    0.0s finished\n",
      "[Parallel(n_jobs=1)]: Using backend SequentialBackend with 1 concurrent workers.\n",
      "[Parallel(n_jobs=1)]: Done   1 out of   1 | elapsed:    0.0s remaining:    0.0s\n",
      "[Parallel(n_jobs=1)]: Done   2 out of   2 | elapsed:    0.0s remaining:    0.0s\n",
      "[Parallel(n_jobs=1)]: Done   3 out of   3 | elapsed:    0.0s remaining:    0.0s\n",
      "[Parallel(n_jobs=1)]: Done   3 out of   3 | elapsed:    0.0s finished\n",
      "[Parallel(n_jobs=1)]: Using backend SequentialBackend with 1 concurrent workers.\n"
     ]
    },
    {
     "name": "stdout",
     "output_type": "stream",
     "text": [
      "[CV] END ................................ score: (test=0.965) total time=   0.0s\n",
      ">ridge-0.1: 0.949 (+/-0.022)\n",
      "[CV] END ................................ score: (test=0.965) total time=   0.0s\n",
      "[CV] END ................................ score: (test=0.918) total time=   0.0s\n",
      "[CV] END ................................ score: (test=0.965) total time=   0.0s\n",
      ">ridge-0.2: 0.949 (+/-0.022)\n",
      "[CV] END ................................ score: (test=0.965) total time=   0.0s\n",
      "[CV] END ................................ score: (test=0.918) total time=   0.0s\n"
     ]
    },
    {
     "name": "stderr",
     "output_type": "stream",
     "text": [
      "[Parallel(n_jobs=1)]: Done   1 out of   1 | elapsed:    0.0s remaining:    0.0s\n",
      "[Parallel(n_jobs=1)]: Done   2 out of   2 | elapsed:    0.0s remaining:    0.0s\n",
      "[Parallel(n_jobs=1)]: Done   3 out of   3 | elapsed:    0.0s remaining:    0.0s\n",
      "[Parallel(n_jobs=1)]: Done   3 out of   3 | elapsed:    0.0s finished\n",
      "[Parallel(n_jobs=1)]: Using backend SequentialBackend with 1 concurrent workers.\n",
      "[Parallel(n_jobs=1)]: Done   1 out of   1 | elapsed:    0.0s remaining:    0.0s\n",
      "[Parallel(n_jobs=1)]: Done   2 out of   2 | elapsed:    0.0s remaining:    0.0s\n",
      "[Parallel(n_jobs=1)]: Done   3 out of   3 | elapsed:    0.0s remaining:    0.0s\n",
      "[Parallel(n_jobs=1)]: Done   3 out of   3 | elapsed:    0.0s finished\n",
      "[Parallel(n_jobs=1)]: Using backend SequentialBackend with 1 concurrent workers.\n"
     ]
    },
    {
     "name": "stdout",
     "output_type": "stream",
     "text": [
      "[CV] END ................................ score: (test=0.965) total time=   0.0s\n",
      ">ridge-0.3: 0.949 (+/-0.022)\n",
      "[CV] END ................................ score: (test=0.971) total time=   0.0s\n",
      "[CV] END ................................ score: (test=0.971) total time=   0.0s\n",
      "[CV] END ................................ score: (test=0.965) total time=   0.0s\n",
      ">sgd: 0.969 (+/-0.003)\n",
      "[CV] END ................................ score: (test=0.977) total time=   0.0s\n"
     ]
    },
    {
     "name": "stderr",
     "output_type": "stream",
     "text": [
      "[Parallel(n_jobs=1)]: Done   1 out of   1 | elapsed:    0.0s remaining:    0.0s\n",
      "[Parallel(n_jobs=1)]: Done   2 out of   2 | elapsed:    0.0s remaining:    0.0s\n",
      "[Parallel(n_jobs=1)]: Done   3 out of   3 | elapsed:    0.0s remaining:    0.0s\n",
      "[Parallel(n_jobs=1)]: Done   3 out of   3 | elapsed:    0.0s finished\n",
      "[Parallel(n_jobs=1)]: Using backend SequentialBackend with 1 concurrent workers.\n"
     ]
    },
    {
     "name": "stdout",
     "output_type": "stream",
     "text": [
      "[CV] END ................................ score: (test=0.953) total time=   0.0s\n",
      "[CV] END ................................ score: (test=0.976) total time=   0.0s\n",
      ">pa: 0.969 (+/-0.011)\n",
      "[CV] END ................................ score: (test=0.965) total time=   0.0s\n"
     ]
    },
    {
     "name": "stderr",
     "output_type": "stream",
     "text": [
      "[Parallel(n_jobs=1)]: Done   1 out of   1 | elapsed:    0.0s remaining:    0.0s\n",
      "[Parallel(n_jobs=1)]: Done   2 out of   2 | elapsed:    0.1s remaining:    0.0s\n",
      "[Parallel(n_jobs=1)]: Done   3 out of   3 | elapsed:    0.2s remaining:    0.0s\n",
      "[Parallel(n_jobs=1)]: Done   3 out of   3 | elapsed:    0.2s finished\n",
      "[Parallel(n_jobs=1)]: Using backend SequentialBackend with 1 concurrent workers.\n"
     ]
    },
    {
     "name": "stdout",
     "output_type": "stream",
     "text": [
      "[CV] END ................................ score: (test=0.936) total time=   0.0s\n",
      "[CV] END ................................ score: (test=0.935) total time=   0.0s\n",
      ">knn-3: 0.945 (+/-0.014)\n",
      "[CV] END ................................ score: (test=0.959) total time=   0.0s\n",
      "[CV] END ................................ score: (test=0.918) total time=   0.0s\n"
     ]
    },
    {
     "name": "stderr",
     "output_type": "stream",
     "text": [
      "[Parallel(n_jobs=1)]: Done   1 out of   1 | elapsed:    0.0s remaining:    0.0s\n",
      "[Parallel(n_jobs=1)]: Done   2 out of   2 | elapsed:    0.0s remaining:    0.0s\n"
     ]
    },
    {
     "name": "stdout",
     "output_type": "stream",
     "text": [
      "[CV] END ................................ score: (test=0.941) total time=   0.1s\n",
      ">knn-4: 0.939 (+/-0.017)\n"
     ]
    },
    {
     "name": "stderr",
     "output_type": "stream",
     "text": [
      "[Parallel(n_jobs=1)]: Done   3 out of   3 | elapsed:    0.2s remaining:    0.0s\n",
      "[Parallel(n_jobs=1)]: Done   3 out of   3 | elapsed:    0.2s finished\n",
      "[Parallel(n_jobs=1)]: Using backend SequentialBackend with 1 concurrent workers.\n"
     ]
    },
    {
     "name": "stdout",
     "output_type": "stream",
     "text": [
      "[CV] END ................................ score: (test=0.965) total time=   0.4s\n",
      "[CV] END ................................ score: (test=0.924) total time=   0.0s\n",
      "[CV] END ................................ score: (test=0.941) total time=   0.0s\n",
      ">knn-5: 0.943 (+/-0.017)\n"
     ]
    },
    {
     "name": "stderr",
     "output_type": "stream",
     "text": [
      "[Parallel(n_jobs=1)]: Done   1 out of   1 | elapsed:    0.4s remaining:    0.0s\n",
      "[Parallel(n_jobs=1)]: Done   2 out of   2 | elapsed:    0.5s remaining:    0.0s\n",
      "[Parallel(n_jobs=1)]: Done   3 out of   3 | elapsed:    0.6s remaining:    0.0s\n",
      "[Parallel(n_jobs=1)]: Done   3 out of   3 | elapsed:    0.6s finished\n",
      "[Parallel(n_jobs=1)]: Using backend SequentialBackend with 1 concurrent workers.\n"
     ]
    },
    {
     "name": "stdout",
     "output_type": "stream",
     "text": [
      "[CV] END ................................ score: (test=0.971) total time=   0.0s\n",
      "[CV] END ................................ score: (test=0.918) total time=   0.0s\n",
      "[CV] END ................................ score: (test=0.953) total time=   0.0s\n",
      ">knn-6: 0.947 (+/-0.022)\n"
     ]
    },
    {
     "name": "stderr",
     "output_type": "stream",
     "text": [
      "[Parallel(n_jobs=1)]: Done   1 out of   1 | elapsed:    0.0s remaining:    0.0s\n",
      "[Parallel(n_jobs=1)]: Done   2 out of   2 | elapsed:    0.1s remaining:    0.0s\n",
      "[Parallel(n_jobs=1)]: Done   3 out of   3 | elapsed:    0.1s remaining:    0.0s\n",
      "[Parallel(n_jobs=1)]: Done   3 out of   3 | elapsed:    0.1s finished\n",
      "[Parallel(n_jobs=1)]: Using backend SequentialBackend with 1 concurrent workers.\n"
     ]
    },
    {
     "name": "stdout",
     "output_type": "stream",
     "text": [
      "[CV] END ................................ score: (test=0.965) total time=   0.0s\n",
      "[CV] END ................................ score: (test=0.924) total time=   0.0s\n",
      "[CV] END ................................ score: (test=0.959) total time=   0.0s\n",
      ">knn-7: 0.949 (+/-0.018)\n"
     ]
    },
    {
     "name": "stderr",
     "output_type": "stream",
     "text": [
      "[Parallel(n_jobs=1)]: Done   1 out of   1 | elapsed:    0.0s remaining:    0.0s\n",
      "[Parallel(n_jobs=1)]: Done   2 out of   2 | elapsed:    0.1s remaining:    0.0s\n",
      "[Parallel(n_jobs=1)]: Done   3 out of   3 | elapsed:    0.1s remaining:    0.0s\n",
      "[Parallel(n_jobs=1)]: Done   3 out of   3 | elapsed:    0.1s finished\n",
      "[Parallel(n_jobs=1)]: Using backend SequentialBackend with 1 concurrent workers.\n"
     ]
    },
    {
     "name": "stdout",
     "output_type": "stream",
     "text": [
      "[CV] END ................................ score: (test=0.977) total time=   0.0s\n",
      "[CV] END ................................ score: (test=0.906) total time=   0.0s\n",
      "[CV] END ................................ score: (test=0.959) total time=   0.0s\n",
      ">knn-8: 0.947 (+/-0.030)\n"
     ]
    },
    {
     "name": "stderr",
     "output_type": "stream",
     "text": [
      "[Parallel(n_jobs=1)]: Done   1 out of   1 | elapsed:    0.0s remaining:    0.0s\n",
      "[Parallel(n_jobs=1)]: Done   2 out of   2 | elapsed:    0.1s remaining:    0.0s\n",
      "[Parallel(n_jobs=1)]: Done   3 out of   3 | elapsed:    0.1s remaining:    0.0s\n",
      "[Parallel(n_jobs=1)]: Done   3 out of   3 | elapsed:    0.1s finished\n",
      "[Parallel(n_jobs=1)]: Using backend SequentialBackend with 1 concurrent workers.\n"
     ]
    },
    {
     "name": "stdout",
     "output_type": "stream",
     "text": [
      "[CV] END ................................ score: (test=0.977) total time=   0.1s\n",
      "[CV] END ................................ score: (test=0.924) total time=   0.0s\n",
      "[CV] END ................................ score: (test=0.965) total time=   0.0s\n",
      ">knn-9: 0.955 (+/-0.023)\n",
      "[CV] END ................................ score: (test=0.901) total time=   0.0s\n",
      "[CV] END ................................ score: (test=0.854) total time=   0.0s\n"
     ]
    },
    {
     "name": "stderr",
     "output_type": "stream",
     "text": [
      "[Parallel(n_jobs=1)]: Done   1 out of   1 | elapsed:    0.1s remaining:    0.0s\n",
      "[Parallel(n_jobs=1)]: Done   2 out of   2 | elapsed:    0.1s remaining:    0.0s\n",
      "[Parallel(n_jobs=1)]: Done   3 out of   3 | elapsed:    0.2s remaining:    0.0s\n",
      "[Parallel(n_jobs=1)]: Done   3 out of   3 | elapsed:    0.2s finished\n",
      "[Parallel(n_jobs=1)]: Using backend SequentialBackend with 1 concurrent workers.\n",
      "[Parallel(n_jobs=1)]: Done   1 out of   1 | elapsed:    0.0s remaining:    0.0s\n",
      "[Parallel(n_jobs=1)]: Done   2 out of   2 | elapsed:    0.0s remaining:    0.0s\n"
     ]
    },
    {
     "name": "stdout",
     "output_type": "stream",
     "text": [
      "[CV] END ................................ score: (test=0.882) total time=   0.0s\n",
      ">cart: 0.879 (+/-0.019)\n",
      "[CV] END ................................ score: (test=0.830) total time=   0.0s\n",
      "[CV] END ................................ score: (test=0.731) total time=   0.0s\n",
      "[CV] END ................................ score: (test=0.724) total time=   0.0s\n",
      ">extra: 0.762 (+/-0.049)\n",
      "[CV] END ................................ score: (test=0.977) total time=   0.0s\n",
      "[CV] END ................................ score: (test=0.971) total time=   0.0s\n",
      "[CV] END ................................ score: (test=0.976) total time=   0.0s\n",
      ">svml: 0.975 (+/-0.003)\n"
     ]
    },
    {
     "name": "stderr",
     "output_type": "stream",
     "text": [
      "[Parallel(n_jobs=1)]: Done   3 out of   3 | elapsed:    0.0s remaining:    0.0s\n",
      "[Parallel(n_jobs=1)]: Done   3 out of   3 | elapsed:    0.0s finished\n",
      "[Parallel(n_jobs=1)]: Using backend SequentialBackend with 1 concurrent workers.\n",
      "[Parallel(n_jobs=1)]: Done   1 out of   1 | elapsed:    0.0s remaining:    0.0s\n",
      "[Parallel(n_jobs=1)]: Done   2 out of   2 | elapsed:    0.0s remaining:    0.0s\n",
      "[Parallel(n_jobs=1)]: Done   3 out of   3 | elapsed:    0.0s remaining:    0.0s\n",
      "[Parallel(n_jobs=1)]: Done   3 out of   3 | elapsed:    0.0s finished\n",
      "[Parallel(n_jobs=1)]: Using backend SequentialBackend with 1 concurrent workers.\n",
      "[Parallel(n_jobs=1)]: Done   1 out of   1 | elapsed:    0.0s remaining:    0.0s\n",
      "[Parallel(n_jobs=1)]: Done   2 out of   2 | elapsed:    0.0s remaining:    0.0s\n",
      "[Parallel(n_jobs=1)]: Done   3 out of   3 | elapsed:    0.0s remaining:    0.0s\n",
      "[Parallel(n_jobs=1)]: Done   3 out of   3 | elapsed:    0.0s finished\n",
      "[Parallel(n_jobs=1)]: Using backend SequentialBackend with 1 concurrent workers.\n"
     ]
    },
    {
     "name": "stdout",
     "output_type": "stream",
     "text": [
      "[CV] END ................................ score: (test=0.883) total time=   0.0s\n",
      "[CV] END ................................ score: (test=0.842) total time=   0.0s\n",
      "[CV] END ................................ score: (test=0.894) total time=   0.0s\n",
      ">svmp: 0.873 (+/-0.022)\n",
      "[CV] END ................................ score: (test=0.965) total time=   0.0s\n",
      "[CV] END ................................ score: (test=0.871) total time=   0.0s\n"
     ]
    },
    {
     "name": "stderr",
     "output_type": "stream",
     "text": [
      "[Parallel(n_jobs=1)]: Done   1 out of   1 | elapsed:    0.0s remaining:    0.0s\n",
      "[Parallel(n_jobs=1)]: Done   2 out of   2 | elapsed:    0.0s remaining:    0.0s\n",
      "[Parallel(n_jobs=1)]: Done   3 out of   3 | elapsed:    0.0s remaining:    0.0s\n",
      "[Parallel(n_jobs=1)]: Done   3 out of   3 | elapsed:    0.0s finished\n",
      "[Parallel(n_jobs=1)]: Using backend SequentialBackend with 1 concurrent workers.\n",
      "[Parallel(n_jobs=1)]: Done   1 out of   1 | elapsed:    0.0s remaining:    0.0s\n",
      "[Parallel(n_jobs=1)]: Done   2 out of   2 | elapsed:    0.0s remaining:    0.0s\n"
     ]
    },
    {
     "name": "stdout",
     "output_type": "stream",
     "text": [
      "[CV] END ................................ score: (test=0.941) total time=   0.0s\n",
      ">svmr0.1: 0.926 (+/-0.040)\n",
      "[CV] END ................................ score: (test=0.965) total time=   0.0s\n",
      "[CV] END ................................ score: (test=0.901) total time=   0.0s\n",
      "[CV] END ................................ score: (test=0.947) total time=   0.0s\n",
      ">svmr0.2: 0.938 (+/-0.027)\n"
     ]
    },
    {
     "name": "stderr",
     "output_type": "stream",
     "text": [
      "[Parallel(n_jobs=1)]: Done   3 out of   3 | elapsed:    0.0s remaining:    0.0s\n",
      "[Parallel(n_jobs=1)]: Done   3 out of   3 | elapsed:    0.0s finished\n",
      "[Parallel(n_jobs=1)]: Using backend SequentialBackend with 1 concurrent workers.\n",
      "[Parallel(n_jobs=1)]: Done   1 out of   1 | elapsed:    0.0s remaining:    0.0s\n",
      "[Parallel(n_jobs=1)]: Done   2 out of   2 | elapsed:    0.0s remaining:    0.0s\n",
      "[Parallel(n_jobs=1)]: Done   3 out of   3 | elapsed:    0.1s remaining:    0.0s\n",
      "[Parallel(n_jobs=1)]: Done   3 out of   3 | elapsed:    0.1s finished\n",
      "[Parallel(n_jobs=1)]: Using backend SequentialBackend with 1 concurrent workers.\n"
     ]
    },
    {
     "name": "stdout",
     "output_type": "stream",
     "text": [
      "[CV] END ................................ score: (test=0.965) total time=   0.0s\n",
      "[CV] END ................................ score: (test=0.906) total time=   0.0s\n",
      "[CV] END ................................ score: (test=0.965) total time=   0.0s\n",
      ">svmr0.3: 0.945 (+/-0.028)\n",
      "[CV] END ................................ score: (test=0.889) total time=   0.0s\n",
      "[CV] END ................................ score: (test=0.795) total time=   0.0s\n",
      "[CV] END ................................ score: (test=0.847) total time=   0.0s\n",
      ">bayes: 0.844 (+/-0.038)\n"
     ]
    },
    {
     "name": "stderr",
     "output_type": "stream",
     "text": [
      "[Parallel(n_jobs=1)]: Done   1 out of   1 | elapsed:    0.0s remaining:    0.0s\n",
      "[Parallel(n_jobs=1)]: Done   2 out of   2 | elapsed:    0.0s remaining:    0.0s\n",
      "[Parallel(n_jobs=1)]: Done   3 out of   3 | elapsed:    0.0s remaining:    0.0s\n",
      "[Parallel(n_jobs=1)]: Done   3 out of   3 | elapsed:    0.0s finished\n",
      "[Parallel(n_jobs=1)]: Using backend SequentialBackend with 1 concurrent workers.\n",
      "[Parallel(n_jobs=1)]: Done   1 out of   1 | elapsed:    0.0s remaining:    0.0s\n",
      "[Parallel(n_jobs=1)]: Done   2 out of   2 | elapsed:    0.0s remaining:    0.0s\n",
      "[Parallel(n_jobs=1)]: Done   3 out of   3 | elapsed:    0.0s remaining:    0.0s\n",
      "[Parallel(n_jobs=1)]: Done   3 out of   3 | elapsed:    0.0s finished\n",
      "[Parallel(n_jobs=1)]: Using backend SequentialBackend with 1 concurrent workers.\n"
     ]
    },
    {
     "name": "stdout",
     "output_type": "stream",
     "text": [
      "[CV] END ................................ score: (test=0.930) total time=   0.4s\n"
     ]
    },
    {
     "name": "stderr",
     "output_type": "stream",
     "text": [
      "[Parallel(n_jobs=1)]: Done   1 out of   1 | elapsed:    0.4s remaining:    0.0s\n"
     ]
    },
    {
     "name": "stdout",
     "output_type": "stream",
     "text": [
      "[CV] END ................................ score: (test=0.901) total time=   0.4s\n"
     ]
    },
    {
     "name": "stderr",
     "output_type": "stream",
     "text": [
      "[Parallel(n_jobs=1)]: Done   2 out of   2 | elapsed:    0.9s remaining:    0.0s\n"
     ]
    },
    {
     "name": "stdout",
     "output_type": "stream",
     "text": [
      "[CV] END ................................ score: (test=0.959) total time=   0.5s\n",
      ">ada: 0.930 (+/-0.024)\n"
     ]
    },
    {
     "name": "stderr",
     "output_type": "stream",
     "text": [
      "[Parallel(n_jobs=1)]: Done   3 out of   3 | elapsed:    1.5s remaining:    0.0s\n",
      "[Parallel(n_jobs=1)]: Done   3 out of   3 | elapsed:    1.5s finished\n",
      "[Parallel(n_jobs=1)]: Using backend SequentialBackend with 1 concurrent workers.\n"
     ]
    },
    {
     "name": "stdout",
     "output_type": "stream",
     "text": [
      "[CV] END ................................ score: (test=0.936) total time=   0.8s\n"
     ]
    },
    {
     "name": "stderr",
     "output_type": "stream",
     "text": [
      "[Parallel(n_jobs=1)]: Done   1 out of   1 | elapsed:    0.8s remaining:    0.0s\n"
     ]
    },
    {
     "name": "stdout",
     "output_type": "stream",
     "text": [
      "[CV] END ................................ score: (test=0.865) total time=   1.0s\n"
     ]
    },
    {
     "name": "stderr",
     "output_type": "stream",
     "text": [
      "[Parallel(n_jobs=1)]: Done   2 out of   2 | elapsed:    1.9s remaining:    0.0s\n"
     ]
    },
    {
     "name": "stdout",
     "output_type": "stream",
     "text": [
      "[CV] END ................................ score: (test=0.935) total time=   1.4s\n",
      ">bag: 0.912 (+/-0.033)\n"
     ]
    },
    {
     "name": "stderr",
     "output_type": "stream",
     "text": [
      "[Parallel(n_jobs=1)]: Done   3 out of   3 | elapsed:    3.4s remaining:    0.0s\n",
      "[Parallel(n_jobs=1)]: Done   3 out of   3 | elapsed:    3.4s finished\n",
      "[Parallel(n_jobs=1)]: Using backend SequentialBackend with 1 concurrent workers.\n"
     ]
    },
    {
     "name": "stdout",
     "output_type": "stream",
     "text": [
      "[CV] END ................................ score: (test=0.959) total time=   1.0s\n"
     ]
    },
    {
     "name": "stderr",
     "output_type": "stream",
     "text": [
      "[Parallel(n_jobs=1)]: Done   1 out of   1 | elapsed:    1.0s remaining:    0.0s\n"
     ]
    },
    {
     "name": "stdout",
     "output_type": "stream",
     "text": [
      "[CV] END ................................ score: (test=0.883) total time=   1.1s\n"
     ]
    },
    {
     "name": "stderr",
     "output_type": "stream",
     "text": [
      "[Parallel(n_jobs=1)]: Done   2 out of   2 | elapsed:    2.2s remaining:    0.0s\n"
     ]
    },
    {
     "name": "stdout",
     "output_type": "stream",
     "text": [
      "[CV] END ................................ score: (test=0.941) total time=   0.9s\n",
      ">rf: 0.928 (+/-0.032)\n"
     ]
    },
    {
     "name": "stderr",
     "output_type": "stream",
     "text": [
      "[Parallel(n_jobs=1)]: Done   3 out of   3 | elapsed:    3.2s remaining:    0.0s\n",
      "[Parallel(n_jobs=1)]: Done   3 out of   3 | elapsed:    3.2s finished\n",
      "[Parallel(n_jobs=1)]: Using backend SequentialBackend with 1 concurrent workers.\n"
     ]
    },
    {
     "name": "stdout",
     "output_type": "stream",
     "text": [
      "[CV] END ................................ score: (test=0.971) total time=   0.8s\n"
     ]
    },
    {
     "name": "stderr",
     "output_type": "stream",
     "text": [
      "[Parallel(n_jobs=1)]: Done   1 out of   1 | elapsed:    0.8s remaining:    0.0s\n"
     ]
    },
    {
     "name": "stdout",
     "output_type": "stream",
     "text": [
      "[CV] END ................................ score: (test=0.889) total time=   1.0s\n"
     ]
    },
    {
     "name": "stderr",
     "output_type": "stream",
     "text": [
      "[Parallel(n_jobs=1)]: Done   2 out of   2 | elapsed:    1.9s remaining:    0.0s\n"
     ]
    },
    {
     "name": "stdout",
     "output_type": "stream",
     "text": [
      "[CV] END ................................ score: (test=0.947) total time=   1.5s\n",
      ">et: 0.936 (+/-0.034)\n"
     ]
    },
    {
     "name": "stderr",
     "output_type": "stream",
     "text": [
      "[Parallel(n_jobs=1)]: Done   3 out of   3 | elapsed:    3.5s remaining:    0.0s\n",
      "[Parallel(n_jobs=1)]: Done   3 out of   3 | elapsed:    3.5s finished\n",
      "[Parallel(n_jobs=1)]: Using backend SequentialBackend with 1 concurrent workers.\n"
     ]
    },
    {
     "name": "stdout",
     "output_type": "stream",
     "text": [
      "[CV] END ................................ score: (test=0.942) total time=   1.0s\n"
     ]
    },
    {
     "name": "stderr",
     "output_type": "stream",
     "text": [
      "[Parallel(n_jobs=1)]: Done   1 out of   1 | elapsed:    1.0s remaining:    0.0s\n"
     ]
    },
    {
     "name": "stdout",
     "output_type": "stream",
     "text": [
      "[CV] END ................................ score: (test=0.871) total time=   0.9s\n"
     ]
    },
    {
     "name": "stderr",
     "output_type": "stream",
     "text": [
      "[Parallel(n_jobs=1)]: Done   2 out of   2 | elapsed:    2.0s remaining:    0.0s\n"
     ]
    },
    {
     "name": "stdout",
     "output_type": "stream",
     "text": [
      "[CV] END ................................ score: (test=0.965) total time=   1.4s\n",
      ">gbm: 0.926 (+/-0.040)\n"
     ]
    },
    {
     "name": "stderr",
     "output_type": "stream",
     "text": [
      "[Parallel(n_jobs=1)]: Done   3 out of   3 | elapsed:    3.5s remaining:    0.0s\n",
      "[Parallel(n_jobs=1)]: Done   3 out of   3 | elapsed:    3.5s finished\n",
      "[Parallel(n_jobs=1)]: Using backend SequentialBackend with 1 concurrent workers.\n"
     ]
    },
    {
     "name": "stdout",
     "output_type": "stream",
     "text": [
      "[CV] END ................................ score: (test=0.924) total time=   1.8s\n"
     ]
    },
    {
     "name": "stderr",
     "output_type": "stream",
     "text": [
      "[Parallel(n_jobs=1)]: Done   1 out of   1 | elapsed:    1.8s remaining:    0.0s\n"
     ]
    },
    {
     "name": "stdout",
     "output_type": "stream",
     "text": [
      "[CV] END ................................ score: (test=0.848) total time=   1.2s\n"
     ]
    },
    {
     "name": "stderr",
     "output_type": "stream",
     "text": [
      "[Parallel(n_jobs=1)]: Done   2 out of   2 | elapsed:    3.1s remaining:    0.0s\n"
     ]
    },
    {
     "name": "stdout",
     "output_type": "stream",
     "text": [
      "[CV] END ................................ score: (test=0.900) total time=   0.3s\n",
      ">xgb-[0.001, 100, 3]: 0.891 (+/-0.032)\n"
     ]
    },
    {
     "name": "stderr",
     "output_type": "stream",
     "text": [
      "[Parallel(n_jobs=1)]: Done   3 out of   3 | elapsed:    3.6s remaining:    0.0s\n",
      "[Parallel(n_jobs=1)]: Done   3 out of   3 | elapsed:    3.6s finished\n",
      "[Parallel(n_jobs=1)]: Using backend SequentialBackend with 1 concurrent workers.\n"
     ]
    },
    {
     "name": "stdout",
     "output_type": "stream",
     "text": [
      "[CV] END ................................ score: (test=0.936) total time=   0.6s\n"
     ]
    },
    {
     "name": "stderr",
     "output_type": "stream",
     "text": [
      "[Parallel(n_jobs=1)]: Done   1 out of   1 | elapsed:    0.6s remaining:    0.0s\n"
     ]
    },
    {
     "name": "stdout",
     "output_type": "stream",
     "text": [
      "[CV] END ................................ score: (test=0.854) total time=   1.0s\n"
     ]
    },
    {
     "name": "stderr",
     "output_type": "stream",
     "text": [
      "[Parallel(n_jobs=1)]: Done   2 out of   2 | elapsed:    1.6s remaining:    0.0s\n"
     ]
    },
    {
     "name": "stdout",
     "output_type": "stream",
     "text": [
      "[CV] END ................................ score: (test=0.906) total time=   1.4s\n",
      ">xgb-[0.001, 100, 7]: 0.898 (+/-0.034)\n"
     ]
    },
    {
     "name": "stderr",
     "output_type": "stream",
     "text": [
      "[Parallel(n_jobs=1)]: Done   3 out of   3 | elapsed:    3.2s remaining:    0.0s\n",
      "[Parallel(n_jobs=1)]: Done   3 out of   3 | elapsed:    3.2s finished\n",
      "[Parallel(n_jobs=1)]: Using backend SequentialBackend with 1 concurrent workers.\n"
     ]
    },
    {
     "name": "stdout",
     "output_type": "stream",
     "text": [
      "[CV] END ................................ score: (test=0.936) total time=   0.9s\n"
     ]
    },
    {
     "name": "stderr",
     "output_type": "stream",
     "text": [
      "[Parallel(n_jobs=1)]: Done   1 out of   1 | elapsed:    0.9s remaining:    0.0s\n"
     ]
    },
    {
     "name": "stdout",
     "output_type": "stream",
     "text": [
      "[CV] END ................................ score: (test=0.854) total time=   2.5s\n"
     ]
    },
    {
     "name": "stderr",
     "output_type": "stream",
     "text": [
      "[Parallel(n_jobs=1)]: Done   2 out of   2 | elapsed:    3.4s remaining:    0.0s\n"
     ]
    },
    {
     "name": "stdout",
     "output_type": "stream",
     "text": [
      "[CV] END ................................ score: (test=0.906) total time=   0.5s\n",
      ">xgb-[0.001, 100, 9]: 0.898 (+/-0.034)\n"
     ]
    },
    {
     "name": "stderr",
     "output_type": "stream",
     "text": [
      "[Parallel(n_jobs=1)]: Done   3 out of   3 | elapsed:    4.1s remaining:    0.0s\n",
      "[Parallel(n_jobs=1)]: Done   3 out of   3 | elapsed:    4.1s finished\n",
      "[Parallel(n_jobs=1)]: Using backend SequentialBackend with 1 concurrent workers.\n"
     ]
    },
    {
     "name": "stdout",
     "output_type": "stream",
     "text": [
      "[CV] END ................................ score: (test=0.924) total time=   1.7s\n"
     ]
    },
    {
     "name": "stderr",
     "output_type": "stream",
     "text": [
      "[Parallel(n_jobs=1)]: Done   1 out of   1 | elapsed:    1.7s remaining:    0.0s\n"
     ]
    },
    {
     "name": "stdout",
     "output_type": "stream",
     "text": [
      "[CV] END ................................ score: (test=0.865) total time=   1.7s\n"
     ]
    },
    {
     "name": "stderr",
     "output_type": "stream",
     "text": [
      "[Parallel(n_jobs=1)]: Done   2 out of   2 | elapsed:    3.5s remaining:    0.0s\n"
     ]
    },
    {
     "name": "stdout",
     "output_type": "stream",
     "text": [
      "[CV] END ................................ score: (test=0.918) total time=   1.7s\n",
      ">xgb-[0.001, 500, 3]: 0.902 (+/-0.026)\n"
     ]
    },
    {
     "name": "stderr",
     "output_type": "stream",
     "text": [
      "[Parallel(n_jobs=1)]: Done   3 out of   3 | elapsed:    5.3s remaining:    0.0s\n",
      "[Parallel(n_jobs=1)]: Done   3 out of   3 | elapsed:    5.3s finished\n",
      "[Parallel(n_jobs=1)]: Using backend SequentialBackend with 1 concurrent workers.\n"
     ]
    },
    {
     "name": "stdout",
     "output_type": "stream",
     "text": [
      "[CV] END ................................ score: (test=0.947) total time=   2.3s\n"
     ]
    },
    {
     "name": "stderr",
     "output_type": "stream",
     "text": [
      "[Parallel(n_jobs=1)]: Done   1 out of   1 | elapsed:    2.3s remaining:    0.0s\n"
     ]
    },
    {
     "name": "stdout",
     "output_type": "stream",
     "text": [
      "[CV] END ................................ score: (test=0.860) total time=   2.1s\n"
     ]
    },
    {
     "name": "stderr",
     "output_type": "stream",
     "text": [
      "[Parallel(n_jobs=1)]: Done   2 out of   2 | elapsed:    4.5s remaining:    0.0s\n"
     ]
    },
    {
     "name": "stdout",
     "output_type": "stream",
     "text": [
      "[CV] END ................................ score: (test=0.924) total time=   2.1s\n",
      ">xgb-[0.001, 500, 7]: 0.910 (+/-0.037)\n"
     ]
    },
    {
     "name": "stderr",
     "output_type": "stream",
     "text": [
      "[Parallel(n_jobs=1)]: Done   3 out of   3 | elapsed:    6.8s remaining:    0.0s\n",
      "[Parallel(n_jobs=1)]: Done   3 out of   3 | elapsed:    6.8s finished\n",
      "[Parallel(n_jobs=1)]: Using backend SequentialBackend with 1 concurrent workers.\n"
     ]
    },
    {
     "name": "stdout",
     "output_type": "stream",
     "text": [
      "[CV] END ................................ score: (test=0.947) total time=   2.1s\n"
     ]
    },
    {
     "name": "stderr",
     "output_type": "stream",
     "text": [
      "[Parallel(n_jobs=1)]: Done   1 out of   1 | elapsed:    2.1s remaining:    0.0s\n"
     ]
    },
    {
     "name": "stdout",
     "output_type": "stream",
     "text": [
      "[CV] END ................................ score: (test=0.860) total time=   2.2s\n"
     ]
    },
    {
     "name": "stderr",
     "output_type": "stream",
     "text": [
      "[Parallel(n_jobs=1)]: Done   2 out of   2 | elapsed:    4.5s remaining:    0.0s\n"
     ]
    },
    {
     "name": "stdout",
     "output_type": "stream",
     "text": [
      "[CV] END ................................ score: (test=0.924) total time=   2.1s\n",
      ">xgb-[0.001, 500, 9]: 0.910 (+/-0.037)\n"
     ]
    },
    {
     "name": "stderr",
     "output_type": "stream",
     "text": [
      "[Parallel(n_jobs=1)]: Done   3 out of   3 | elapsed:    6.6s remaining:    0.0s\n",
      "[Parallel(n_jobs=1)]: Done   3 out of   3 | elapsed:    6.7s finished\n",
      "[Parallel(n_jobs=1)]: Using backend SequentialBackend with 1 concurrent workers.\n"
     ]
    },
    {
     "name": "stdout",
     "output_type": "stream",
     "text": [
      "[CV] END ................................ score: (test=0.936) total time=   0.3s\n"
     ]
    },
    {
     "name": "stderr",
     "output_type": "stream",
     "text": [
      "[Parallel(n_jobs=1)]: Done   1 out of   1 | elapsed:    0.3s remaining:    0.0s\n"
     ]
    },
    {
     "name": "stdout",
     "output_type": "stream",
     "text": [
      "[CV] END ................................ score: (test=0.871) total time=   0.3s\n"
     ]
    },
    {
     "name": "stderr",
     "output_type": "stream",
     "text": [
      "[Parallel(n_jobs=1)]: Done   2 out of   2 | elapsed:    0.7s remaining:    0.0s\n"
     ]
    },
    {
     "name": "stdout",
     "output_type": "stream",
     "text": [
      "[CV] END ................................ score: (test=0.935) total time=   0.3s\n",
      ">xgb-[0.01, 100, 3]: 0.914 (+/-0.030)\n"
     ]
    },
    {
     "name": "stderr",
     "output_type": "stream",
     "text": [
      "[Parallel(n_jobs=1)]: Done   3 out of   3 | elapsed:    1.1s remaining:    0.0s\n",
      "[Parallel(n_jobs=1)]: Done   3 out of   3 | elapsed:    1.1s finished\n",
      "[Parallel(n_jobs=1)]: Using backend SequentialBackend with 1 concurrent workers.\n"
     ]
    },
    {
     "name": "stdout",
     "output_type": "stream",
     "text": [
      "[CV] END ................................ score: (test=0.942) total time=   0.4s\n"
     ]
    },
    {
     "name": "stderr",
     "output_type": "stream",
     "text": [
      "[Parallel(n_jobs=1)]: Done   1 out of   1 | elapsed:    0.4s remaining:    0.0s\n"
     ]
    },
    {
     "name": "stdout",
     "output_type": "stream",
     "text": [
      "[CV] END ................................ score: (test=0.889) total time=   0.4s\n"
     ]
    },
    {
     "name": "stderr",
     "output_type": "stream",
     "text": [
      "[Parallel(n_jobs=1)]: Done   2 out of   2 | elapsed:    0.9s remaining:    0.0s\n"
     ]
    },
    {
     "name": "stdout",
     "output_type": "stream",
     "text": [
      "[CV] END ................................ score: (test=0.929) total time=   0.4s\n",
      ">xgb-[0.01, 100, 7]: 0.920 (+/-0.023)\n"
     ]
    },
    {
     "name": "stderr",
     "output_type": "stream",
     "text": [
      "[Parallel(n_jobs=1)]: Done   3 out of   3 | elapsed:    1.4s remaining:    0.0s\n",
      "[Parallel(n_jobs=1)]: Done   3 out of   3 | elapsed:    1.4s finished\n",
      "[Parallel(n_jobs=1)]: Using backend SequentialBackend with 1 concurrent workers.\n"
     ]
    },
    {
     "name": "stdout",
     "output_type": "stream",
     "text": [
      "[CV] END ................................ score: (test=0.942) total time=   0.4s\n"
     ]
    },
    {
     "name": "stderr",
     "output_type": "stream",
     "text": [
      "[Parallel(n_jobs=1)]: Done   1 out of   1 | elapsed:    0.4s remaining:    0.0s\n"
     ]
    },
    {
     "name": "stdout",
     "output_type": "stream",
     "text": [
      "[CV] END ................................ score: (test=0.889) total time=   0.4s\n"
     ]
    },
    {
     "name": "stderr",
     "output_type": "stream",
     "text": [
      "[Parallel(n_jobs=1)]: Done   2 out of   2 | elapsed:    0.9s remaining:    0.0s\n"
     ]
    },
    {
     "name": "stdout",
     "output_type": "stream",
     "text": [
      "[CV] END ................................ score: (test=0.929) total time=   0.4s\n",
      ">xgb-[0.01, 100, 9]: 0.920 (+/-0.023)\n"
     ]
    },
    {
     "name": "stderr",
     "output_type": "stream",
     "text": [
      "[Parallel(n_jobs=1)]: Done   3 out of   3 | elapsed:    1.4s remaining:    0.0s\n",
      "[Parallel(n_jobs=1)]: Done   3 out of   3 | elapsed:    1.4s finished\n",
      "[Parallel(n_jobs=1)]: Using backend SequentialBackend with 1 concurrent workers.\n"
     ]
    },
    {
     "name": "stdout",
     "output_type": "stream",
     "text": [
      "[CV] END ................................ score: (test=0.942) total time=   1.6s\n"
     ]
    },
    {
     "name": "stderr",
     "output_type": "stream",
     "text": [
      "[Parallel(n_jobs=1)]: Done   1 out of   1 | elapsed:    1.6s remaining:    0.0s\n"
     ]
    },
    {
     "name": "stdout",
     "output_type": "stream",
     "text": [
      "[CV] END ................................ score: (test=0.901) total time=   1.5s\n"
     ]
    },
    {
     "name": "stderr",
     "output_type": "stream",
     "text": [
      "[Parallel(n_jobs=1)]: Done   2 out of   2 | elapsed:    3.2s remaining:    0.0s\n"
     ]
    },
    {
     "name": "stdout",
     "output_type": "stream",
     "text": [
      "[CV] END ................................ score: (test=0.971) total time=   1.8s\n",
      ">xgb-[0.01, 500, 3]: 0.938 (+/-0.029)\n"
     ]
    },
    {
     "name": "stderr",
     "output_type": "stream",
     "text": [
      "[Parallel(n_jobs=1)]: Done   3 out of   3 | elapsed:    5.1s remaining:    0.0s\n",
      "[Parallel(n_jobs=1)]: Done   3 out of   3 | elapsed:    5.1s finished\n",
      "[Parallel(n_jobs=1)]: Using backend SequentialBackend with 1 concurrent workers.\n"
     ]
    },
    {
     "name": "stdout",
     "output_type": "stream",
     "text": [
      "[CV] END ................................ score: (test=0.953) total time=   1.8s\n"
     ]
    },
    {
     "name": "stderr",
     "output_type": "stream",
     "text": [
      "[Parallel(n_jobs=1)]: Done   1 out of   1 | elapsed:    1.8s remaining:    0.0s\n"
     ]
    },
    {
     "name": "stdout",
     "output_type": "stream",
     "text": [
      "[CV] END ................................ score: (test=0.901) total time=   1.9s\n"
     ]
    },
    {
     "name": "stderr",
     "output_type": "stream",
     "text": [
      "[Parallel(n_jobs=1)]: Done   2 out of   2 | elapsed:    3.9s remaining:    0.0s\n"
     ]
    },
    {
     "name": "stdout",
     "output_type": "stream",
     "text": [
      "[CV] END ................................ score: (test=0.965) total time=   2.2s\n",
      ">xgb-[0.01, 500, 7]: 0.940 (+/-0.028)\n"
     ]
    },
    {
     "name": "stderr",
     "output_type": "stream",
     "text": [
      "[Parallel(n_jobs=1)]: Done   3 out of   3 | elapsed:    6.2s remaining:    0.0s\n",
      "[Parallel(n_jobs=1)]: Done   3 out of   3 | elapsed:    6.2s finished\n",
      "[Parallel(n_jobs=1)]: Using backend SequentialBackend with 1 concurrent workers.\n"
     ]
    },
    {
     "name": "stdout",
     "output_type": "stream",
     "text": [
      "[CV] END ................................ score: (test=0.953) total time=   1.6s\n"
     ]
    },
    {
     "name": "stderr",
     "output_type": "stream",
     "text": [
      "[Parallel(n_jobs=1)]: Done   1 out of   1 | elapsed:    1.6s remaining:    0.0s\n"
     ]
    },
    {
     "name": "stdout",
     "output_type": "stream",
     "text": [
      "[CV] END ................................ score: (test=0.901) total time=   3.0s\n"
     ]
    },
    {
     "name": "stderr",
     "output_type": "stream",
     "text": [
      "[Parallel(n_jobs=1)]: Done   2 out of   2 | elapsed:    4.7s remaining:    0.0s\n"
     ]
    },
    {
     "name": "stdout",
     "output_type": "stream",
     "text": [
      "[CV] END ................................ score: (test=0.965) total time=   5.9s\n",
      ">xgb-[0.01, 500, 9]: 0.940 (+/-0.028)\n"
     ]
    },
    {
     "name": "stderr",
     "output_type": "stream",
     "text": [
      "[Parallel(n_jobs=1)]: Done   3 out of   3 | elapsed:   10.7s remaining:    0.0s\n",
      "[Parallel(n_jobs=1)]: Done   3 out of   3 | elapsed:   10.7s finished\n",
      "[Parallel(n_jobs=1)]: Using backend SequentialBackend with 1 concurrent workers.\n"
     ]
    },
    {
     "name": "stdout",
     "output_type": "stream",
     "text": [
      "[CV] END ................................ score: (test=0.942) total time=   0.2s\n"
     ]
    },
    {
     "name": "stderr",
     "output_type": "stream",
     "text": [
      "[Parallel(n_jobs=1)]: Done   1 out of   1 | elapsed:    0.2s remaining:    0.0s\n"
     ]
    },
    {
     "name": "stdout",
     "output_type": "stream",
     "text": [
      "[CV] END ................................ score: (test=0.918) total time=   0.2s\n"
     ]
    },
    {
     "name": "stderr",
     "output_type": "stream",
     "text": [
      "[Parallel(n_jobs=1)]: Done   2 out of   2 | elapsed:    0.5s remaining:    0.0s\n"
     ]
    },
    {
     "name": "stdout",
     "output_type": "stream",
     "text": [
      "[CV] END ................................ score: (test=0.965) total time=   0.2s\n",
      ">xgb-[0.1, 100, 3]: 0.941 (+/-0.019)\n"
     ]
    },
    {
     "name": "stderr",
     "output_type": "stream",
     "text": [
      "[Parallel(n_jobs=1)]: Done   3 out of   3 | elapsed:    0.8s remaining:    0.0s\n",
      "[Parallel(n_jobs=1)]: Done   3 out of   3 | elapsed:    0.8s finished\n",
      "[Parallel(n_jobs=1)]: Using backend SequentialBackend with 1 concurrent workers.\n"
     ]
    },
    {
     "name": "stdout",
     "output_type": "stream",
     "text": [
      "[CV] END ................................ score: (test=0.947) total time=   0.4s\n"
     ]
    },
    {
     "name": "stderr",
     "output_type": "stream",
     "text": [
      "[Parallel(n_jobs=1)]: Done   1 out of   1 | elapsed:    0.4s remaining:    0.0s\n"
     ]
    },
    {
     "name": "stdout",
     "output_type": "stream",
     "text": [
      "[CV] END ................................ score: (test=0.906) total time=   0.3s\n"
     ]
    },
    {
     "name": "stderr",
     "output_type": "stream",
     "text": [
      "[Parallel(n_jobs=1)]: Done   2 out of   2 | elapsed:    0.7s remaining:    0.0s\n"
     ]
    },
    {
     "name": "stdout",
     "output_type": "stream",
     "text": [
      "[CV] END ................................ score: (test=0.971) total time=   0.5s\n",
      ">xgb-[0.1, 100, 7]: 0.941 (+/-0.027)\n"
     ]
    },
    {
     "name": "stderr",
     "output_type": "stream",
     "text": [
      "[Parallel(n_jobs=1)]: Done   3 out of   3 | elapsed:    1.3s remaining:    0.0s\n",
      "[Parallel(n_jobs=1)]: Done   3 out of   3 | elapsed:    1.3s finished\n",
      "[Parallel(n_jobs=1)]: Using backend SequentialBackend with 1 concurrent workers.\n"
     ]
    },
    {
     "name": "stdout",
     "output_type": "stream",
     "text": [
      "[CV] END ................................ score: (test=0.947) total time=   0.2s\n"
     ]
    },
    {
     "name": "stderr",
     "output_type": "stream",
     "text": [
      "[Parallel(n_jobs=1)]: Done   1 out of   1 | elapsed:    0.2s remaining:    0.0s\n"
     ]
    },
    {
     "name": "stdout",
     "output_type": "stream",
     "text": [
      "[CV] END ................................ score: (test=0.906) total time=   0.4s\n"
     ]
    },
    {
     "name": "stderr",
     "output_type": "stream",
     "text": [
      "[Parallel(n_jobs=1)]: Done   2 out of   2 | elapsed:    0.7s remaining:    0.0s\n"
     ]
    },
    {
     "name": "stdout",
     "output_type": "stream",
     "text": [
      "[CV] END ................................ score: (test=0.971) total time=   0.2s\n",
      ">xgb-[0.1, 100, 9]: 0.941 (+/-0.027)\n"
     ]
    },
    {
     "name": "stderr",
     "output_type": "stream",
     "text": [
      "[Parallel(n_jobs=1)]: Done   3 out of   3 | elapsed:    1.0s remaining:    0.0s\n",
      "[Parallel(n_jobs=1)]: Done   3 out of   3 | elapsed:    1.0s finished\n",
      "[Parallel(n_jobs=1)]: Using backend SequentialBackend with 1 concurrent workers.\n"
     ]
    },
    {
     "name": "stdout",
     "output_type": "stream",
     "text": [
      "[CV] END ................................ score: (test=0.936) total time=   2.4s\n"
     ]
    },
    {
     "name": "stderr",
     "output_type": "stream",
     "text": [
      "[Parallel(n_jobs=1)]: Done   1 out of   1 | elapsed:    2.4s remaining:    0.0s\n"
     ]
    },
    {
     "name": "stdout",
     "output_type": "stream",
     "text": [
      "[CV] END ................................ score: (test=0.936) total time=   4.6s\n"
     ]
    },
    {
     "name": "stderr",
     "output_type": "stream",
     "text": [
      "[Parallel(n_jobs=1)]: Done   2 out of   2 | elapsed:    7.1s remaining:    0.0s\n"
     ]
    },
    {
     "name": "stdout",
     "output_type": "stream",
     "text": [
      "[CV] END ................................ score: (test=0.959) total time=   4.8s\n",
      ">xgb-[0.1, 500, 3]: 0.943 (+/-0.011)\n"
     ]
    },
    {
     "name": "stderr",
     "output_type": "stream",
     "text": [
      "[Parallel(n_jobs=1)]: Done   3 out of   3 | elapsed:   12.1s remaining:    0.0s\n",
      "[Parallel(n_jobs=1)]: Done   3 out of   3 | elapsed:   12.1s finished\n",
      "[Parallel(n_jobs=1)]: Using backend SequentialBackend with 1 concurrent workers.\n"
     ]
    },
    {
     "name": "stdout",
     "output_type": "stream",
     "text": [
      "[CV] END ................................ score: (test=0.947) total time=   3.5s\n"
     ]
    },
    {
     "name": "stderr",
     "output_type": "stream",
     "text": [
      "[Parallel(n_jobs=1)]: Done   1 out of   1 | elapsed:    3.5s remaining:    0.0s\n"
     ]
    },
    {
     "name": "stdout",
     "output_type": "stream",
     "text": [
      "[CV] END ................................ score: (test=0.924) total time=   4.2s\n"
     ]
    },
    {
     "name": "stderr",
     "output_type": "stream",
     "text": [
      "[Parallel(n_jobs=1)]: Done   2 out of   2 | elapsed:    7.8s remaining:    0.0s\n"
     ]
    },
    {
     "name": "stdout",
     "output_type": "stream",
     "text": [
      "[CV] END ................................ score: (test=0.971) total time=   3.4s\n",
      ">xgb-[0.1, 500, 7]: 0.947 (+/-0.019)\n"
     ]
    },
    {
     "name": "stderr",
     "output_type": "stream",
     "text": [
      "[Parallel(n_jobs=1)]: Done   3 out of   3 | elapsed:   11.4s remaining:    0.0s\n",
      "[Parallel(n_jobs=1)]: Done   3 out of   3 | elapsed:   11.4s finished\n",
      "[Parallel(n_jobs=1)]: Using backend SequentialBackend with 1 concurrent workers.\n"
     ]
    },
    {
     "name": "stdout",
     "output_type": "stream",
     "text": [
      "[CV] END ................................ score: (test=0.947) total time=   3.4s\n"
     ]
    },
    {
     "name": "stderr",
     "output_type": "stream",
     "text": [
      "[Parallel(n_jobs=1)]: Done   1 out of   1 | elapsed:    3.4s remaining:    0.0s\n"
     ]
    },
    {
     "name": "stdout",
     "output_type": "stream",
     "text": [
      "[CV] END ................................ score: (test=0.924) total time=   5.7s\n"
     ]
    },
    {
     "name": "stderr",
     "output_type": "stream",
     "text": [
      "[Parallel(n_jobs=1)]: Done   2 out of   2 | elapsed:    9.2s remaining:    0.0s\n"
     ]
    },
    {
     "name": "stdout",
     "output_type": "stream",
     "text": [
      "[CV] END ................................ score: (test=0.971) total time=   7.7s\n",
      ">xgb-[0.1, 500, 9]: 0.947 (+/-0.019)\n"
     ]
    },
    {
     "name": "stderr",
     "output_type": "stream",
     "text": [
      "[Parallel(n_jobs=1)]: Done   3 out of   3 | elapsed:   17.0s remaining:    0.0s\n",
      "[Parallel(n_jobs=1)]: Done   3 out of   3 | elapsed:   17.0s finished\n"
     ]
    }
   ],
   "source": [
    "import time\n",
    "# Start timer for assessing batch-testing of multiple models\n",
    "start = time.time()\n",
    "# call function for batch-evaluating dictionary of models of training split\n",
    "results_2 = evaluate_models(X_train, y_train, models)\n",
    "end = time.time()"
   ]
  },
  {
   "cell_type": "code",
   "execution_count": 19,
   "metadata": {},
   "outputs": [
    {
     "name": "stdout",
     "output_type": "stream",
     "text": [
      "Execution time:  120.1248710155487 s\n"
     ]
    }
   ],
   "source": [
    "print(\"Execution time: \",(end-start), \"s\")"
   ]
  },
  {
   "cell_type": "code",
   "execution_count": 20,
   "metadata": {},
   "outputs": [
    {
     "name": "stdout",
     "output_type": "stream",
     "text": [
      "\n",
      "Rank=1, Name=svml, Score=0.975 (+/- 0.003)\n",
      "Rank=2, Name=logistic, Score=0.973 (+/- 0.007)\n",
      "Rank=3, Name=pa, Score=0.969 (+/- 0.011)\n",
      "Rank=4, Name=sgd, Score=0.969 (+/- 0.003)\n",
      "Rank=5, Name=knn-9, Score=0.955 (+/- 0.023)\n",
      "Rank=6, Name=ridge-0.3, Score=0.949 (+/- 0.022)\n",
      "Rank=7, Name=ridge-0.2, Score=0.949 (+/- 0.022)\n",
      "Rank=8, Name=ridge-0.1, Score=0.949 (+/- 0.022)\n",
      "Rank=9, Name=knn-7, Score=0.949 (+/- 0.018)\n",
      "Rank=10, Name=xgb-[0.1, 500, 9], Score=0.947 (+/- 0.019)\n",
      "Rank=11, Name=xgb-[0.1, 500, 7], Score=0.947 (+/- 0.019)\n",
      "Rank=12, Name=knn-8, Score=0.947 (+/- 0.030)\n",
      "Rank=13, Name=knn-6, Score=0.947 (+/- 0.022)\n",
      "Rank=14, Name=svmr0.3, Score=0.945 (+/- 0.028)\n",
      "Rank=15, Name=knn-3, Score=0.945 (+/- 0.014)\n",
      "Rank=16, Name=xgb-[0.1, 500, 3], Score=0.943 (+/- 0.011)\n",
      "Rank=17, Name=knn-5, Score=0.943 (+/- 0.017)\n",
      "Rank=18, Name=xgb-[0.1, 100, 9], Score=0.941 (+/- 0.027)\n",
      "Rank=19, Name=xgb-[0.1, 100, 7], Score=0.941 (+/- 0.027)\n",
      "Rank=20, Name=xgb-[0.1, 100, 3], Score=0.941 (+/- 0.019)\n"
     ]
    },
    {
     "data": {
      "image/png": "[encoded data removed]",
      "text/plain": [
       "<Figure size 500x500 with 1 Axes>"
      ]
     },
     "metadata": {},
     "output_type": "display_data"
    }
   ],
   "source": [
    "#Results of batch-searching through multiple models\n",
    "summarize_results(results_2, top_n=20)"
   ]
  },
  {
   "cell_type": "code",
   "execution_count": 21,
   "metadata": {},
   "outputs": [],
   "source": [
    "# Define model and pipeline\n",
    "model_svcl = SVC()\n",
    "pipe_svcl = make_pipeline(model_svcl)\n",
    "\n",
    "# Define search grid\n",
    "grid = GridSearchCV(\n",
    "    estimator=pipe_svcl,\n",
    "    param_grid={'model__degree': [_ for _ in np.linspace(1, 5, 5)],\n",
    "                'model__kernel': [_ for _ in ['linear', 'poly', 'rbf']]},\n",
    "    scoring={'precision': make_scorer(precision_score), \n",
    "             'recall': make_scorer(recall_score),\n",
    "             'accuracy': make_scorer(accuracy_score)},\n",
    "    refit='accuracy',\n",
    "    return_train_score=False,\n",
    "    cv=10,\n",
    "    n_jobs=1\n",
    ")\n",
    "# Fit the model\n",
    "grid.fit(X_train, y_train);"
   ]
  },
  {
   "cell_type": "code",
   "execution_count": 190,
   "metadata": {},
   "outputs": [
    {
     "data": {
      "text/html": [
       "<div>\n",
       "<style scoped>\n",
       "    .dataframe tbody tr th:only-of-type {\n",
       "        vertical-align: middle;\n",
       "    }\n",
       "\n",
       "    .dataframe tbody tr th {\n",
       "        vertical-align: top;\n",
       "    }\n",
       "\n",
       "    .dataframe thead th {\n",
       "        text-align: right;\n",
       "    }\n",
       "</style>\n",
       "<table border=\"1\" class=\"dataframe\">\n",
       "  <thead>\n",
       "    <tr style=\"text-align: right;\">\n",
       "      <th></th>\n",
       "      <th>mean_fit_time</th>\n",
       "      <th>std_fit_time</th>\n",
       "      <th>mean_score_time</th>\n",
       "      <th>std_score_time</th>\n",
       "      <th>param_model__degree</th>\n",
       "      <th>param_model__kernel</th>\n",
       "      <th>params</th>\n",
       "      <th>split0_test_precision</th>\n",
       "      <th>split1_test_precision</th>\n",
       "      <th>split2_test_precision</th>\n",
       "      <th>...</th>\n",
       "      <th>split3_test_accuracy</th>\n",
       "      <th>split4_test_accuracy</th>\n",
       "      <th>split5_test_accuracy</th>\n",
       "      <th>split6_test_accuracy</th>\n",
       "      <th>split7_test_accuracy</th>\n",
       "      <th>split8_test_accuracy</th>\n",
       "      <th>split9_test_accuracy</th>\n",
       "      <th>mean_test_accuracy</th>\n",
       "      <th>std_test_accuracy</th>\n",
       "      <th>rank_test_accuracy</th>\n",
       "    </tr>\n",
       "  </thead>\n",
       "  <tbody>\n",
       "    <tr>\n",
       "      <th>1</th>\n",
       "      <td>0.139108</td>\n",
       "      <td>0.058178</td>\n",
       "      <td>0.009301</td>\n",
       "      <td>0.001345</td>\n",
       "      <td>1.0</td>\n",
       "      <td>poly</td>\n",
       "      <td>{'model__degree': 1.0, 'model__kernel': 'poly'}</td>\n",
       "      <td>0.95</td>\n",
       "      <td>1.0</td>\n",
       "      <td>0.947368</td>\n",
       "      <td>...</td>\n",
       "      <td>1.000000</td>\n",
       "      <td>0.960784</td>\n",
       "      <td>0.941176</td>\n",
       "      <td>0.980392</td>\n",
       "      <td>0.941176</td>\n",
       "      <td>1.000000</td>\n",
       "      <td>0.960784</td>\n",
       "      <td>0.970664</td>\n",
       "      <td>0.021890</td>\n",
       "      <td>6</td>\n",
       "    </tr>\n",
       "    <tr>\n",
       "      <th>4</th>\n",
       "      <td>0.100606</td>\n",
       "      <td>0.054840</td>\n",
       "      <td>0.012901</td>\n",
       "      <td>0.009985</td>\n",
       "      <td>2.0</td>\n",
       "      <td>poly</td>\n",
       "      <td>{'model__degree': 2.0, 'model__kernel': 'poly'}</td>\n",
       "      <td>1.00</td>\n",
       "      <td>1.0</td>\n",
       "      <td>1.000000</td>\n",
       "      <td>...</td>\n",
       "      <td>0.843137</td>\n",
       "      <td>0.803922</td>\n",
       "      <td>0.784314</td>\n",
       "      <td>0.823529</td>\n",
       "      <td>0.784314</td>\n",
       "      <td>0.862745</td>\n",
       "      <td>0.764706</td>\n",
       "      <td>0.810558</td>\n",
       "      <td>0.028985</td>\n",
       "      <td>14</td>\n",
       "    </tr>\n",
       "    <tr>\n",
       "      <th>7</th>\n",
       "      <td>0.072704</td>\n",
       "      <td>0.036425</td>\n",
       "      <td>0.008700</td>\n",
       "      <td>0.001900</td>\n",
       "      <td>3.0</td>\n",
       "      <td>poly</td>\n",
       "      <td>{'model__degree': 3.0, 'model__kernel': 'poly'}</td>\n",
       "      <td>1.00</td>\n",
       "      <td>1.0</td>\n",
       "      <td>1.000000</td>\n",
       "      <td>...</td>\n",
       "      <td>0.882353</td>\n",
       "      <td>0.882353</td>\n",
       "      <td>0.882353</td>\n",
       "      <td>0.980392</td>\n",
       "      <td>0.843137</td>\n",
       "      <td>0.921569</td>\n",
       "      <td>0.803922</td>\n",
       "      <td>0.882805</td>\n",
       "      <td>0.047106</td>\n",
       "      <td>12</td>\n",
       "    </tr>\n",
       "    <tr>\n",
       "      <th>10</th>\n",
       "      <td>0.173710</td>\n",
       "      <td>0.125013</td>\n",
       "      <td>0.011501</td>\n",
       "      <td>0.002500</td>\n",
       "      <td>4.0</td>\n",
       "      <td>poly</td>\n",
       "      <td>{'model__degree': 4.0, 'model__kernel': 'poly'}</td>\n",
       "      <td>1.00</td>\n",
       "      <td>1.0</td>\n",
       "      <td>1.000000</td>\n",
       "      <td>...</td>\n",
       "      <td>0.764706</td>\n",
       "      <td>0.803922</td>\n",
       "      <td>0.784314</td>\n",
       "      <td>0.823529</td>\n",
       "      <td>0.745098</td>\n",
       "      <td>0.823529</td>\n",
       "      <td>0.725490</td>\n",
       "      <td>0.783220</td>\n",
       "      <td>0.033075</td>\n",
       "      <td>15</td>\n",
       "    </tr>\n",
       "    <tr>\n",
       "      <th>13</th>\n",
       "      <td>0.070704</td>\n",
       "      <td>0.027628</td>\n",
       "      <td>0.010901</td>\n",
       "      <td>0.002071</td>\n",
       "      <td>5.0</td>\n",
       "      <td>poly</td>\n",
       "      <td>{'model__degree': 5.0, 'model__kernel': 'poly'}</td>\n",
       "      <td>1.00</td>\n",
       "      <td>1.0</td>\n",
       "      <td>1.000000</td>\n",
       "      <td>...</td>\n",
       "      <td>0.784314</td>\n",
       "      <td>0.823529</td>\n",
       "      <td>0.843137</td>\n",
       "      <td>0.882353</td>\n",
       "      <td>0.803922</td>\n",
       "      <td>0.843137</td>\n",
       "      <td>0.784314</td>\n",
       "      <td>0.822247</td>\n",
       "      <td>0.029699</td>\n",
       "      <td>13</td>\n",
       "    </tr>\n",
       "  </tbody>\n",
       "</table>\n",
       "<p>5 rows × 46 columns</p>\n",
       "</div>"
      ],
      "text/plain": [
       "    mean_fit_time  std_fit_time  mean_score_time  std_score_time  \\\n",
       "1        0.139108      0.058178         0.009301        0.001345   \n",
       "4        0.100606      0.054840         0.012901        0.009985   \n",
       "7        0.072704      0.036425         0.008700        0.001900   \n",
       "10       0.173710      0.125013         0.011501        0.002500   \n",
       "13       0.070704      0.027628         0.010901        0.002071   \n",
       "\n",
       "   param_model__degree param_model__kernel  \\\n",
       "1                  1.0                poly   \n",
       "4                  2.0                poly   \n",
       "7                  3.0                poly   \n",
       "10                 4.0                poly   \n",
       "13                 5.0                poly   \n",
       "\n",
       "                                             params  split0_test_precision  \\\n",
       "1   {'model__degree': 1.0, 'model__kernel': 'poly'}                   0.95   \n",
       "4   {'model__degree': 2.0, 'model__kernel': 'poly'}                   1.00   \n",
       "7   {'model__degree': 3.0, 'model__kernel': 'poly'}                   1.00   \n",
       "10  {'model__degree': 4.0, 'model__kernel': 'poly'}                   1.00   \n",
       "13  {'model__degree': 5.0, 'model__kernel': 'poly'}                   1.00   \n",
       "\n",
       "    split1_test_precision  split2_test_precision  ...  split3_test_accuracy  \\\n",
       "1                     1.0               0.947368  ...              1.000000   \n",
       "4                     1.0               1.000000  ...              0.843137   \n",
       "7                     1.0               1.000000  ...              0.882353   \n",
       "10                    1.0               1.000000  ...              0.764706   \n",
       "13                    1.0               1.000000  ...              0.784314   \n",
       "\n",
       "    split4_test_accuracy  split5_test_accuracy  split6_test_accuracy  \\\n",
       "1               0.960784              0.941176              0.980392   \n",
       "4               0.803922              0.784314              0.823529   \n",
       "7               0.882353              0.882353              0.980392   \n",
       "10              0.803922              0.784314              0.823529   \n",
       "13              0.823529              0.843137              0.882353   \n",
       "\n",
       "    split7_test_accuracy  split8_test_accuracy  split9_test_accuracy  \\\n",
       "1               0.941176              1.000000              0.960784   \n",
       "4               0.784314              0.862745              0.764706   \n",
       "7               0.843137              0.921569              0.803922   \n",
       "10              0.745098              0.823529              0.725490   \n",
       "13              0.803922              0.843137              0.784314   \n",
       "\n",
       "    mean_test_accuracy  std_test_accuracy  rank_test_accuracy  \n",
       "1             0.970664           0.021890                   6  \n",
       "4             0.810558           0.028985                  14  \n",
       "7             0.882805           0.047106                  12  \n",
       "10            0.783220           0.033075                  15  \n",
       "13            0.822247           0.029699                  13  \n",
       "\n",
       "[5 rows x 46 columns]"
      ]
     },
     "execution_count": 190,
     "metadata": {},
     "output_type": "execute_result"
    }
   ],
   "source": [
    "df_results = pd.DataFrame(grid.cv_results_)\n",
    "df_1 = df_results[df_results['param_model__kernel'] == 'poly']\n",
    "df_1"
   ]
  },
  {
   "cell_type": "code",
   "execution_count": 84,
   "metadata": {},
   "outputs": [
    {
     "data": {
      "text/plain": [
       "param_model__kernel\n",
       "linear    0.968741\n",
       "poly      0.853899\n",
       "rbf       0.970701\n",
       "Name: mean_test_accuracy, dtype: float64"
      ]
     },
     "execution_count": 84,
     "metadata": {},
     "output_type": "execute_result"
    }
   ],
   "source": [
    "df_mean = df_results.groupby('param_model__kernel').agg('mean')\n",
    "df_mean.mean_test_accuracy"
   ]
  },
  {
   "cell_type": "code",
   "execution_count": 85,
   "metadata": {},
   "outputs": [
    {
     "data": {
      "image/png": "[encoded data removed]",
      "text/plain": [
       "<Figure size 1200x400 with 1 Axes>"
      ]
     },
     "metadata": {},
     "output_type": "display_data"
    }
   ],
   "source": [
    "# Plot grid-search results\n",
    "plt.figure(figsize=(12, 4))\n",
    "for kernel in df_results.param_model__kernel.unique():\n",
    "    plt.plot(df_results[df_results['param_model__kernel'] == kernel].param_model__degree,\n",
    "            df_results[df_results['param_model__kernel'] == kernel].mean_test_accuracy,\n",
    "            label = kernel)\n",
    "plt.legend();"
   ]
  },
  {
   "cell_type": "markdown",
   "metadata": {},
   "source": [
    "Both 1-degree polynomial model and rbf give similar values of accuracy. We choose Supported Vector Machine with rbf kernel as a final nonlinear model."
   ]
  },
  {
   "cell_type": "code",
   "execution_count": 23,
   "metadata": {},
   "outputs": [
    {
     "data": {
      "text/plain": [
       "<AxesSubplot: >"
      ]
     },
     "execution_count": 23,
     "metadata": {},
     "output_type": "execute_result"
    },
    {
     "data": {
      "image/png": "[encoded data removed]",
      "text/plain": [
       "<Figure size 500x500 with 2 Axes>"
      ]
     },
     "metadata": {},
     "output_type": "display_data"
    }
   ],
   "source": [
    "# Fitting final model and plotting confusion matrix\n",
    "model_svc_final = SVC(kernel='rbf')\n",
    "pipe_svc_final = make_pipeline(model_svcl)\n",
    "pipe_svc_final.fit(X_train, y_train)\n",
    "y_pred = pipe_svc_final.predict(X_test)\n",
    "y_pred = (y_pred > 0.50)\n",
    "cm = confusion_matrix(y_test, y_pred)\n",
    "cat = ['Benign - 0', 'Malignant - 1']\n",
    "sns.heatmap(cm, annot = True, xticklabels = cat, yticklabels = cat)"
   ]
  },
  {
   "cell_type": "markdown",
   "metadata": {},
   "source": [
    "In case of SVC model only 1 case is classified incorrectly on the test set."
   ]
  },
  {
   "cell_type": "markdown",
   "metadata": {},
   "source": [
    "### Artificial Neural Network\n",
    "This time simple architecture of neural network is defined using keras package."
   ]
  },
  {
   "cell_type": "code",
   "execution_count": 184,
   "metadata": {},
   "outputs": [
    {
     "name": "stdout",
     "output_type": "stream",
     "text": [
      "Model: \"sequential\"\n",
      "_________________________________________________________________\n",
      " Layer (type)                Output Shape              Param #   \n",
      "=================================================================\n",
      " dense (Dense)               (None, 32)                992       \n",
      "                                                                 \n",
      " dropout (Dropout)           (None, 32)                0         \n",
      "                                                                 \n",
      " dense_1 (Dense)             (None, 32)                1056      \n",
      "                                                                 \n",
      " dropout_1 (Dropout)         (None, 32)                0         \n",
      "                                                                 \n",
      " dense_2 (Dense)             (None, 1)                 33        \n",
      "                                                                 \n",
      "=================================================================\n",
      "Total params: 2,081\n",
      "Trainable params: 2,081\n",
      "Non-trainable params: 0\n",
      "_________________________________________________________________\n"
     ]
    }
   ],
   "source": [
    "from keras import backend as K\n",
    "del model_deep\n",
    "K.clear_session()\n",
    "\n",
    "model_deep = Sequential(\n",
    "    [\n",
    "        Dense(units=32, activation='relu', kernel_initializer=\"uniform\" ,input_shape=(30,)),\n",
    "        Dropout(rate=0.1),\n",
    "        Dense(units=32, activation='relu', kernel_initializer=\"uniform\"),\n",
    "        Dropout(rate=0.1),\n",
    "        Dense(units=1, activation='sigmoid'),\n",
    "    ]\n",
    ")\n",
    "model_deep.layers\n",
    "model_deep.compile(optimizer='adam', loss='binary_crossentropy', metrics=['accuracy'])\n",
    "model_deep.summary()"
   ]
  },
  {
   "cell_type": "code",
   "execution_count": 185,
   "metadata": {},
   "outputs": [
    {
     "name": "stdout",
     "output_type": "stream",
     "text": [
      "Epoch 1/400\n",
      "6/6 [==============================] - 2s 4ms/step - loss: 1.1306 - accuracy: 0.4453\n",
      "Epoch 2/400\n",
      "6/6 [==============================] - 0s 8ms/step - loss: 0.7455 - accuracy: 0.5898\n",
      "Epoch 3/400\n",
      "6/6 [==============================] - 0s 18ms/step - loss: 0.7273 - accuracy: 0.6543\n",
      "Epoch 4/400\n",
      "6/6 [==============================] - 0s 8ms/step - loss: 0.6203 - accuracy: 0.5566\n",
      "Epoch 5/400\n",
      "6/6 [==============================] - 0s 8ms/step - loss: 0.5975 - accuracy: 0.7617\n",
      "Epoch 6/400\n",
      "6/6 [==============================] - 0s 7ms/step - loss: 0.5526 - accuracy: 0.7832\n",
      "Epoch 7/400\n",
      "6/6 [==============================] - 0s 7ms/step - loss: 0.5231 - accuracy: 0.7695\n",
      "Epoch 8/400\n",
      "6/6 [==============================] - 0s 8ms/step - loss: 0.4916 - accuracy: 0.8086\n",
      "Epoch 9/400\n",
      "6/6 [==============================] - 0s 5ms/step - loss: 0.4288 - accuracy: 0.8613\n",
      "Epoch 10/400\n",
      "6/6 [==============================] - 0s 5ms/step - loss: 0.4108 - accuracy: 0.8457\n",
      "Epoch 11/400\n",
      "6/6 [==============================] - 0s 6ms/step - loss: 0.3662 - accuracy: 0.8691\n",
      "Epoch 12/400\n",
      "6/6 [==============================] - 0s 5ms/step - loss: 0.3462 - accuracy: 0.8730\n",
      "Epoch 13/400\n",
      "6/6 [==============================] - 0s 14ms/step - loss: 0.3140 - accuracy: 0.8887\n",
      "Epoch 14/400\n",
      "6/6 [==============================] - 0s 6ms/step - loss: 0.3429 - accuracy: 0.8672\n",
      "Epoch 15/400\n",
      "6/6 [==============================] - 0s 4ms/step - loss: 0.3033 - accuracy: 0.8848\n",
      "Epoch 16/400\n",
      "6/6 [==============================] - 0s 5ms/step - loss: 0.3027 - accuracy: 0.9023\n",
      "Epoch 17/400\n",
      "6/6 [==============================] - 0s 14ms/step - loss: 0.2762 - accuracy: 0.8926\n",
      "Epoch 18/400\n",
      "6/6 [==============================] - 0s 4ms/step - loss: 0.2912 - accuracy: 0.8906\n",
      "Epoch 19/400\n",
      "6/6 [==============================] - 0s 23ms/step - loss: 0.2574 - accuracy: 0.9023\n",
      "Epoch 20/400\n",
      "6/6 [==============================] - 0s 12ms/step - loss: 0.2685 - accuracy: 0.8984\n",
      "Epoch 21/400\n",
      "6/6 [==============================] - 0s 10ms/step - loss: 0.2660 - accuracy: 0.9082\n",
      "Epoch 22/400\n",
      "6/6 [==============================] - 0s 7ms/step - loss: 0.2847 - accuracy: 0.8906\n",
      "Epoch 23/400\n",
      "6/6 [==============================] - 0s 9ms/step - loss: 0.2709 - accuracy: 0.9004\n",
      "Epoch 24/400\n",
      "6/6 [==============================] - 0s 5ms/step - loss: 0.2317 - accuracy: 0.9141\n",
      "Epoch 25/400\n",
      "6/6 [==============================] - 0s 12ms/step - loss: 0.2461 - accuracy: 0.9121\n",
      "Epoch 26/400\n",
      "6/6 [==============================] - 0s 5ms/step - loss: 0.2330 - accuracy: 0.9121\n",
      "Epoch 27/400\n",
      "6/6 [==============================] - 0s 5ms/step - loss: 0.2258 - accuracy: 0.9004\n",
      "Epoch 28/400\n",
      "6/6 [==============================] - 0s 5ms/step - loss: 0.2262 - accuracy: 0.9082\n",
      "Epoch 29/400\n",
      "6/6 [==============================] - 0s 5ms/step - loss: 0.2526 - accuracy: 0.9062\n",
      "Epoch 30/400\n",
      "6/6 [==============================] - 0s 4ms/step - loss: 0.3385 - accuracy: 0.8516\n",
      "Epoch 31/400\n",
      "6/6 [==============================] - 0s 4ms/step - loss: 0.2400 - accuracy: 0.9121\n",
      "Epoch 32/400\n",
      "6/6 [==============================] - 0s 5ms/step - loss: 0.2268 - accuracy: 0.9160\n",
      "Epoch 33/400\n",
      "6/6 [==============================] - 0s 4ms/step - loss: 0.2360 - accuracy: 0.9121\n",
      "Epoch 34/400\n",
      "6/6 [==============================] - 0s 32ms/step - loss: 0.2282 - accuracy: 0.9062\n",
      "Epoch 35/400\n",
      "6/6 [==============================] - 0s 5ms/step - loss: 0.2187 - accuracy: 0.9160\n",
      "Epoch 36/400\n",
      "6/6 [==============================] - 0s 13ms/step - loss: 0.2519 - accuracy: 0.8984\n",
      "Epoch 37/400\n",
      "6/6 [==============================] - 0s 12ms/step - loss: 0.2428 - accuracy: 0.9141\n",
      "Epoch 38/400\n",
      "6/6 [==============================] - 0s 5ms/step - loss: 0.2601 - accuracy: 0.8926\n",
      "Epoch 39/400\n",
      "6/6 [==============================] - 0s 13ms/step - loss: 0.2295 - accuracy: 0.9160\n",
      "Epoch 40/400\n",
      "6/6 [==============================] - 0s 8ms/step - loss: 0.2151 - accuracy: 0.9258\n",
      "Epoch 41/400\n",
      "6/6 [==============================] - 0s 21ms/step - loss: 0.2250 - accuracy: 0.9102\n",
      "Epoch 42/400\n",
      "6/6 [==============================] - 0s 5ms/step - loss: 0.2111 - accuracy: 0.9238\n",
      "Epoch 43/400\n",
      "6/6 [==============================] - 0s 5ms/step - loss: 0.2118 - accuracy: 0.9141\n",
      "Epoch 44/400\n",
      "6/6 [==============================] - 0s 18ms/step - loss: 0.2246 - accuracy: 0.9062\n",
      "Epoch 45/400\n",
      "6/6 [==============================] - 0s 12ms/step - loss: 0.2251 - accuracy: 0.9160\n",
      "Epoch 46/400\n",
      "6/6 [==============================] - 0s 10ms/step - loss: 0.2192 - accuracy: 0.9160\n",
      "Epoch 47/400\n",
      "6/6 [==============================] - 0s 5ms/step - loss: 0.2013 - accuracy: 0.9199\n",
      "Epoch 48/400\n",
      "6/6 [==============================] - 0s 5ms/step - loss: 0.1973 - accuracy: 0.9160\n",
      "Epoch 49/400\n",
      "6/6 [==============================] - 0s 22ms/step - loss: 0.2100 - accuracy: 0.9121\n",
      "Epoch 50/400\n",
      "6/6 [==============================] - 0s 12ms/step - loss: 0.2270 - accuracy: 0.9141\n",
      "Epoch 51/400\n",
      "6/6 [==============================] - 0s 6ms/step - loss: 0.2090 - accuracy: 0.8984\n",
      "Epoch 52/400\n",
      "6/6 [==============================] - 0s 15ms/step - loss: 0.2069 - accuracy: 0.9160\n",
      "Epoch 53/400\n",
      "6/6 [==============================] - 0s 27ms/step - loss: 0.1930 - accuracy: 0.9277\n",
      "Epoch 54/400\n",
      "6/6 [==============================] - 0s 15ms/step - loss: 0.2043 - accuracy: 0.9141\n",
      "Epoch 55/400\n",
      "6/6 [==============================] - 0s 17ms/step - loss: 0.1902 - accuracy: 0.9219\n",
      "Epoch 56/400\n",
      "6/6 [==============================] - 0s 5ms/step - loss: 0.1947 - accuracy: 0.9277\n",
      "Epoch 57/400\n",
      "6/6 [==============================] - 0s 10ms/step - loss: 0.1813 - accuracy: 0.9277\n",
      "Epoch 58/400\n",
      "6/6 [==============================] - 0s 12ms/step - loss: 0.1961 - accuracy: 0.9277\n",
      "Epoch 59/400\n",
      "6/6 [==============================] - 0s 4ms/step - loss: 0.2082 - accuracy: 0.9160\n",
      "Epoch 60/400\n",
      "6/6 [==============================] - 0s 11ms/step - loss: 0.1932 - accuracy: 0.9258\n",
      "Epoch 61/400\n",
      "6/6 [==============================] - 0s 23ms/step - loss: 0.1931 - accuracy: 0.9277\n",
      "Epoch 62/400\n",
      "6/6 [==============================] - 0s 11ms/step - loss: 0.2063 - accuracy: 0.9102\n",
      "Epoch 63/400\n",
      "6/6 [==============================] - 0s 7ms/step - loss: 0.1933 - accuracy: 0.9238\n",
      "Epoch 64/400\n",
      "6/6 [==============================] - 0s 22ms/step - loss: 0.1855 - accuracy: 0.9199\n",
      "Epoch 65/400\n",
      "6/6 [==============================] - 0s 10ms/step - loss: 0.1824 - accuracy: 0.9238\n",
      "Epoch 66/400\n",
      "6/6 [==============================] - 0s 5ms/step - loss: 0.2146 - accuracy: 0.9141\n",
      "Epoch 67/400\n",
      "6/6 [==============================] - 0s 14ms/step - loss: 0.1916 - accuracy: 0.9199\n",
      "Epoch 68/400\n",
      "6/6 [==============================] - 0s 14ms/step - loss: 0.2218 - accuracy: 0.9082\n",
      "Epoch 69/400\n",
      "6/6 [==============================] - 0s 9ms/step - loss: 0.2057 - accuracy: 0.9121\n",
      "Epoch 70/400\n",
      "6/6 [==============================] - 0s 6ms/step - loss: 0.1907 - accuracy: 0.9199\n",
      "Epoch 71/400\n",
      "6/6 [==============================] - 0s 5ms/step - loss: 0.2101 - accuracy: 0.9180\n",
      "Epoch 72/400\n",
      "6/6 [==============================] - 0s 9ms/step - loss: 0.1795 - accuracy: 0.9258\n",
      "Epoch 73/400\n",
      "6/6 [==============================] - 0s 8ms/step - loss: 0.1707 - accuracy: 0.9277\n",
      "Epoch 74/400\n",
      "6/6 [==============================] - 0s 12ms/step - loss: 0.1826 - accuracy: 0.9199\n",
      "Epoch 75/400\n",
      "6/6 [==============================] - 0s 8ms/step - loss: 0.1818 - accuracy: 0.9238\n",
      "Epoch 76/400\n",
      "6/6 [==============================] - 0s 5ms/step - loss: 0.1984 - accuracy: 0.9180\n",
      "Epoch 77/400\n",
      "6/6 [==============================] - 0s 10ms/step - loss: 0.1752 - accuracy: 0.9316\n",
      "Epoch 78/400\n",
      "6/6 [==============================] - 0s 12ms/step - loss: 0.2582 - accuracy: 0.8828\n",
      "Epoch 79/400\n",
      "6/6 [==============================] - 0s 8ms/step - loss: 0.1774 - accuracy: 0.9375\n",
      "Epoch 80/400\n",
      "6/6 [==============================] - 0s 5ms/step - loss: 0.1883 - accuracy: 0.9277\n",
      "Epoch 81/400\n",
      "6/6 [==============================] - 0s 8ms/step - loss: 0.1922 - accuracy: 0.9219\n",
      "Epoch 82/400\n",
      "6/6 [==============================] - 0s 6ms/step - loss: 0.1756 - accuracy: 0.9258\n",
      "Epoch 83/400\n",
      "6/6 [==============================] - 0s 19ms/step - loss: 0.1886 - accuracy: 0.9316\n",
      "Epoch 84/400\n",
      "6/6 [==============================] - 0s 14ms/step - loss: 0.1859 - accuracy: 0.9219\n",
      "Epoch 85/400\n",
      "6/6 [==============================] - 0s 12ms/step - loss: 0.1932 - accuracy: 0.9180\n",
      "Epoch 86/400\n",
      "6/6 [==============================] - 0s 5ms/step - loss: 0.1797 - accuracy: 0.9297\n",
      "Epoch 87/400\n",
      "6/6 [==============================] - 0s 13ms/step - loss: 0.1760 - accuracy: 0.9336\n",
      "Epoch 88/400\n",
      "6/6 [==============================] - 0s 17ms/step - loss: 0.1737 - accuracy: 0.9219\n",
      "Epoch 89/400\n",
      "6/6 [==============================] - 0s 7ms/step - loss: 0.1767 - accuracy: 0.9219\n",
      "Epoch 90/400\n",
      "6/6 [==============================] - 0s 6ms/step - loss: 0.1898 - accuracy: 0.9297\n",
      "Epoch 91/400\n",
      "6/6 [==============================] - 0s 10ms/step - loss: 0.1787 - accuracy: 0.9180\n",
      "Epoch 92/400\n",
      "6/6 [==============================] - 0s 10ms/step - loss: 0.1751 - accuracy: 0.9355\n",
      "Epoch 93/400\n",
      "6/6 [==============================] - 0s 10ms/step - loss: 0.2574 - accuracy: 0.8926\n",
      "Epoch 94/400\n",
      "6/6 [==============================] - 0s 10ms/step - loss: 0.2440 - accuracy: 0.8965\n",
      "Epoch 95/400\n",
      "6/6 [==============================] - 0s 15ms/step - loss: 0.1920 - accuracy: 0.9238\n",
      "Epoch 96/400\n",
      "6/6 [==============================] - 0s 17ms/step - loss: 0.1944 - accuracy: 0.9238\n",
      "Epoch 97/400\n",
      "6/6 [==============================] - 0s 17ms/step - loss: 0.1938 - accuracy: 0.9141\n",
      "Epoch 98/400\n",
      "6/6 [==============================] - 0s 13ms/step - loss: 0.1760 - accuracy: 0.9336\n",
      "Epoch 99/400\n",
      "6/6 [==============================] - 0s 5ms/step - loss: 0.1805 - accuracy: 0.9238\n",
      "Epoch 100/400\n",
      "6/6 [==============================] - 0s 4ms/step - loss: 0.1635 - accuracy: 0.9434\n",
      "Epoch 101/400\n",
      "6/6 [==============================] - 0s 4ms/step - loss: 0.1869 - accuracy: 0.9258\n",
      "Epoch 102/400\n",
      "6/6 [==============================] - 0s 10ms/step - loss: 0.1773 - accuracy: 0.9219\n",
      "Epoch 103/400\n",
      "6/6 [==============================] - 0s 8ms/step - loss: 0.1692 - accuracy: 0.9355\n",
      "Epoch 104/400\n",
      "6/6 [==============================] - 0s 5ms/step - loss: 0.1864 - accuracy: 0.9180\n",
      "Epoch 105/400\n",
      "6/6 [==============================] - 0s 16ms/step - loss: 0.1678 - accuracy: 0.9375\n",
      "Epoch 106/400\n",
      "6/6 [==============================] - 0s 6ms/step - loss: 0.1813 - accuracy: 0.9180\n",
      "Epoch 107/400\n",
      "6/6 [==============================] - 0s 5ms/step - loss: 0.1726 - accuracy: 0.9121\n",
      "Epoch 108/400\n",
      "6/6 [==============================] - 0s 8ms/step - loss: 0.1705 - accuracy: 0.9355\n",
      "Epoch 109/400\n",
      "6/6 [==============================] - 0s 5ms/step - loss: 0.1623 - accuracy: 0.9297\n",
      "Epoch 110/400\n",
      "6/6 [==============================] - 0s 7ms/step - loss: 0.1904 - accuracy: 0.9258\n",
      "Epoch 111/400\n",
      "6/6 [==============================] - 0s 5ms/step - loss: 0.1575 - accuracy: 0.9395\n",
      "Epoch 112/400\n",
      "6/6 [==============================] - 0s 31ms/step - loss: 0.2428 - accuracy: 0.8789\n",
      "Epoch 113/400\n",
      "6/6 [==============================] - 0s 6ms/step - loss: 0.1967 - accuracy: 0.9238\n",
      "Epoch 114/400\n",
      "6/6 [==============================] - 0s 6ms/step - loss: 0.1628 - accuracy: 0.9316\n",
      "Epoch 115/400\n",
      "6/6 [==============================] - 0s 8ms/step - loss: 0.1617 - accuracy: 0.9316\n",
      "Epoch 116/400\n",
      "6/6 [==============================] - 0s 6ms/step - loss: 0.1590 - accuracy: 0.9414\n",
      "Epoch 117/400\n",
      "6/6 [==============================] - 0s 5ms/step - loss: 0.1574 - accuracy: 0.9355\n",
      "Epoch 118/400\n",
      "6/6 [==============================] - 0s 40ms/step - loss: 0.1504 - accuracy: 0.9316\n",
      "Epoch 119/400\n",
      "6/6 [==============================] - 0s 14ms/step - loss: 0.1648 - accuracy: 0.9395\n",
      "Epoch 120/400\n",
      "6/6 [==============================] - 0s 20ms/step - loss: 0.1853 - accuracy: 0.9160\n",
      "Epoch 121/400\n",
      "6/6 [==============================] - 0s 19ms/step - loss: 0.1690 - accuracy: 0.9375\n",
      "Epoch 122/400\n",
      "6/6 [==============================] - 0s 9ms/step - loss: 0.1569 - accuracy: 0.9395\n",
      "Epoch 123/400\n",
      "6/6 [==============================] - 0s 9ms/step - loss: 0.1621 - accuracy: 0.9336\n",
      "Epoch 124/400\n",
      "6/6 [==============================] - 0s 5ms/step - loss: 0.1865 - accuracy: 0.9336\n",
      "Epoch 125/400\n",
      "6/6 [==============================] - 0s 33ms/step - loss: 0.1697 - accuracy: 0.9258\n",
      "Epoch 126/400\n",
      "6/6 [==============================] - 0s 16ms/step - loss: 0.1668 - accuracy: 0.9355\n",
      "Epoch 127/400\n",
      "6/6 [==============================] - 0s 16ms/step - loss: 0.1676 - accuracy: 0.9316\n",
      "Epoch 128/400\n",
      "6/6 [==============================] - 0s 4ms/step - loss: 0.1649 - accuracy: 0.9219\n",
      "Epoch 129/400\n",
      "6/6 [==============================] - 0s 9ms/step - loss: 0.1490 - accuracy: 0.9375\n",
      "Epoch 130/400\n",
      "6/6 [==============================] - 0s 13ms/step - loss: 0.1578 - accuracy: 0.9277\n",
      "Epoch 131/400\n",
      "6/6 [==============================] - 0s 15ms/step - loss: 0.1525 - accuracy: 0.9414\n",
      "Epoch 132/400\n",
      "6/6 [==============================] - 0s 12ms/step - loss: 0.1979 - accuracy: 0.9121\n",
      "Epoch 133/400\n",
      "6/6 [==============================] - 0s 5ms/step - loss: 0.1665 - accuracy: 0.9375\n",
      "Epoch 134/400\n",
      "6/6 [==============================] - 0s 9ms/step - loss: 0.1575 - accuracy: 0.9336\n",
      "Epoch 135/400\n",
      "6/6 [==============================] - 0s 5ms/step - loss: 0.1506 - accuracy: 0.9355\n",
      "Epoch 136/400\n",
      "6/6 [==============================] - 0s 6ms/step - loss: 0.1519 - accuracy: 0.9297\n",
      "Epoch 137/400\n",
      "6/6 [==============================] - 0s 7ms/step - loss: 0.1453 - accuracy: 0.9395\n",
      "Epoch 138/400\n",
      "6/6 [==============================] - 0s 6ms/step - loss: 0.1427 - accuracy: 0.9453\n",
      "Epoch 139/400\n",
      "6/6 [==============================] - 0s 5ms/step - loss: 0.1397 - accuracy: 0.9453\n",
      "Epoch 140/400\n",
      "6/6 [==============================] - 0s 7ms/step - loss: 0.1529 - accuracy: 0.9355\n",
      "Epoch 141/400\n",
      "6/6 [==============================] - 0s 13ms/step - loss: 0.1498 - accuracy: 0.9434\n",
      "Epoch 142/400\n",
      "6/6 [==============================] - 0s 9ms/step - loss: 0.1399 - accuracy: 0.9453\n",
      "Epoch 143/400\n",
      "6/6 [==============================] - 0s 7ms/step - loss: 0.1462 - accuracy: 0.9434\n",
      "Epoch 144/400\n",
      "6/6 [==============================] - 0s 13ms/step - loss: 0.1556 - accuracy: 0.9492\n",
      "Epoch 145/400\n",
      "6/6 [==============================] - 0s 6ms/step - loss: 0.1406 - accuracy: 0.9414\n",
      "Epoch 146/400\n",
      "6/6 [==============================] - 0s 6ms/step - loss: 0.1487 - accuracy: 0.9473\n",
      "Epoch 147/400\n",
      "6/6 [==============================] - 0s 9ms/step - loss: 0.2227 - accuracy: 0.9023\n",
      "Epoch 148/400\n",
      "6/6 [==============================] - 0s 12ms/step - loss: 0.1741 - accuracy: 0.9316\n",
      "Epoch 149/400\n",
      "6/6 [==============================] - 0s 13ms/step - loss: 0.1484 - accuracy: 0.9375\n",
      "Epoch 150/400\n",
      "6/6 [==============================] - 0s 5ms/step - loss: 0.1535 - accuracy: 0.9414\n",
      "Epoch 151/400\n",
      "6/6 [==============================] - 0s 5ms/step - loss: 0.1502 - accuracy: 0.9355\n",
      "Epoch 152/400\n",
      "6/6 [==============================] - 0s 6ms/step - loss: 0.1691 - accuracy: 0.9297\n",
      "Epoch 153/400\n",
      "6/6 [==============================] - 0s 6ms/step - loss: 0.1441 - accuracy: 0.9414\n",
      "Epoch 154/400\n",
      "6/6 [==============================] - 0s 6ms/step - loss: 0.1539 - accuracy: 0.9395\n",
      "Epoch 155/400\n",
      "6/6 [==============================] - 0s 6ms/step - loss: 0.1500 - accuracy: 0.9395\n",
      "Epoch 156/400\n",
      "6/6 [==============================] - 0s 6ms/step - loss: 0.1653 - accuracy: 0.9316\n",
      "Epoch 157/400\n",
      "6/6 [==============================] - 0s 5ms/step - loss: 0.1367 - accuracy: 0.9434\n",
      "Epoch 158/400\n",
      "6/6 [==============================] - 0s 6ms/step - loss: 0.1468 - accuracy: 0.9512\n",
      "Epoch 159/400\n",
      "6/6 [==============================] - 0s 8ms/step - loss: 0.1290 - accuracy: 0.9512\n",
      "Epoch 160/400\n",
      "6/6 [==============================] - 0s 6ms/step - loss: 0.1250 - accuracy: 0.9473\n",
      "Epoch 161/400\n",
      "6/6 [==============================] - 0s 6ms/step - loss: 0.1254 - accuracy: 0.9531\n",
      "Epoch 162/400\n",
      "6/6 [==============================] - 0s 15ms/step - loss: 0.1473 - accuracy: 0.9375\n",
      "Epoch 163/400\n",
      "6/6 [==============================] - 0s 5ms/step - loss: 0.1628 - accuracy: 0.9414\n",
      "Epoch 164/400\n",
      "6/6 [==============================] - 0s 6ms/step - loss: 0.1510 - accuracy: 0.9316\n",
      "Epoch 165/400\n",
      "6/6 [==============================] - 0s 9ms/step - loss: 0.1522 - accuracy: 0.9414\n",
      "Epoch 166/400\n",
      "6/6 [==============================] - 0s 15ms/step - loss: 0.1386 - accuracy: 0.9473\n",
      "Epoch 167/400\n",
      "6/6 [==============================] - 0s 5ms/step - loss: 0.1424 - accuracy: 0.9434\n",
      "Epoch 168/400\n",
      "6/6 [==============================] - 0s 6ms/step - loss: 0.1273 - accuracy: 0.9473\n",
      "Epoch 169/400\n",
      "6/6 [==============================] - 0s 7ms/step - loss: 0.1519 - accuracy: 0.9434\n",
      "Epoch 170/400\n",
      "6/6 [==============================] - 0s 5ms/step - loss: 0.1591 - accuracy: 0.9414\n",
      "Epoch 171/400\n",
      "6/6 [==============================] - 0s 5ms/step - loss: 0.1688 - accuracy: 0.9180\n",
      "Epoch 172/400\n",
      "6/6 [==============================] - 0s 6ms/step - loss: 0.1571 - accuracy: 0.9355\n",
      "Epoch 173/400\n",
      "6/6 [==============================] - 0s 5ms/step - loss: 0.1664 - accuracy: 0.9258\n",
      "Epoch 174/400\n",
      "6/6 [==============================] - 0s 6ms/step - loss: 0.1457 - accuracy: 0.9355\n",
      "Epoch 175/400\n",
      "6/6 [==============================] - 0s 6ms/step - loss: 0.1523 - accuracy: 0.9395\n",
      "Epoch 176/400\n",
      "6/6 [==============================] - 0s 6ms/step - loss: 0.2618 - accuracy: 0.8828\n",
      "Epoch 177/400\n",
      "6/6 [==============================] - 0s 4ms/step - loss: 0.2113 - accuracy: 0.9102\n",
      "Epoch 178/400\n",
      "6/6 [==============================] - 0s 6ms/step - loss: 0.2085 - accuracy: 0.9180\n",
      "Epoch 179/400\n",
      "6/6 [==============================] - 0s 4ms/step - loss: 0.1616 - accuracy: 0.9355\n",
      "Epoch 180/400\n",
      "6/6 [==============================] - 0s 9ms/step - loss: 0.1747 - accuracy: 0.9375\n",
      "Epoch 181/400\n",
      "6/6 [==============================] - 0s 16ms/step - loss: 0.1464 - accuracy: 0.9395\n",
      "Epoch 182/400\n",
      "6/6 [==============================] - 0s 8ms/step - loss: 0.1693 - accuracy: 0.9258\n",
      "Epoch 183/400\n",
      "6/6 [==============================] - 0s 5ms/step - loss: 0.1369 - accuracy: 0.9453\n",
      "Epoch 184/400\n",
      "6/6 [==============================] - 0s 35ms/step - loss: 0.1485 - accuracy: 0.9453\n",
      "Epoch 185/400\n",
      "6/6 [==============================] - 0s 5ms/step - loss: 0.1855 - accuracy: 0.9199\n",
      "Epoch 186/400\n",
      "6/6 [==============================] - 0s 30ms/step - loss: 0.2046 - accuracy: 0.9219\n",
      "Epoch 187/400\n",
      "6/6 [==============================] - 0s 8ms/step - loss: 0.1909 - accuracy: 0.9102\n",
      "Epoch 188/400\n",
      "6/6 [==============================] - 0s 5ms/step - loss: 0.1991 - accuracy: 0.9258\n",
      "Epoch 189/400\n",
      "6/6 [==============================] - 0s 7ms/step - loss: 0.1724 - accuracy: 0.9199\n",
      "Epoch 190/400\n",
      "6/6 [==============================] - 0s 8ms/step - loss: 0.1883 - accuracy: 0.9277\n",
      "Epoch 191/400\n",
      "6/6 [==============================] - 0s 15ms/step - loss: 0.1532 - accuracy: 0.9277\n",
      "Epoch 192/400\n",
      "6/6 [==============================] - 0s 5ms/step - loss: 0.1668 - accuracy: 0.9336\n",
      "Epoch 193/400\n",
      "6/6 [==============================] - 0s 6ms/step - loss: 0.1505 - accuracy: 0.9297\n",
      "Epoch 194/400\n",
      "6/6 [==============================] - 0s 7ms/step - loss: 0.1516 - accuracy: 0.9375\n",
      "Epoch 195/400\n",
      "6/6 [==============================] - 0s 7ms/step - loss: 0.1639 - accuracy: 0.9258\n",
      "Epoch 196/400\n",
      "6/6 [==============================] - 0s 7ms/step - loss: 0.1699 - accuracy: 0.9316\n",
      "Epoch 197/400\n",
      "6/6 [==============================] - 0s 5ms/step - loss: 0.1532 - accuracy: 0.9355\n",
      "Epoch 198/400\n",
      "6/6 [==============================] - 0s 9ms/step - loss: 0.1480 - accuracy: 0.9297\n",
      "Epoch 199/400\n",
      "6/6 [==============================] - 0s 6ms/step - loss: 0.1311 - accuracy: 0.9434\n",
      "Epoch 200/400\n",
      "6/6 [==============================] - 0s 6ms/step - loss: 0.1529 - accuracy: 0.9395\n",
      "Epoch 201/400\n",
      "6/6 [==============================] - 0s 5ms/step - loss: 0.2210 - accuracy: 0.9004\n",
      "Epoch 202/400\n",
      "6/6 [==============================] - 0s 6ms/step - loss: 0.2113 - accuracy: 0.9043\n",
      "Epoch 203/400\n",
      "6/6 [==============================] - 0s 9ms/step - loss: 0.1687 - accuracy: 0.9238\n",
      "Epoch 204/400\n",
      "6/6 [==============================] - 0s 6ms/step - loss: 0.1516 - accuracy: 0.9395\n",
      "Epoch 205/400\n",
      "6/6 [==============================] - 0s 6ms/step - loss: 0.1642 - accuracy: 0.9355\n",
      "Epoch 206/400\n",
      "6/6 [==============================] - 0s 5ms/step - loss: 0.1496 - accuracy: 0.9453\n",
      "Epoch 207/400\n",
      "6/6 [==============================] - 0s 7ms/step - loss: 0.1496 - accuracy: 0.9336\n",
      "Epoch 208/400\n",
      "6/6 [==============================] - 0s 9ms/step - loss: 0.1515 - accuracy: 0.9453\n",
      "Epoch 209/400\n",
      "6/6 [==============================] - 0s 8ms/step - loss: 0.1639 - accuracy: 0.9414\n",
      "Epoch 210/400\n",
      "6/6 [==============================] - 0s 4ms/step - loss: 0.1620 - accuracy: 0.9258\n",
      "Epoch 211/400\n",
      "6/6 [==============================] - 0s 4ms/step - loss: 0.1401 - accuracy: 0.9492\n",
      "Epoch 212/400\n",
      "6/6 [==============================] - 0s 5ms/step - loss: 0.1512 - accuracy: 0.9180\n",
      "Epoch 213/400\n",
      "6/6 [==============================] - 0s 6ms/step - loss: 0.1410 - accuracy: 0.9355\n",
      "Epoch 214/400\n",
      "6/6 [==============================] - 0s 7ms/step - loss: 0.1537 - accuracy: 0.9531\n",
      "Epoch 215/400\n",
      "6/6 [==============================] - 0s 7ms/step - loss: 0.1386 - accuracy: 0.9414\n",
      "Epoch 216/400\n",
      "6/6 [==============================] - 0s 7ms/step - loss: 0.1523 - accuracy: 0.9395\n",
      "Epoch 217/400\n",
      "6/6 [==============================] - 0s 5ms/step - loss: 0.1484 - accuracy: 0.9395\n",
      "Epoch 218/400\n",
      "6/6 [==============================] - 0s 7ms/step - loss: 0.1550 - accuracy: 0.9258\n",
      "Epoch 219/400\n",
      "6/6 [==============================] - 0s 8ms/step - loss: 0.1514 - accuracy: 0.9355\n",
      "Epoch 220/400\n",
      "6/6 [==============================] - 0s 6ms/step - loss: 0.1268 - accuracy: 0.9414\n",
      "Epoch 221/400\n",
      "6/6 [==============================] - 0s 7ms/step - loss: 0.1349 - accuracy: 0.9512\n",
      "Epoch 222/400\n",
      "6/6 [==============================] - 0s 7ms/step - loss: 0.1363 - accuracy: 0.9473\n",
      "Epoch 223/400\n",
      "6/6 [==============================] - 0s 6ms/step - loss: 0.1416 - accuracy: 0.9375\n",
      "Epoch 224/400\n",
      "6/6 [==============================] - 0s 5ms/step - loss: 0.1385 - accuracy: 0.9473\n",
      "Epoch 225/400\n",
      "6/6 [==============================] - 0s 5ms/step - loss: 0.1392 - accuracy: 0.9355\n",
      "Epoch 226/400\n",
      "6/6 [==============================] - 0s 6ms/step - loss: 0.1273 - accuracy: 0.9453\n",
      "Epoch 227/400\n",
      "6/6 [==============================] - 0s 17ms/step - loss: 0.1302 - accuracy: 0.9492\n",
      "Epoch 228/400\n",
      "6/6 [==============================] - 0s 5ms/step - loss: 0.1225 - accuracy: 0.9453\n",
      "Epoch 229/400\n",
      "6/6 [==============================] - 0s 6ms/step - loss: 0.1177 - accuracy: 0.9473\n",
      "Epoch 230/400\n",
      "6/6 [==============================] - 0s 5ms/step - loss: 0.1327 - accuracy: 0.9473\n",
      "Epoch 231/400\n",
      "6/6 [==============================] - 0s 5ms/step - loss: 0.1364 - accuracy: 0.9434\n",
      "Epoch 232/400\n",
      "6/6 [==============================] - 0s 5ms/step - loss: 0.1313 - accuracy: 0.9453\n",
      "Epoch 233/400\n",
      "6/6 [==============================] - 0s 7ms/step - loss: 0.1466 - accuracy: 0.9414\n",
      "Epoch 234/400\n",
      "6/6 [==============================] - 0s 6ms/step - loss: 0.1641 - accuracy: 0.9473\n",
      "Epoch 235/400\n",
      "6/6 [==============================] - 0s 6ms/step - loss: 0.1288 - accuracy: 0.9492\n",
      "Epoch 236/400\n",
      "6/6 [==============================] - 0s 7ms/step - loss: 0.1463 - accuracy: 0.9297\n",
      "Epoch 237/400\n",
      "6/6 [==============================] - 0s 6ms/step - loss: 0.1344 - accuracy: 0.9492\n",
      "Epoch 238/400\n",
      "6/6 [==============================] - 0s 26ms/step - loss: 0.1835 - accuracy: 0.9180\n",
      "Epoch 239/400\n",
      "6/6 [==============================] - 0s 26ms/step - loss: 0.1715 - accuracy: 0.9258\n",
      "Epoch 240/400\n",
      "6/6 [==============================] - 0s 13ms/step - loss: 0.1342 - accuracy: 0.9434\n",
      "Epoch 241/400\n",
      "6/6 [==============================] - 0s 19ms/step - loss: 0.1363 - accuracy: 0.9434\n",
      "Epoch 242/400\n",
      "6/6 [==============================] - 0s 5ms/step - loss: 0.1340 - accuracy: 0.9434\n",
      "Epoch 243/400\n",
      "6/6 [==============================] - 0s 7ms/step - loss: 0.1765 - accuracy: 0.9121\n",
      "Epoch 244/400\n",
      "6/6 [==============================] - 0s 8ms/step - loss: 0.1863 - accuracy: 0.9316\n",
      "Epoch 245/400\n",
      "6/6 [==============================] - 0s 7ms/step - loss: 0.1818 - accuracy: 0.9238\n",
      "Epoch 246/400\n",
      "6/6 [==============================] - 0s 20ms/step - loss: 0.1545 - accuracy: 0.9336\n",
      "Epoch 247/400\n",
      "6/6 [==============================] - 0s 6ms/step - loss: 0.1431 - accuracy: 0.9355\n",
      "Epoch 248/400\n",
      "6/6 [==============================] - 0s 8ms/step - loss: 0.1168 - accuracy: 0.9531\n",
      "Epoch 249/400\n",
      "6/6 [==============================] - 0s 4ms/step - loss: 0.1290 - accuracy: 0.9492\n",
      "Epoch 250/400\n",
      "6/6 [==============================] - 0s 10ms/step - loss: 0.1529 - accuracy: 0.9375\n",
      "Epoch 251/400\n",
      "6/6 [==============================] - 0s 6ms/step - loss: 0.1516 - accuracy: 0.9336\n",
      "Epoch 252/400\n",
      "6/6 [==============================] - 0s 5ms/step - loss: 0.1465 - accuracy: 0.9434\n",
      "Epoch 253/400\n",
      "6/6 [==============================] - 0s 6ms/step - loss: 0.1411 - accuracy: 0.9219\n",
      "Epoch 254/400\n",
      "6/6 [==============================] - 0s 5ms/step - loss: 0.1503 - accuracy: 0.9395\n",
      "Epoch 255/400\n",
      "6/6 [==============================] - 0s 6ms/step - loss: 0.1360 - accuracy: 0.9414\n",
      "Epoch 256/400\n",
      "6/6 [==============================] - 0s 6ms/step - loss: 0.1277 - accuracy: 0.9473\n",
      "Epoch 257/400\n",
      "6/6 [==============================] - 0s 5ms/step - loss: 0.1350 - accuracy: 0.9414\n",
      "Epoch 258/400\n",
      "6/6 [==============================] - 0s 7ms/step - loss: 0.1324 - accuracy: 0.9395\n",
      "Epoch 259/400\n",
      "6/6 [==============================] - 0s 6ms/step - loss: 0.1171 - accuracy: 0.9434\n",
      "Epoch 260/400\n",
      "6/6 [==============================] - 0s 5ms/step - loss: 0.1336 - accuracy: 0.9512\n",
      "Epoch 261/400\n",
      "6/6 [==============================] - 0s 6ms/step - loss: 0.1391 - accuracy: 0.9434\n",
      "Epoch 262/400\n",
      "6/6 [==============================] - 0s 7ms/step - loss: 0.1280 - accuracy: 0.9512\n",
      "Epoch 263/400\n",
      "6/6 [==============================] - 0s 6ms/step - loss: 0.1286 - accuracy: 0.9473\n",
      "Epoch 264/400\n",
      "6/6 [==============================] - 0s 33ms/step - loss: 0.1361 - accuracy: 0.9395\n",
      "Epoch 265/400\n",
      "6/6 [==============================] - 0s 19ms/step - loss: 0.1387 - accuracy: 0.9355\n",
      "Epoch 266/400\n",
      "6/6 [==============================] - 0s 6ms/step - loss: 0.1136 - accuracy: 0.9551\n",
      "Epoch 267/400\n",
      "6/6 [==============================] - 0s 7ms/step - loss: 0.1402 - accuracy: 0.9473\n",
      "Epoch 268/400\n",
      "6/6 [==============================] - 0s 7ms/step - loss: 0.1606 - accuracy: 0.9355\n",
      "Epoch 269/400\n",
      "6/6 [==============================] - 0s 10ms/step - loss: 0.1622 - accuracy: 0.9336\n",
      "Epoch 270/400\n",
      "6/6 [==============================] - 0s 8ms/step - loss: 0.1674 - accuracy: 0.9258\n",
      "Epoch 271/400\n",
      "6/6 [==============================] - 0s 14ms/step - loss: 0.1246 - accuracy: 0.9473\n",
      "Epoch 272/400\n",
      "6/6 [==============================] - 0s 11ms/step - loss: 0.1276 - accuracy: 0.9453\n",
      "Epoch 273/400\n",
      "6/6 [==============================] - 0s 7ms/step - loss: 0.1668 - accuracy: 0.9316\n",
      "Epoch 274/400\n",
      "6/6 [==============================] - 0s 6ms/step - loss: 0.1782 - accuracy: 0.9355\n",
      "Epoch 275/400\n",
      "6/6 [==============================] - 0s 7ms/step - loss: 0.1671 - accuracy: 0.9297\n",
      "Epoch 276/400\n",
      "6/6 [==============================] - 0s 5ms/step - loss: 0.1497 - accuracy: 0.9473\n",
      "Epoch 277/400\n",
      "6/6 [==============================] - 0s 6ms/step - loss: 0.1261 - accuracy: 0.9453\n",
      "Epoch 278/400\n",
      "6/6 [==============================] - 0s 5ms/step - loss: 0.1240 - accuracy: 0.9570\n",
      "Epoch 279/400\n",
      "6/6 [==============================] - 0s 6ms/step - loss: 0.1632 - accuracy: 0.9238\n",
      "Epoch 280/400\n",
      "6/6 [==============================] - 0s 5ms/step - loss: 0.1767 - accuracy: 0.9336\n",
      "Epoch 281/400\n",
      "6/6 [==============================] - 0s 9ms/step - loss: 0.1284 - accuracy: 0.9512\n",
      "Epoch 282/400\n",
      "6/6 [==============================] - 0s 8ms/step - loss: 0.1311 - accuracy: 0.9453\n",
      "Epoch 283/400\n",
      "6/6 [==============================] - 0s 16ms/step - loss: 0.1390 - accuracy: 0.9453\n",
      "Epoch 284/400\n",
      "6/6 [==============================] - 0s 5ms/step - loss: 0.1259 - accuracy: 0.9512\n",
      "Epoch 285/400\n",
      "6/6 [==============================] - 0s 11ms/step - loss: 0.1369 - accuracy: 0.9434\n",
      "Epoch 286/400\n",
      "6/6 [==============================] - 0s 6ms/step - loss: 0.1514 - accuracy: 0.9453\n",
      "Epoch 287/400\n",
      "6/6 [==============================] - 0s 7ms/step - loss: 0.1318 - accuracy: 0.9512\n",
      "Epoch 288/400\n",
      "6/6 [==============================] - 0s 6ms/step - loss: 0.1623 - accuracy: 0.9473\n",
      "Epoch 289/400\n",
      "6/6 [==============================] - 0s 6ms/step - loss: 0.1259 - accuracy: 0.9512\n",
      "Epoch 290/400\n",
      "6/6 [==============================] - 0s 7ms/step - loss: 0.1321 - accuracy: 0.9434\n",
      "Epoch 291/400\n",
      "6/6 [==============================] - 0s 8ms/step - loss: 0.1207 - accuracy: 0.9512\n",
      "Epoch 292/400\n",
      "6/6 [==============================] - 0s 7ms/step - loss: 0.1231 - accuracy: 0.9473\n",
      "Epoch 293/400\n",
      "6/6 [==============================] - 0s 15ms/step - loss: 0.1259 - accuracy: 0.9395\n",
      "Epoch 294/400\n",
      "6/6 [==============================] - 0s 7ms/step - loss: 0.1216 - accuracy: 0.9531\n",
      "Epoch 295/400\n",
      "6/6 [==============================] - 0s 6ms/step - loss: 0.1232 - accuracy: 0.9492\n",
      "Epoch 296/400\n",
      "6/6 [==============================] - 0s 7ms/step - loss: 0.1416 - accuracy: 0.9453\n",
      "Epoch 297/400\n",
      "6/6 [==============================] - 0s 4ms/step - loss: 0.1175 - accuracy: 0.9492\n",
      "Epoch 298/400\n",
      "6/6 [==============================] - 0s 5ms/step - loss: 0.2018 - accuracy: 0.9004\n",
      "Epoch 299/400\n",
      "6/6 [==============================] - 0s 16ms/step - loss: 0.1384 - accuracy: 0.9453\n",
      "Epoch 300/400\n",
      "6/6 [==============================] - 0s 25ms/step - loss: 0.1251 - accuracy: 0.9434\n",
      "Epoch 301/400\n",
      "6/6 [==============================] - 0s 13ms/step - loss: 0.1087 - accuracy: 0.9590\n",
      "Epoch 302/400\n",
      "6/6 [==============================] - 0s 12ms/step - loss: 0.1231 - accuracy: 0.9531\n",
      "Epoch 303/400\n",
      "6/6 [==============================] - 0s 9ms/step - loss: 0.1243 - accuracy: 0.9512\n",
      "Epoch 304/400\n",
      "6/6 [==============================] - 0s 15ms/step - loss: 0.1236 - accuracy: 0.9453\n",
      "Epoch 305/400\n",
      "6/6 [==============================] - 0s 19ms/step - loss: 0.1195 - accuracy: 0.9531\n",
      "Epoch 306/400\n",
      "6/6 [==============================] - 0s 14ms/step - loss: 0.1163 - accuracy: 0.9492\n",
      "Epoch 307/400\n",
      "6/6 [==============================] - 0s 6ms/step - loss: 0.1254 - accuracy: 0.9492\n",
      "Epoch 308/400\n",
      "6/6 [==============================] - 0s 5ms/step - loss: 0.1316 - accuracy: 0.9453\n",
      "Epoch 309/400\n",
      "6/6 [==============================] - 0s 9ms/step - loss: 0.1292 - accuracy: 0.9492\n",
      "Epoch 310/400\n",
      "6/6 [==============================] - 0s 7ms/step - loss: 0.1310 - accuracy: 0.9492\n",
      "Epoch 311/400\n",
      "6/6 [==============================] - 0s 7ms/step - loss: 0.1753 - accuracy: 0.9238\n",
      "Epoch 312/400\n",
      "6/6 [==============================] - 0s 6ms/step - loss: 0.2028 - accuracy: 0.9160\n",
      "Epoch 313/400\n",
      "6/6 [==============================] - 0s 11ms/step - loss: 0.1548 - accuracy: 0.9551\n",
      "Epoch 314/400\n",
      "6/6 [==============================] - 0s 4ms/step - loss: 0.1372 - accuracy: 0.9434\n",
      "Epoch 315/400\n",
      "6/6 [==============================] - 0s 7ms/step - loss: 0.1551 - accuracy: 0.9395\n",
      "Epoch 316/400\n",
      "6/6 [==============================] - 0s 5ms/step - loss: 0.1213 - accuracy: 0.9453\n",
      "Epoch 317/400\n",
      "6/6 [==============================] - 0s 8ms/step - loss: 0.1510 - accuracy: 0.9297\n",
      "Epoch 318/400\n",
      "6/6 [==============================] - 0s 7ms/step - loss: 0.1184 - accuracy: 0.9551\n",
      "Epoch 319/400\n",
      "6/6 [==============================] - 0s 7ms/step - loss: 0.1379 - accuracy: 0.9336\n",
      "Epoch 320/400\n",
      "6/6 [==============================] - 0s 18ms/step - loss: 0.1170 - accuracy: 0.9512\n",
      "Epoch 321/400\n",
      "6/6 [==============================] - 0s 6ms/step - loss: 0.1228 - accuracy: 0.9551\n",
      "Epoch 322/400\n",
      "6/6 [==============================] - 0s 7ms/step - loss: 0.1153 - accuracy: 0.9531\n",
      "Epoch 323/400\n",
      "6/6 [==============================] - 0s 7ms/step - loss: 0.1194 - accuracy: 0.9531\n",
      "Epoch 324/400\n",
      "6/6 [==============================] - 0s 10ms/step - loss: 0.1080 - accuracy: 0.9531\n",
      "Epoch 325/400\n",
      "6/6 [==============================] - 0s 8ms/step - loss: 0.1165 - accuracy: 0.9512\n",
      "Epoch 326/400\n",
      "6/6 [==============================] - 0s 5ms/step - loss: 0.1061 - accuracy: 0.9609\n",
      "Epoch 327/400\n",
      "6/6 [==============================] - 0s 6ms/step - loss: 0.1083 - accuracy: 0.9492\n",
      "Epoch 328/400\n",
      "6/6 [==============================] - 0s 6ms/step - loss: 0.1109 - accuracy: 0.9531\n",
      "Epoch 329/400\n",
      "6/6 [==============================] - 0s 6ms/step - loss: 0.1222 - accuracy: 0.9512\n",
      "Epoch 330/400\n",
      "6/6 [==============================] - 0s 5ms/step - loss: 0.1102 - accuracy: 0.9512\n",
      "Epoch 331/400\n",
      "6/6 [==============================] - 0s 5ms/step - loss: 0.1040 - accuracy: 0.9512\n",
      "Epoch 332/400\n",
      "6/6 [==============================] - 0s 7ms/step - loss: 0.1465 - accuracy: 0.9492\n",
      "Epoch 333/400\n",
      "6/6 [==============================] - 0s 5ms/step - loss: 0.1044 - accuracy: 0.9512\n",
      "Epoch 334/400\n",
      "6/6 [==============================] - 0s 5ms/step - loss: 0.1163 - accuracy: 0.9453\n",
      "Epoch 335/400\n",
      "6/6 [==============================] - 0s 7ms/step - loss: 0.1064 - accuracy: 0.9609\n",
      "Epoch 336/400\n",
      "6/6 [==============================] - 0s 7ms/step - loss: 0.1128 - accuracy: 0.9492\n",
      "Epoch 337/400\n",
      "6/6 [==============================] - 0s 7ms/step - loss: 0.1348 - accuracy: 0.9453\n",
      "Epoch 338/400\n",
      "6/6 [==============================] - 0s 5ms/step - loss: 0.1596 - accuracy: 0.9336\n",
      "Epoch 339/400\n",
      "6/6 [==============================] - 0s 5ms/step - loss: 0.1109 - accuracy: 0.9512\n",
      "Epoch 340/400\n",
      "6/6 [==============================] - 0s 6ms/step - loss: 0.1071 - accuracy: 0.9570\n",
      "Epoch 341/400\n",
      "6/6 [==============================] - 0s 7ms/step - loss: 0.1111 - accuracy: 0.9531\n",
      "Epoch 342/400\n",
      "6/6 [==============================] - 0s 6ms/step - loss: 0.1044 - accuracy: 0.9629\n",
      "Epoch 343/400\n",
      "6/6 [==============================] - 0s 6ms/step - loss: 0.1598 - accuracy: 0.9297\n",
      "Epoch 344/400\n",
      "6/6 [==============================] - 0s 6ms/step - loss: 0.1223 - accuracy: 0.9551\n",
      "Epoch 345/400\n",
      "6/6 [==============================] - 0s 33ms/step - loss: 0.1076 - accuracy: 0.9531\n",
      "Epoch 346/400\n",
      "6/6 [==============================] - 0s 13ms/step - loss: 0.1086 - accuracy: 0.9473\n",
      "Epoch 347/400\n",
      "6/6 [==============================] - 0s 34ms/step - loss: 0.0990 - accuracy: 0.9512\n",
      "Epoch 348/400\n",
      "6/6 [==============================] - 0s 7ms/step - loss: 0.1296 - accuracy: 0.9531\n",
      "Epoch 349/400\n",
      "6/6 [==============================] - 0s 6ms/step - loss: 0.1188 - accuracy: 0.9492\n",
      "Epoch 350/400\n",
      "6/6 [==============================] - 0s 7ms/step - loss: 0.1555 - accuracy: 0.9316\n",
      "Epoch 351/400\n",
      "6/6 [==============================] - 0s 16ms/step - loss: 0.1444 - accuracy: 0.9453\n",
      "Epoch 352/400\n",
      "6/6 [==============================] - 0s 5ms/step - loss: 0.1172 - accuracy: 0.9609\n",
      "Epoch 353/400\n",
      "6/6 [==============================] - 0s 13ms/step - loss: 0.1332 - accuracy: 0.9414\n",
      "Epoch 354/400\n",
      "6/6 [==============================] - 0s 6ms/step - loss: 0.1202 - accuracy: 0.9453\n",
      "Epoch 355/400\n",
      "6/6 [==============================] - 0s 7ms/step - loss: 0.1162 - accuracy: 0.9434\n",
      "Epoch 356/400\n",
      "6/6 [==============================] - 0s 7ms/step - loss: 0.1364 - accuracy: 0.9492\n",
      "Epoch 357/400\n",
      "6/6 [==============================] - 0s 5ms/step - loss: 0.1224 - accuracy: 0.9570\n",
      "Epoch 358/400\n",
      "6/6 [==============================] - 0s 8ms/step - loss: 0.1161 - accuracy: 0.9512\n",
      "Epoch 359/400\n",
      "6/6 [==============================] - 0s 6ms/step - loss: 0.1105 - accuracy: 0.9551\n",
      "Epoch 360/400\n",
      "6/6 [==============================] - 0s 6ms/step - loss: 0.0989 - accuracy: 0.9551\n",
      "Epoch 361/400\n",
      "6/6 [==============================] - 0s 8ms/step - loss: 0.0973 - accuracy: 0.9551\n",
      "Epoch 362/400\n",
      "6/6 [==============================] - 0s 6ms/step - loss: 0.1177 - accuracy: 0.9531\n",
      "Epoch 363/400\n",
      "6/6 [==============================] - 0s 4ms/step - loss: 0.1118 - accuracy: 0.9570\n",
      "Epoch 364/400\n",
      "6/6 [==============================] - 0s 7ms/step - loss: 0.1138 - accuracy: 0.9590\n",
      "Epoch 365/400\n",
      "6/6 [==============================] - 0s 6ms/step - loss: 0.1300 - accuracy: 0.9414\n",
      "Epoch 366/400\n",
      "6/6 [==============================] - 0s 6ms/step - loss: 0.1551 - accuracy: 0.9355\n",
      "Epoch 367/400\n",
      "6/6 [==============================] - 0s 5ms/step - loss: 0.1344 - accuracy: 0.9453\n",
      "Epoch 368/400\n",
      "6/6 [==============================] - 0s 7ms/step - loss: 0.1190 - accuracy: 0.9512\n",
      "Epoch 369/400\n",
      "6/6 [==============================] - 0s 5ms/step - loss: 0.1215 - accuracy: 0.9453\n",
      "Epoch 370/400\n",
      "6/6 [==============================] - 0s 6ms/step - loss: 0.1049 - accuracy: 0.9512\n",
      "Epoch 371/400\n",
      "6/6 [==============================] - 0s 5ms/step - loss: 0.1142 - accuracy: 0.9551\n",
      "Epoch 372/400\n",
      "6/6 [==============================] - 0s 6ms/step - loss: 0.1141 - accuracy: 0.9590\n",
      "Epoch 373/400\n",
      "6/6 [==============================] - 0s 8ms/step - loss: 0.1166 - accuracy: 0.9453\n",
      "Epoch 374/400\n",
      "6/6 [==============================] - 0s 6ms/step - loss: 0.1131 - accuracy: 0.9492\n",
      "Epoch 375/400\n",
      "6/6 [==============================] - 0s 19ms/step - loss: 0.1102 - accuracy: 0.9551\n",
      "Epoch 376/400\n",
      "6/6 [==============================] - 0s 6ms/step - loss: 0.1099 - accuracy: 0.9590\n",
      "Epoch 377/400\n",
      "6/6 [==============================] - 0s 7ms/step - loss: 0.1218 - accuracy: 0.9492\n",
      "Epoch 378/400\n",
      "6/6 [==============================] - 0s 6ms/step - loss: 0.1358 - accuracy: 0.9395\n",
      "Epoch 379/400\n",
      "6/6 [==============================] - 0s 6ms/step - loss: 0.1222 - accuracy: 0.9512\n",
      "Epoch 380/400\n",
      "6/6 [==============================] - 0s 7ms/step - loss: 0.1159 - accuracy: 0.9492\n",
      "Epoch 381/400\n",
      "6/6 [==============================] - 0s 6ms/step - loss: 0.1227 - accuracy: 0.9492\n",
      "Epoch 382/400\n",
      "6/6 [==============================] - 0s 19ms/step - loss: 0.1112 - accuracy: 0.9453\n",
      "Epoch 383/400\n",
      "6/6 [==============================] - 0s 32ms/step - loss: 0.1159 - accuracy: 0.9512\n",
      "Epoch 384/400\n",
      "6/6 [==============================] - 0s 7ms/step - loss: 0.1125 - accuracy: 0.9473\n",
      "Epoch 385/400\n",
      "6/6 [==============================] - 0s 10ms/step - loss: 0.1206 - accuracy: 0.9492\n",
      "Epoch 386/400\n",
      "6/6 [==============================] - 0s 10ms/step - loss: 0.1223 - accuracy: 0.9512\n",
      "Epoch 387/400\n",
      "6/6 [==============================] - 0s 7ms/step - loss: 0.1200 - accuracy: 0.9512\n",
      "Epoch 388/400\n",
      "6/6 [==============================] - 0s 7ms/step - loss: 0.1011 - accuracy: 0.9629\n",
      "Epoch 389/400\n",
      "6/6 [==============================] - 0s 7ms/step - loss: 0.0949 - accuracy: 0.9531\n",
      "Epoch 390/400\n",
      "6/6 [==============================] - 0s 6ms/step - loss: 0.0934 - accuracy: 0.9570\n",
      "Epoch 391/400\n",
      "6/6 [==============================] - 0s 5ms/step - loss: 0.1146 - accuracy: 0.9668\n",
      "Epoch 392/400\n",
      "6/6 [==============================] - 0s 7ms/step - loss: 0.1126 - accuracy: 0.9551\n",
      "Epoch 393/400\n",
      "6/6 [==============================] - 0s 4ms/step - loss: 0.1005 - accuracy: 0.9531\n",
      "Epoch 394/400\n",
      "6/6 [==============================] - 0s 7ms/step - loss: 0.1107 - accuracy: 0.9512\n",
      "Epoch 395/400\n",
      "6/6 [==============================] - 0s 7ms/step - loss: 0.1154 - accuracy: 0.9492\n",
      "Epoch 396/400\n",
      "6/6 [==============================] - 0s 6ms/step - loss: 0.1113 - accuracy: 0.9531\n",
      "Epoch 397/400\n",
      "6/6 [==============================] - 0s 5ms/step - loss: 0.1192 - accuracy: 0.9492\n",
      "Epoch 398/400\n",
      "6/6 [==============================] - 0s 9ms/step - loss: 0.1087 - accuracy: 0.9551\n",
      "Epoch 399/400\n",
      "6/6 [==============================] - 0s 7ms/step - loss: 0.1010 - accuracy: 0.9590\n",
      "Epoch 400/400\n",
      "6/6 [==============================] - 0s 6ms/step - loss: 0.1066 - accuracy: 0.9590\n"
     ]
    }
   ],
   "source": [
    "# Fitting the ANN model\n",
    "start_n = time.time()\n",
    "model_deep.fit(X_train, y_train, batch_size=100, epochs=400)\n",
    "end_n = time.time()"
   ]
  },
  {
   "cell_type": "code",
   "execution_count": 188,
   "metadata": {},
   "outputs": [
    {
     "name": "stdout",
     "output_type": "stream",
     "text": [
      "Execution time:  28.512630701065063 s\n"
     ]
    }
   ],
   "source": [
    "print(\"Execution time: \",(end_n-start_n), \"s\")"
   ]
  },
  {
   "cell_type": "code",
   "execution_count": 186,
   "metadata": {},
   "outputs": [
    {
     "name": "stdout",
     "output_type": "stream",
     "text": [
      "2/2 [==============================] - 0s 4ms/step\n",
      "Accuracy: 96.49122807017544%\n"
     ]
    }
   ],
   "source": [
    "# Obtaining test set accuracy score\n",
    "cm = 0\n",
    "y_pred = model_deep.predict(X_test)\n",
    "y_pred = (y_pred > 0.50)\n",
    "cm = confusion_matrix(y_test, y_pred)\n",
    "print(\"Accuracy: {}%\".format(((cm[0][0] + cm[1][1])/len(y_test))*100))"
   ]
  },
  {
   "cell_type": "code",
   "execution_count": 191,
   "metadata": {},
   "outputs": [
    {
     "data": {
      "text/plain": [
       "<AxesSubplot: >"
      ]
     },
     "execution_count": 191,
     "metadata": {},
     "output_type": "execute_result"
    },
    {
     "data": {
      "image/png": "[encoded data removed]",
      "text/plain": [
       "<Figure size 500x500 with 2 Axes>"
      ]
     },
     "metadata": {},
     "output_type": "display_data"
    }
   ],
   "source": [
    "# Plotting confidence matrix\n",
    "cat = ['Benign - 0', 'Malignant - 1']\n",
    "sns.heatmap(cm, annot = True, xticklabels= cat, yticklabels = cat, cmap = 'Blues')"
   ]
  },
  {
   "cell_type": "markdown",
   "metadata": {},
   "source": [
    "### Conclusions\n",
    "As we see both methods can yield similar results. In the particular case ANN architecture gave 1 missclassification case more than Supporter Vector Machine model. \n",
    "Execution time of coarse search through multiple models plus fine grid-search of the best model took 137 seconds. On the same machine ANN fitting took 29 seconds. However preparing and testing multiple architectures of neural network to find one working properly on this particular dataset took significant amount of time, while searching and fitting through standard models was just running simple search functions. It is necessary to create similar methods for looping through multiple neural network architecture to compare both methods in terms of exectution time.\n",
    "It might be more beneficial to use simpler models first on small datasets like this as neural networks tend to work better with large training input sizes in general."
   ]
  }
 ],
 "metadata": {
  "kernelspec": {
   "display_name": "Python 3.8.10 ('tidytuesday': venv)",
   "language": "python",
   "name": "python3"
  },
  "language_info": {
   "codemirror_mode": {
    "name": "ipython",
    "version": 3
   },
   "file_extension": ".py",
   "mimetype": "text/x-python",
   "name": "python",
   "nbconvert_exporter": "python",
   "pygments_lexer": "ipython3",
   "version": "3.8.10"
  },
  "orig_nbformat": 4,
  "vscode": {
   "interpreter": {
    "hash": "1e4302797a0355ffb9316b6127aeacf640f4df0a48ab298c6ef6ab8b269c00a5"
   }
  }
 },
 "nbformat": 4,
 "nbformat_minor": 2
}
